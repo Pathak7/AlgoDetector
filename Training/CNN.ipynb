{
 "cells": [
  {
   "cell_type": "code",
   "execution_count": 37,
   "metadata": {},
   "outputs": [],
   "source": [
    "import pandas as pd \n",
    "df=pd.read_csv(\"CNBSRandomm.csv\");\n",
    "import numpy as np\n",
    "import matplotlib.pyplot as plt\n",
    "%matplotlib inline"
   ]
  },
  {
   "cell_type": "code",
   "execution_count": 38,
   "metadata": {},
   "outputs": [
    {
     "name": "stdout",
     "output_type": "stream",
     "text": [
      "                                                code  tag\n",
      "0  35 105 110 99 108 117 100 101 60 98 105 116 11...    0\n",
      "1  35 105 110 99 108 117 100 101 60 98 105 116 11...    0\n",
      "2  35 105 110 99 108 117 100 101 60 98 105 116 11...    0\n",
      "3  35 105 110 99 108 117 100 101 60 98 105 116 11...    0\n",
      "4  35 105 110 99 108 117 100 101 60 98 105 116 11...    0\n"
     ]
    }
   ],
   "source": [
    "df.head(5)\n",
    "tc=500;\n",
    "tc=tc+1\n",
    "print(df.head())"
   ]
  },
  {
   "cell_type": "code",
   "execution_count": 39,
   "metadata": {},
   "outputs": [],
   "source": [
    "trainX,train_Y=df['code'],df['tag']"
   ]
  },
  {
   "cell_type": "code",
   "execution_count": 40,
   "metadata": {},
   "outputs": [
    {
     "data": {
      "text/plain": [
       "numpy.float32"
      ]
     },
     "execution_count": 40,
     "metadata": {},
     "output_type": "execute_result"
    }
   ],
   "source": [
    "tmp=[]\n",
    "for i in trainX:\n",
    "    k=i.split()\n",
    "    \n",
    "        \n",
    "    a=np.array(k)\n",
    "    a=a.astype('float32')\n",
    "    \n",
    "    a=a.reshape(tc,1)\n",
    "    tmp.append(a)\n",
    "train_X=np.array(tmp)\n",
    "train_X.shape\n",
    "type(train_X[1][1][0])\n",
    "\n"
   ]
  },
  {
   "cell_type": "code",
   "execution_count": 41,
   "metadata": {},
   "outputs": [
    {
     "data": {
      "text/plain": [
       "(264, 501, 1)"
      ]
     },
     "execution_count": 41,
     "metadata": {},
     "output_type": "execute_result"
    }
   ],
   "source": [
    "\n",
    "\n",
    "train_X.shape"
   ]
  },
  {
   "cell_type": "code",
   "execution_count": 42,
   "metadata": {},
   "outputs": [
    {
     "data": {
      "text/plain": [
       "array([[[0.22580644],\n",
       "        [0.67741936],\n",
       "        [0.7096774 ],\n",
       "        ...,\n",
       "        [0.09032258],\n",
       "        [0.7096774 ],\n",
       "        [0.36129034]],\n",
       "\n",
       "       [[0.22580644],\n",
       "        [0.67741936],\n",
       "        [0.7096774 ],\n",
       "        ...,\n",
       "        [0.8       ],\n",
       "        [0.12903225],\n",
       "        [0.11612903]],\n",
       "\n",
       "       [[0.22580644],\n",
       "        [0.67741936],\n",
       "        [0.7096774 ],\n",
       "        ...,\n",
       "        [0.07741936],\n",
       "        [0.02580645],\n",
       "        [0.38064516]],\n",
       "\n",
       "       ...,\n",
       "\n",
       "       [[0.22580644],\n",
       "        [0.67741936],\n",
       "        [0.7096774 ],\n",
       "        ...,\n",
       "        [0.7290323 ],\n",
       "        [0.6516129 ],\n",
       "        [0.22580644]],\n",
       "\n",
       "       [[0.22580644],\n",
       "        [0.67741936],\n",
       "        [0.7096774 ],\n",
       "        ...,\n",
       "        [0.8967742 ],\n",
       "        [0.43225807],\n",
       "        [0.78064513]],\n",
       "\n",
       "       [[0.22580644],\n",
       "        [0.67741936],\n",
       "        [0.7096774 ],\n",
       "        ...,\n",
       "        [0.61935484],\n",
       "        [0.7612903 ],\n",
       "        [0.42580646]]], dtype=float32)"
      ]
     },
     "execution_count": 42,
     "metadata": {},
     "output_type": "execute_result"
    }
   ],
   "source": [
    "train_X=train_X/155 \n",
    "train_X"
   ]
  },
  {
   "cell_type": "code",
   "execution_count": 43,
   "metadata": {},
   "outputs": [
    {
     "data": {
      "text/plain": [
       "(264, 501, 1, 1)"
      ]
     },
     "execution_count": 43,
     "metadata": {},
     "output_type": "execute_result"
    }
   ],
   "source": [
    "train_X = train_X.reshape(-1, tc,1, 1)\n",
    "train_X.shape"
   ]
  },
  {
   "cell_type": "code",
   "execution_count": 44,
   "metadata": {},
   "outputs": [],
   "source": [
    "from keras.utils import to_categorical"
   ]
  },
  {
   "cell_type": "code",
   "execution_count": 45,
   "metadata": {},
   "outputs": [
    {
     "name": "stdout",
     "output_type": "stream",
     "text": [
      "Original label: 0\n",
      "After conversion to one-hot: [1. 0.]\n"
     ]
    }
   ],
   "source": [
    "train_Y_one_hot = to_categorical(train_Y)\n",
    "#test_Y_one_hot = to_categorical(test_Y)\n",
    "\n",
    "# Display the change for category label using one-hot encoding\n",
    "print('Original label:', train_Y[2])\n",
    "print('After conversion to one-hot:', train_Y_one_hot[2])\n"
   ]
  },
  {
   "cell_type": "code",
   "execution_count": 46,
   "metadata": {},
   "outputs": [],
   "source": [
    "from sklearn.model_selection import train_test_split\n",
    "train_X,valid_X,train_label,valid_label = train_test_split(train_X, train_Y_one_hot, test_size=0.1, random_state=13)"
   ]
  },
  {
   "cell_type": "code",
   "execution_count": 47,
   "metadata": {},
   "outputs": [
    {
     "data": {
      "text/plain": [
       "((237, 501, 1, 1), (27, 501, 1, 1), (237, 2), (27, 2))"
      ]
     },
     "execution_count": 47,
     "metadata": {},
     "output_type": "execute_result"
    }
   ],
   "source": [
    "train_X.shape,valid_X.shape,train_label.shape,valid_label.shape\n"
   ]
  },
  {
   "cell_type": "code",
   "execution_count": 48,
   "metadata": {},
   "outputs": [],
   "source": [
    "import keras\n",
    "from keras.models import Sequential,Input,Model\n",
    "from keras.layers import Dense, Dropout, Flatten\n",
    "from keras.layers import Conv2D, MaxPooling2D\n",
    "from keras.layers.normalization import BatchNormalization\n",
    "from keras.layers.advanced_activations import LeakyReLU"
   ]
  },
  {
   "cell_type": "code",
   "execution_count": 49,
   "metadata": {},
   "outputs": [],
   "source": [
    "batch_size = 64\n",
    "epochs = 20\n",
    "num_classes = 2"
   ]
  },
  {
   "cell_type": "code",
   "execution_count": 50,
   "metadata": {},
   "outputs": [],
   "source": [
    "binary_model = Sequential()\n",
    "binary_model.add(Conv2D(16, kernel_size=(4, 1),activation='linear',input_shape=(tc,1,1),padding='same'))\n",
    "binary_model.add(LeakyReLU(alpha=0.1))\n",
    "binary_model.add(MaxPooling2D((2, 1),padding='same'))\n",
    "binary_model.add(Dropout(0.2))\n",
    "binary_model.add(Conv2D(32, (4, 1), activation='linear',padding='same'))\n",
    "binary_model.add(LeakyReLU(alpha=0.1))\n",
    "binary_model.add(MaxPooling2D(pool_size=(2, 1),padding='same'))\n",
    "binary_model.add(Dropout(0.2))\n",
    "binary_model.add(Flatten())\n",
    "binary_model.add(Dense(128, activation='linear'))\n",
    "binary_model.add(LeakyReLU(alpha=0.1))                  \n",
    "binary_model.add(Dense(num_classes, activation='softmax'))"
   ]
  },
  {
   "cell_type": "code",
   "execution_count": 51,
   "metadata": {},
   "outputs": [],
   "source": [
    "binary_model.compile(loss=keras.losses.categorical_crossentropy, optimizer=keras.optimizers.Adam(),metrics=['accuracy'])"
   ]
  },
  {
   "cell_type": "code",
   "execution_count": 52,
   "metadata": {},
   "outputs": [
    {
     "name": "stdout",
     "output_type": "stream",
     "text": [
      "_________________________________________________________________\n",
      "Layer (type)                 Output Shape              Param #   \n",
      "=================================================================\n",
      "conv2d_3 (Conv2D)            (None, 501, 1, 16)        80        \n",
      "_________________________________________________________________\n",
      "leaky_re_lu_4 (LeakyReLU)    (None, 501, 1, 16)        0         \n",
      "_________________________________________________________________\n",
      "max_pooling2d_3 (MaxPooling2 (None, 251, 1, 16)        0         \n",
      "_________________________________________________________________\n",
      "dropout_3 (Dropout)          (None, 251, 1, 16)        0         \n",
      "_________________________________________________________________\n",
      "conv2d_4 (Conv2D)            (None, 251, 1, 32)        2080      \n",
      "_________________________________________________________________\n",
      "leaky_re_lu_5 (LeakyReLU)    (None, 251, 1, 32)        0         \n",
      "_________________________________________________________________\n",
      "max_pooling2d_4 (MaxPooling2 (None, 126, 1, 32)        0         \n",
      "_________________________________________________________________\n",
      "dropout_4 (Dropout)          (None, 126, 1, 32)        0         \n",
      "_________________________________________________________________\n",
      "flatten_2 (Flatten)          (None, 4032)              0         \n",
      "_________________________________________________________________\n",
      "dense_3 (Dense)              (None, 128)               516224    \n",
      "_________________________________________________________________\n",
      "leaky_re_lu_6 (LeakyReLU)    (None, 128)               0         \n",
      "_________________________________________________________________\n",
      "dense_4 (Dense)              (None, 2)                 258       \n",
      "=================================================================\n",
      "Total params: 518,642\n",
      "Trainable params: 518,642\n",
      "Non-trainable params: 0\n",
      "_________________________________________________________________\n"
     ]
    }
   ],
   "source": [
    "binary_model.summary()"
   ]
  },
  {
   "cell_type": "code",
   "execution_count": 53,
   "metadata": {},
   "outputs": [
    {
     "name": "stdout",
     "output_type": "stream",
     "text": [
      "Train on 237 samples, validate on 27 samples\n",
      "Epoch 1/20\n",
      "237/237 [==============================] - 1s 3ms/step - loss: 0.8505 - acc: 0.4810 - val_loss: 0.6878 - val_acc: 0.5556\n",
      "Epoch 2/20\n",
      "237/237 [==============================] - 0s 1ms/step - loss: 0.7601 - acc: 0.4515 - val_loss: 0.6887 - val_acc: 0.5556\n",
      "Epoch 3/20\n",
      "237/237 [==============================] - 0s 1ms/step - loss: 0.7135 - acc: 0.5232 - val_loss: 0.6993 - val_acc: 0.4444\n",
      "Epoch 4/20\n",
      "237/237 [==============================] - 0s 1ms/step - loss: 0.7205 - acc: 0.5485 - val_loss: 0.7105 - val_acc: 0.4444\n",
      "Epoch 5/20\n",
      "237/237 [==============================] - 0s 2ms/step - loss: 0.6966 - acc: 0.5485 - val_loss: 0.7183 - val_acc: 0.4444\n",
      "Epoch 6/20\n",
      "237/237 [==============================] - 0s 1ms/step - loss: 0.6930 - acc: 0.5485 - val_loss: 0.7179 - val_acc: 0.4444\n",
      "Epoch 7/20\n",
      "237/237 [==============================] - 0s 1ms/step - loss: 0.6994 - acc: 0.5443 - val_loss: 0.7078 - val_acc: 0.4444\n",
      "Epoch 8/20\n",
      "237/237 [==============================] - 0s 1ms/step - loss: 0.7016 - acc: 0.5401 - val_loss: 0.6989 - val_acc: 0.4444\n",
      "Epoch 9/20\n",
      "237/237 [==============================] - 0s 1ms/step - loss: 0.6922 - acc: 0.5443 - val_loss: 0.6945 - val_acc: 0.4444\n",
      "Epoch 10/20\n",
      "237/237 [==============================] - 0s 2ms/step - loss: 0.6682 - acc: 0.5527 - val_loss: 0.6929 - val_acc: 0.4444\n",
      "Epoch 11/20\n",
      "237/237 [==============================] - 0s 1ms/step - loss: 0.6660 - acc: 0.5527 - val_loss: 0.6960 - val_acc: 0.4444\n",
      "Epoch 12/20\n",
      "237/237 [==============================] - 0s 1ms/step - loss: 0.6606 - acc: 0.5527 - val_loss: 0.6999 - val_acc: 0.4444\n",
      "Epoch 13/20\n",
      "237/237 [==============================] - 0s 1ms/step - loss: 0.6782 - acc: 0.5485 - val_loss: 0.7032 - val_acc: 0.4444\n",
      "Epoch 14/20\n",
      "237/237 [==============================] - 0s 1ms/step - loss: 0.6785 - acc: 0.5865 - val_loss: 0.6795 - val_acc: 0.5556\n",
      "Epoch 15/20\n",
      "237/237 [==============================] - 0s 1ms/step - loss: 0.6478 - acc: 0.8059 - val_loss: 0.6818 - val_acc: 0.5185\n",
      "Epoch 16/20\n",
      "237/237 [==============================] - 0s 2ms/step - loss: 0.6364 - acc: 0.6287 - val_loss: 0.6828 - val_acc: 0.5185\n",
      "Epoch 17/20\n",
      "237/237 [==============================] - 0s 1ms/step - loss: 0.6180 - acc: 0.6160 - val_loss: 0.6628 - val_acc: 0.5926\n",
      "Epoch 18/20\n",
      "237/237 [==============================] - 0s 1ms/step - loss: 0.6151 - acc: 0.7004 - val_loss: 0.6532 - val_acc: 0.5926\n",
      "Epoch 19/20\n",
      "237/237 [==============================] - 0s 1ms/step - loss: 0.6005 - acc: 0.6835 - val_loss: 0.6571 - val_acc: 0.5185\n",
      "Epoch 20/20\n",
      "237/237 [==============================] - 0s 1ms/step - loss: 0.5707 - acc: 0.8228 - val_loss: 0.6327 - val_acc: 0.7037\n"
     ]
    }
   ],
   "source": [
    "binary_train = binary_model.fit(train_X, train_label, batch_size=batch_size,epochs=epochs,verbose=1,validation_data=(valid_X, valid_label))"
   ]
  },
  {
   "cell_type": "code",
   "execution_count": 54,
   "metadata": {},
   "outputs": [],
   "source": [
    "test_eval =binary_model.evaluate(train_X, train_label, verbose=0)"
   ]
  },
  {
   "cell_type": "code",
   "execution_count": 55,
   "metadata": {},
   "outputs": [
    {
     "name": "stdout",
     "output_type": "stream",
     "text": [
      "Test loss: 0.5334178910979742\n",
      "Test accuracy: 0.890295358649789\n"
     ]
    }
   ],
   "source": [
    "print('Test loss:', test_eval[0])\n",
    "print('Test accuracy:', test_eval[1])"
   ]
  },
  {
   "cell_type": "code",
   "execution_count": 56,
   "metadata": {},
   "outputs": [
    {
     "name": "stdout",
     "output_type": "stream",
     "text": [
      "[[0.5328235  0.4671765 ]\n",
      " [0.52321    0.47679   ]\n",
      " [0.56464773 0.43535227]\n",
      " [0.60225904 0.39774096]\n",
      " [0.5527639  0.44723612]\n",
      " [0.56971854 0.43028137]\n",
      " [0.5856899  0.41431013]\n",
      " [0.4917581  0.50824183]\n",
      " [0.4992258  0.5007742 ]\n",
      " [0.5582332  0.44176686]\n",
      " [0.45394087 0.5460592 ]\n",
      " [0.44409895 0.55590105]\n",
      " [0.5559463  0.4440537 ]\n",
      " [0.52223355 0.47776642]\n",
      " [0.63880616 0.36119384]\n",
      " [0.5741342  0.42586586]\n",
      " [0.45464653 0.54535353]\n",
      " [0.3711997  0.6288003 ]\n",
      " [0.6301791  0.3698209 ]\n",
      " [0.5055015  0.4944985 ]\n",
      " [0.48687682 0.5131232 ]\n",
      " [0.66527855 0.33472145]\n",
      " [0.623598   0.37640205]\n",
      " [0.50319797 0.49680206]\n",
      " [0.32894546 0.6710545 ]\n",
      " [0.48091406 0.519086  ]\n",
      " [0.5235678  0.47643223]]\n"
     ]
    }
   ],
   "source": [
    "from sklearn.metrics import classification_report\n",
    "predicted_classes=binary_model.predict(valid_X)\n",
    "print(predicted_classes)"
   ]
  },
  {
   "cell_type": "code",
   "execution_count": 57,
   "metadata": {},
   "outputs": [],
   "source": [
    "predicted_classes = np.argmax(np.round(predicted_classes),axis=1)\n"
   ]
  },
  {
   "cell_type": "code",
   "execution_count": 58,
   "metadata": {},
   "outputs": [
    {
     "data": {
      "text/plain": [
       "array([0, 0, 0, 0, 0, 0, 0, 1, 1, 0, 1, 1, 0, 0, 0, 0, 1, 1, 0, 0, 1, 0,\n",
       "       0, 0, 1, 1, 0], dtype=int64)"
      ]
     },
     "execution_count": 58,
     "metadata": {},
     "output_type": "execute_result"
    }
   ],
   "source": [
    "predicted_classes\n"
   ]
  },
  {
   "cell_type": "code",
   "execution_count": 59,
   "metadata": {},
   "outputs": [],
   "source": [
    "actual= np.argmax(np.round(valid_label),axis=1)"
   ]
  },
  {
   "cell_type": "code",
   "execution_count": 60,
   "metadata": {},
   "outputs": [
    {
     "data": {
      "text/plain": [
       "array([0, 1, 1, 1, 0, 0, 1, 1, 1, 0, 0, 1, 0, 1, 0, 0, 1, 1, 0, 1, 1, 0,\n",
       "       0, 0, 1, 1, 1], dtype=int64)"
      ]
     },
     "execution_count": 60,
     "metadata": {},
     "output_type": "execute_result"
    }
   ],
   "source": [
    "actual"
   ]
  },
  {
   "cell_type": "code",
   "execution_count": 61,
   "metadata": {},
   "outputs": [
    {
     "name": "stdout",
     "output_type": "stream",
     "text": [
      "             precision    recall  f1-score   support\n",
      "\n",
      "          0       0.92      0.61      0.73        18\n",
      "          1       0.53      0.89      0.67         9\n",
      "\n",
      "avg / total       0.79      0.70      0.71        27\n",
      "\n"
     ]
    }
   ],
   "source": [
    "from sklearn.metrics import classification_report, confusion_matrix\n",
    "\n",
    "print(classification_report(predicted_classes,actual))"
   ]
  },
  {
   "cell_type": "code",
   "execution_count": 62,
   "metadata": {},
   "outputs": [
    {
     "data": {
      "image/png": "[encoded data removed]",
      "text/plain": [
       "<Figure size 432x288 with 1 Axes>"
      ]
     },
     "metadata": {},
     "output_type": "display_data"
    },
    {
     "data": {
      "image/png": "[encoded data removed]",
      "text/plain": [
       "<Figure size 432x288 with 1 Axes>"
      ]
     },
     "metadata": {},
     "output_type": "display_data"
    }
   ],
   "source": [
    "accuracy = binary_train.history['acc']\n",
    "val_accuracy = binary_train.history['val_acc']\n",
    "loss = binary_train.history['loss']\n",
    "val_loss = binary_train.history['val_loss']\n",
    "epochs = range(len(accuracy))\n",
    "plt.plot(epochs, accuracy, 'bo', label='Training accuracy')\n",
    "plt.plot(epochs, val_accuracy, 'b', label='Validation accuracy')\n",
    "plt.title('Training and validation accuracy')\n",
    "plt.legend()\n",
    "plt.figure()\n",
    "plt.plot(epochs, loss, 'bo', label='Training loss')\n",
    "plt.plot(epochs, val_loss, 'b', label='Validation loss')\n",
    "plt.title('Training and validation loss')\n",
    "plt.legend()\n",
    "plt.show()"
   ]
  },
  {
   "cell_type": "code",
   "execution_count": 63,
   "metadata": {},
   "outputs": [],
   "source": [
    "import random \n",
    "def cleanData(c):\n",
    "    code=c\n",
    "    df1 = pd.DataFrame({'A':[code]})\n",
    "            \n",
    "    df1 = df1.replace('\\n',' ', regex=True)\n",
    "    df1 = df1.replace('\\t',' ', regex=True)\n",
    "    df1 = df1.replace('\\r',' ', regex=True)\n",
    "    df1 = df1.replace(',',' ', regex=True)\n",
    "    c=0\n",
    "    asciiCode=\"\"\n",
    "    for i in df1['A']:\n",
    "                                        c=0\n",
    "                                        for x in i:\n",
    "                                            if(c==(tc-1)):\n",
    "                                                break\n",
    "                                            try:\n",
    "                                                if(x==' '):\n",
    "                                                    continue\n",
    "                                                asciiCode=asciiCode+str(ord(x))+\" \"\n",
    "                                                #print(ord(x),end=' ')\n",
    "                                            except:\n",
    "                                                asciiCode=asciiCode+str(ord('?'))+\" \"\n",
    "                                                #print(ord('?'),end=' ')\n",
    "                                            c=c+1\n",
    "                                        while(c<=(tc-1)):\n",
    "                                            asciiCode=asciiCode+str(random.randint(1,140))+\" \"\n",
    "                                            #print(\"0\",end=' ')\n",
    "                                            c=c+1\n",
    "                                   \n",
    "    return asciiCode\n",
    "\n",
    "    \n",
    "    "
   ]
  },
  {
   "cell_type": "code",
   "execution_count": 64,
   "metadata": {},
   "outputs": [],
   "source": [
    "code=\"\"\"\n",
    "#include<bits/stdc++.h>\n",
    "int main()\n",
    "{\n",
    "int dp[6000]\n",
    "scanf(n);\n",
    "printf(n)\n",
    "for(i=0;i<=1000;i++)\n",
    "cin>>a[i];\n",
    "\n",
    "}\n",
    "}\n",
    "\n",
    "\"\"\""
   ]
  },
  {
   "cell_type": "code",
   "execution_count": 65,
   "metadata": {},
   "outputs": [],
   "source": [
    "#print(getPrediction(makeCNNReady(code)))\n"
   ]
  },
  {
   "cell_type": "code",
   "execution_count": 66,
   "metadata": {},
   "outputs": [],
   "source": [
    "def makeCNNReady(c):\n",
    "    tmp=[]\n",
    "    tmp=c.split()\n",
    "    aa=np.array(tmp)\n",
    "    aa=aa.astype('float32')\n",
    "    \n",
    "    aa=aa.reshape(tc,1)\n",
    "    aa=aa.reshape(-1,tc,1,1)\n",
    "    aa=aa/155\n",
    "    return aa\n",
    "        \n",
    "        "
   ]
  },
  {
   "cell_type": "code",
   "execution_count": 67,
   "metadata": {},
   "outputs": [],
   "source": [
    "tt=makeCNNReady(cleanData(code))\n"
   ]
  },
  {
   "cell_type": "code",
   "execution_count": 68,
   "metadata": {},
   "outputs": [
    {
     "data": {
      "text/plain": [
       "(1, 501, 1, 1)"
      ]
     },
     "execution_count": 68,
     "metadata": {},
     "output_type": "execute_result"
    }
   ],
   "source": [
    "tt.shape"
   ]
  },
  {
   "cell_type": "code",
   "execution_count": 69,
   "metadata": {},
   "outputs": [],
   "source": [
    "tt=tt/155"
   ]
  },
  {
   "cell_type": "code",
   "execution_count": 70,
   "metadata": {},
   "outputs": [],
   "source": [
    "def getPrediction(c):\n",
    "    pred=binary_model.predict(makeCNNReady(cleanData(c)))\n",
    "    print(pred)\n",
    "    #cc=np.argmax(np.round(pred),axis=1)\n",
    "    if pred[0][1]>=pred[0][0]:\n",
    "        return \"yes\"\n",
    "    else:\n",
    "        return \"no\"\n",
    "    "
   ]
  },
  {
   "cell_type": "code",
   "execution_count": 71,
   "metadata": {},
   "outputs": [
    {
     "name": "stdout",
     "output_type": "stream",
     "text": [
      "[[0.49433962 0.50566036]]\n"
     ]
    },
    {
     "data": {
      "text/plain": [
       "'yes'"
      ]
     },
     "execution_count": 71,
     "metadata": {},
     "output_type": "execute_result"
    }
   ],
   "source": [
    "getPrediction(code)"
   ]
  },
  {
   "cell_type": "code",
   "execution_count": 72,
   "metadata": {},
   "outputs": [
    {
     "name": "stdout",
     "output_type": "stream",
     "text": [
      "\n",
      "#include<bits/stdc++.h>\n",
      "int main()\n",
      "{\n",
      "int dp[6000]\n",
      "scanf(n);\n",
      "printf(n)\n",
      "for(i=0;i<=1000;i++)\n",
      "cin>>a[i];\n",
      "\n",
      "}\n",
      "}\n",
      "\n",
      "\n"
     ]
    }
   ],
   "source": [
    "print(code)"
   ]
  },
  {
   "cell_type": "code",
   "execution_count": 73,
   "metadata": {},
   "outputs": [
    {
     "name": "stdout",
     "output_type": "stream",
     "text": [
      "[[0.7381767  0.26182333]]\n"
     ]
    },
    {
     "data": {
      "text/plain": [
       "'no'"
      ]
     },
     "execution_count": 73,
     "metadata": {},
     "output_type": "execute_result"
    }
   ],
   "source": [
    "#x=makeCNNReady(cleanData(code))\n",
    "#print(x)\n",
    "getPrediction(code)"
   ]
  },
  {
   "cell_type": "code",
   "execution_count": null,
   "metadata": {},
   "outputs": [],
   "source": []
  }
 ],
 "metadata": {
  "kernelspec": {
   "display_name": "Python 3",
   "language": "python",
   "name": "python3"
  },
  "language_info": {
   "codemirror_mode": {
    "name": "ipython",
    "version": 3
   },
   "file_extension": ".py",
   "mimetype": "text/x-python",
   "name": "python",
   "nbconvert_exporter": "python",
   "pygments_lexer": "ipython3",
   "version": "3.6.2"
  }
 },
 "nbformat": 4,
 "nbformat_minor": 2
}
