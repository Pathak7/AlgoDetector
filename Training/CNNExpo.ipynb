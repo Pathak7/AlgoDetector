{
 "cells": [
  {
   "cell_type": "code",
   "execution_count": 104,
   "metadata": {},
   "outputs": [],
   "source": [
    "import pandas as pd \n",
    "df=pd.read_csv(\"CNNexpo.csv\");\n",
    "import numpy as np\n",
    "import matplotlib.pyplot as plt\n",
    "%matplotlib inline"
   ]
  },
  {
   "cell_type": "code",
   "execution_count": 105,
   "metadata": {},
   "outputs": [
    {
     "name": "stdout",
     "output_type": "stream",
     "text": [
      "                                                code  tag\n",
      "0  35 105 110 99 108 117 100 101 60 98 105 116 11...    1\n",
      "1  35 105 110 99 108 117 100 101 60 98 105 116 11...    1\n",
      "2  35 105 110 99 108 117 100 101 60 98 105 116 11...    1\n",
      "3  35 105 110 99 108 117 100 101 60 98 105 116 11...    1\n",
      "4  35 105 110 99 108 117 100 101 60 98 105 116 11...    1\n"
     ]
    }
   ],
   "source": [
    "df.head(5)\n",
    "tc=200;\n",
    "tc=tc+1\n",
    "\n",
    "print(df.head())"
   ]
  },
  {
   "cell_type": "code",
   "execution_count": 106,
   "metadata": {},
   "outputs": [],
   "source": [
    "trainX,train_Y=df['code'],df['tag']"
   ]
  },
  {
   "cell_type": "code",
   "execution_count": 107,
   "metadata": {},
   "outputs": [
    {
     "data": {
      "text/plain": [
       "numpy.float32"
      ]
     },
     "execution_count": 107,
     "metadata": {},
     "output_type": "execute_result"
    }
   ],
   "source": [
    "tmp=[]\n",
    "for i in trainX:\n",
    "    k=i.split()\n",
    "    if(len(k)==550):\n",
    "        k.append(0)\n",
    "    \n",
    "        \n",
    "    a=np.array(k)\n",
    "    a=a.astype('float32')\n",
    "    \n",
    "    \n",
    "    a=a.reshape(tc,1)\n",
    "    tmp.append(a)\n",
    "train_X=np.array(tmp)\n",
    "train_X.shape\n",
    "type(train_X[1][1][0])\n",
    "\n"
   ]
  },
  {
   "cell_type": "code",
   "execution_count": 108,
   "metadata": {},
   "outputs": [
    {
     "data": {
      "text/plain": [
       "(266, 201, 1)"
      ]
     },
     "execution_count": 108,
     "metadata": {},
     "output_type": "execute_result"
    }
   ],
   "source": [
    "\n",
    "\n",
    "train_X.shape"
   ]
  },
  {
   "cell_type": "code",
   "execution_count": 109,
   "metadata": {},
   "outputs": [
    {
     "data": {
      "text/plain": [
       "array([[[ 0.22580644],\n",
       "        [ 0.67741936],\n",
       "        [ 0.7096774 ],\n",
       "        ..., \n",
       "        [ 0.29032257],\n",
       "        [ 0.32258064],\n",
       "        [ 0.26451612]],\n",
       "\n",
       "       [[ 0.22580644],\n",
       "        [ 0.67741936],\n",
       "        [ 0.7096774 ],\n",
       "        ..., \n",
       "        [ 0.62580645],\n",
       "        [ 0.7096774 ],\n",
       "        [ 0.65806454]],\n",
       "\n",
       "       [[ 0.22580644],\n",
       "        [ 0.67741936],\n",
       "        [ 0.7096774 ],\n",
       "        ..., \n",
       "        [ 0.62580645],\n",
       "        [ 0.7096774 ],\n",
       "        [ 0.65806454]],\n",
       "\n",
       "       ..., \n",
       "       [[ 0.75483871],\n",
       "        [ 0.72258067],\n",
       "        [ 0.64516127],\n",
       "        ..., \n",
       "        [ 0.62580645],\n",
       "        [ 0.7870968 ],\n",
       "        [ 0.78064513]],\n",
       "\n",
       "       [[ 0.75483871],\n",
       "        [ 0.72258067],\n",
       "        [ 0.64516127],\n",
       "        ..., \n",
       "        [ 0.62580645],\n",
       "        [ 0.7870968 ],\n",
       "        [ 0.78064513]],\n",
       "\n",
       "       [[ 0.75483871],\n",
       "        [ 0.72258067],\n",
       "        [ 0.64516127],\n",
       "        ..., \n",
       "        [ 0.62580645],\n",
       "        [ 0.7870968 ],\n",
       "        [ 0.78064513]]], dtype=float32)"
      ]
     },
     "execution_count": 109,
     "metadata": {},
     "output_type": "execute_result"
    }
   ],
   "source": [
    "train_X=train_X/155 \n",
    "train_X"
   ]
  },
  {
   "cell_type": "code",
   "execution_count": 110,
   "metadata": {},
   "outputs": [
    {
     "data": {
      "text/plain": [
       "(266, 201, 1, 1)"
      ]
     },
     "execution_count": 110,
     "metadata": {},
     "output_type": "execute_result"
    }
   ],
   "source": [
    "train_X = train_X.reshape(-1, tc,1, 1)\n",
    "train_X.shape"
   ]
  },
  {
   "cell_type": "code",
   "execution_count": 111,
   "metadata": {},
   "outputs": [],
   "source": [
    "from keras.utils import to_categorical"
   ]
  },
  {
   "cell_type": "code",
   "execution_count": 112,
   "metadata": {},
   "outputs": [
    {
     "name": "stdout",
     "output_type": "stream",
     "text": [
      "Original label: 1\n",
      "After conversion to one-hot: [ 0.  1.]\n"
     ]
    }
   ],
   "source": [
    "train_Y_one_hot = to_categorical(train_Y)\n",
    "#test_Y_one_hot = to_categorical(test_Y)\n",
    "\n",
    "# Display the change for category label using one-hot encoding\n",
    "print('Original label:', train_Y[2])\n",
    "print('After conversion to one-hot:', train_Y_one_hot[2])\n"
   ]
  },
  {
   "cell_type": "code",
   "execution_count": 113,
   "metadata": {},
   "outputs": [],
   "source": [
    "from sklearn.model_selection import train_test_split\n",
    "train_X,valid_X,train_label,valid_label = train_test_split(train_X, train_Y_one_hot, test_size=0.15, random_state=13)"
   ]
  },
  {
   "cell_type": "code",
   "execution_count": 114,
   "metadata": {},
   "outputs": [
    {
     "data": {
      "text/plain": [
       "((226, 201, 1, 1), (40, 201, 1, 1), (226, 2), (40, 2))"
      ]
     },
     "execution_count": 114,
     "metadata": {},
     "output_type": "execute_result"
    }
   ],
   "source": [
    "train_X.shape,valid_X.shape,train_label.shape,valid_label.shape\n"
   ]
  },
  {
   "cell_type": "code",
   "execution_count": 115,
   "metadata": {},
   "outputs": [],
   "source": [
    "import keras\n",
    "from keras.models import Sequential,Input,Model\n",
    "from keras.layers import Dense, Dropout, Flatten\n",
    "from keras.layers import Conv2D, MaxPooling2D\n",
    "from keras.layers.normalization import BatchNormalization\n",
    "from keras.layers.advanced_activations import LeakyReLU"
   ]
  },
  {
   "cell_type": "code",
   "execution_count": 116,
   "metadata": {},
   "outputs": [],
   "source": [
    "batch_size = 64\n",
    "epochs = 25\n",
    "num_classes = 2"
   ]
  },
  {
   "cell_type": "code",
   "execution_count": 117,
   "metadata": {},
   "outputs": [],
   "source": [
    "binary_model = Sequential()\n",
    "binary_model.add(Conv2D(16, kernel_size=(4, 1),activation='linear',input_shape=(tc,1,1),padding='same'))\n",
    "binary_model.add(LeakyReLU(alpha=0.1))\n",
    "binary_model.add(MaxPooling2D((2, 1),padding='same'))\n",
    "binary_model.add(Dropout(0.2))\n",
    "binary_model.add(Conv2D(32, (2, 1), activation='linear',padding='same'))\n",
    "binary_model.add(LeakyReLU(alpha=0.1))\n",
    "binary_model.add(MaxPooling2D(pool_size=(2, 1),padding='same'))\n",
    "binary_model.add(Dropout(0.2))\n",
    "binary_model.add(Flatten())\n",
    "binary_model.add(Dense(128, activation='linear'))\n",
    "binary_model.add(LeakyReLU(alpha=0.1))                  \n",
    "binary_model.add(Dense(num_classes, activation='softmax'))"
   ]
  },
  {
   "cell_type": "code",
   "execution_count": 118,
   "metadata": {},
   "outputs": [],
   "source": [
    "binary_model.compile(loss=keras.losses.categorical_crossentropy, optimizer=keras.optimizers.Adam(),metrics=['accuracy'])"
   ]
  },
  {
   "cell_type": "code",
   "execution_count": 119,
   "metadata": {},
   "outputs": [
    {
     "name": "stdout",
     "output_type": "stream",
     "text": [
      "_________________________________________________________________\n",
      "Layer (type)                 Output Shape              Param #   \n",
      "=================================================================\n",
      "conv2d_5 (Conv2D)            (None, 201, 1, 16)        80        \n",
      "_________________________________________________________________\n",
      "leaky_re_lu_7 (LeakyReLU)    (None, 201, 1, 16)        0         \n",
      "_________________________________________________________________\n",
      "max_pooling2d_5 (MaxPooling2 (None, 101, 1, 16)        0         \n",
      "_________________________________________________________________\n",
      "dropout_5 (Dropout)          (None, 101, 1, 16)        0         \n",
      "_________________________________________________________________\n",
      "conv2d_6 (Conv2D)            (None, 101, 1, 32)        1056      \n",
      "_________________________________________________________________\n",
      "leaky_re_lu_8 (LeakyReLU)    (None, 101, 1, 32)        0         \n",
      "_________________________________________________________________\n",
      "max_pooling2d_6 (MaxPooling2 (None, 51, 1, 32)         0         \n",
      "_________________________________________________________________\n",
      "dropout_6 (Dropout)          (None, 51, 1, 32)         0         \n",
      "_________________________________________________________________\n",
      "flatten_3 (Flatten)          (None, 1632)              0         \n",
      "_________________________________________________________________\n",
      "dense_5 (Dense)              (None, 128)               209024    \n",
      "_________________________________________________________________\n",
      "leaky_re_lu_9 (LeakyReLU)    (None, 128)               0         \n",
      "_________________________________________________________________\n",
      "dense_6 (Dense)              (None, 2)                 258       \n",
      "=================================================================\n",
      "Total params: 210,418\n",
      "Trainable params: 210,418\n",
      "Non-trainable params: 0\n",
      "_________________________________________________________________\n"
     ]
    }
   ],
   "source": [
    "binary_model.summary()"
   ]
  },
  {
   "cell_type": "code",
   "execution_count": 120,
   "metadata": {},
   "outputs": [
    {
     "name": "stdout",
     "output_type": "stream",
     "text": [
      "Train on 226 samples, validate on 40 samples\n",
      "Epoch 1/25\n",
      "226/226 [==============================] - 1s 3ms/step - loss: 0.8583 - acc: 0.4513 - val_loss: 0.7234 - val_acc: 0.5250\n",
      "Epoch 2/25\n",
      "226/226 [==============================] - 0s 531us/step - loss: 0.7745 - acc: 0.4912 - val_loss: 0.6996 - val_acc: 0.5250\n",
      "Epoch 3/25\n",
      "226/226 [==============================] - 0s 580us/step - loss: 0.6995 - acc: 0.5133 - val_loss: 0.6951 - val_acc: 0.4750\n",
      "Epoch 4/25\n",
      "226/226 [==============================] - 0s 779us/step - loss: 0.6901 - acc: 0.5044 - val_loss: 0.6985 - val_acc: 0.4750\n",
      "Epoch 5/25\n",
      "226/226 [==============================] - 0s 549us/step - loss: 0.6854 - acc: 0.5088 - val_loss: 0.6937 - val_acc: 0.4750\n",
      "Epoch 6/25\n",
      "226/226 [==============================] - 0s 500us/step - loss: 0.6813 - acc: 0.5310 - val_loss: 0.6870 - val_acc: 0.4750\n",
      "Epoch 7/25\n",
      "226/226 [==============================] - 0s 522us/step - loss: 0.6752 - acc: 0.6504 - val_loss: 0.6829 - val_acc: 0.8750\n",
      "Epoch 8/25\n",
      "226/226 [==============================] - 0s 505us/step - loss: 0.6739 - acc: 0.6239 - val_loss: 0.6802 - val_acc: 0.6750\n",
      "Epoch 9/25\n",
      "226/226 [==============================] - 0s 491us/step - loss: 0.6708 - acc: 0.6195 - val_loss: 0.6778 - val_acc: 0.7750\n",
      "Epoch 10/25\n",
      "226/226 [==============================] - 0s 491us/step - loss: 0.6629 - acc: 0.6681 - val_loss: 0.6779 - val_acc: 0.5000\n",
      "Epoch 11/25\n",
      "226/226 [==============================] - 0s 487us/step - loss: 0.6620 - acc: 0.6106 - val_loss: 0.6732 - val_acc: 0.5000\n",
      "Epoch 12/25\n",
      "226/226 [==============================] - 0s 474us/step - loss: 0.6484 - acc: 0.6991 - val_loss: 0.6614 - val_acc: 0.7250\n",
      "Epoch 13/25\n",
      "226/226 [==============================] - 0s 496us/step - loss: 0.6397 - acc: 0.7743 - val_loss: 0.6514 - val_acc: 0.8500\n",
      "Epoch 14/25\n",
      "226/226 [==============================] - 0s 478us/step - loss: 0.6317 - acc: 0.7743 - val_loss: 0.6403 - val_acc: 0.8750\n",
      "Epoch 15/25\n",
      "226/226 [==============================] - 0s 505us/step - loss: 0.6236 - acc: 0.7655 - val_loss: 0.6359 - val_acc: 0.5750\n",
      "Epoch 16/25\n",
      "226/226 [==============================] - 0s 491us/step - loss: 0.6166 - acc: 0.7478 - val_loss: 0.6277 - val_acc: 0.5250\n",
      "Epoch 17/25\n",
      "226/226 [==============================] - 0s 474us/step - loss: 0.5952 - acc: 0.7743 - val_loss: 0.5979 - val_acc: 0.8750\n",
      "Epoch 18/25\n",
      "226/226 [==============================] - 0s 505us/step - loss: 0.5822 - acc: 0.7478 - val_loss: 0.5965 - val_acc: 0.7000\n",
      "Epoch 19/25\n",
      "226/226 [==============================] - 0s 474us/step - loss: 0.5822 - acc: 0.7168 - val_loss: 0.5758 - val_acc: 0.7250\n",
      "Epoch 20/25\n",
      "226/226 [==============================] - 0s 496us/step - loss: 0.5515 - acc: 0.7832 - val_loss: 0.5459 - val_acc: 0.8750\n",
      "Epoch 21/25\n",
      "226/226 [==============================] - 0s 491us/step - loss: 0.5445 - acc: 0.7920 - val_loss: 0.5583 - val_acc: 0.7000\n",
      "Epoch 22/25\n",
      "226/226 [==============================] - 0s 456us/step - loss: 0.5226 - acc: 0.7788 - val_loss: 0.5214 - val_acc: 0.8250\n",
      "Epoch 23/25\n",
      "226/226 [==============================] - 0s 500us/step - loss: 0.4827 - acc: 0.8584 - val_loss: 0.5065 - val_acc: 0.7750\n",
      "Epoch 24/25\n",
      "226/226 [==============================] - 0s 452us/step - loss: 0.4834 - acc: 0.8496 - val_loss: 0.4767 - val_acc: 0.8750\n",
      "Epoch 25/25\n",
      "226/226 [==============================] - 0s 491us/step - loss: 0.4583 - acc: 0.8363 - val_loss: 0.5028 - val_acc: 0.7250\n"
     ]
    }
   ],
   "source": [
    "binary_train = binary_model.fit(train_X, train_label, batch_size=batch_size,epochs=epochs,verbose=1,validation_data=(valid_X, valid_label))"
   ]
  },
  {
   "cell_type": "code",
   "execution_count": 121,
   "metadata": {},
   "outputs": [],
   "source": [
    "test_eval =binary_model.evaluate(train_X, train_label, verbose=0)"
   ]
  },
  {
   "cell_type": "code",
   "execution_count": 122,
   "metadata": {},
   "outputs": [
    {
     "name": "stdout",
     "output_type": "stream",
     "text": [
      "Test loss: 0.458401286497\n",
      "Test accuracy: 0.778761061947\n"
     ]
    }
   ],
   "source": [
    "print('Test loss:', test_eval[0])\n",
    "print('Test accuracy:', test_eval[1])"
   ]
  },
  {
   "cell_type": "code",
   "execution_count": 123,
   "metadata": {},
   "outputs": [
    {
     "data": {
      "image/png": "[encoded data removed]",
      "text/plain": [
       "<Figure size 432x288 with 1 Axes>"
      ]
     },
     "metadata": {},
     "output_type": "display_data"
    },
    {
     "data": {
      "image/png": "[encoded data removed]",
      "text/plain": [
       "<Figure size 432x288 with 1 Axes>"
      ]
     },
     "metadata": {},
     "output_type": "display_data"
    }
   ],
   "source": [
    "accuracy = binary_train.history['acc']\n",
    "val_accuracy = binary_train.history['val_acc']\n",
    "loss = binary_train.history['loss']\n",
    "val_loss = binary_train.history['val_loss']\n",
    "epochs = range(len(accuracy))\n",
    "plt.plot(epochs, accuracy, 'bo', label='Training accuracy')\n",
    "plt.plot(epochs, val_accuracy, 'b', label='Validation accuracy')\n",
    "plt.title('Training and validation accuracy')\n",
    "plt.legend()\n",
    "plt.figure()\n",
    "plt.plot(epochs, loss, 'bo', label='Training loss')\n",
    "plt.plot(epochs, val_loss, 'b', label='Validation loss')\n",
    "plt.title('Training and validation loss')\n",
    "plt.legend()\n",
    "plt.show()"
   ]
  },
  {
   "cell_type": "code",
   "execution_count": 124,
   "metadata": {},
   "outputs": [],
   "source": [
    "from sklearn.metrics import classification_report\n",
    "predicted_classes=binary_model.predict(valid_X)\n",
    "#print(predicted_classes)"
   ]
  },
  {
   "cell_type": "code",
   "execution_count": 125,
   "metadata": {},
   "outputs": [],
   "source": [
    "predicted_classes = np.argmax(np.round(predicted_classes),axis=1)\n"
   ]
  },
  {
   "cell_type": "code",
   "execution_count": 126,
   "metadata": {},
   "outputs": [
    {
     "data": {
      "text/plain": [
       "array([0, 1, 1, 1, 1, 1, 0, 1, 1, 1, 1, 1, 0, 1, 1, 1, 1, 1, 0, 1, 0, 0, 1,\n",
       "       1, 1, 0, 1, 1, 1, 1, 1, 1, 1, 0, 1, 0, 1, 1, 0, 1], dtype=int64)"
      ]
     },
     "execution_count": 126,
     "metadata": {},
     "output_type": "execute_result"
    }
   ],
   "source": [
    "predicted_classes\n"
   ]
  },
  {
   "cell_type": "code",
   "execution_count": 127,
   "metadata": {},
   "outputs": [],
   "source": [
    "actual= np.argmax(np.round(valid_label),axis=1)"
   ]
  },
  {
   "cell_type": "code",
   "execution_count": 128,
   "metadata": {},
   "outputs": [
    {
     "data": {
      "text/plain": [
       "array([0, 1, 0, 1, 1, 0, 0, 1, 0, 1, 1, 0, 0, 1, 1, 0, 0, 1, 0, 0, 0, 0, 0,\n",
       "       1, 0, 0, 1, 0, 1, 1, 1, 1, 1, 0, 1, 0, 0, 1, 0, 1], dtype=int64)"
      ]
     },
     "execution_count": 128,
     "metadata": {},
     "output_type": "execute_result"
    }
   ],
   "source": [
    "actual"
   ]
  },
  {
   "cell_type": "code",
   "execution_count": 129,
   "metadata": {},
   "outputs": [
    {
     "name": "stdout",
     "output_type": "stream",
     "text": [
      "             precision    recall  f1-score   support\n",
      "\n",
      "          0       0.48      1.00      0.65        10\n",
      "          1       1.00      0.63      0.78        30\n",
      "\n",
      "avg / total       0.87      0.72      0.74        40\n",
      "\n"
     ]
    }
   ],
   "source": [
    "from sklearn.metrics import classification_report, confusion_matrix\n",
    "\n",
    "print(classification_report(predicted_classes,actual))"
   ]
  },
  {
   "cell_type": "code",
   "execution_count": 130,
   "metadata": {},
   "outputs": [],
   "source": [
    "\n",
    "def cleanData(c):\n",
    "    code=c\n",
    "    df1 = pd.DataFrame({'A':[code]})\n",
    "            \n",
    "    df1 = df1.replace('\\n',' ', regex=True)\n",
    "    df1 = df1.replace('\\t',' ', regex=True)\n",
    "    df1 = df1.replace('\\r',' ', regex=True)\n",
    "    df1 = df1.replace(',',' ', regex=True)\n",
    "    c=0\n",
    "    tmp=\"\"\n",
    "    for i in df1['A']:\n",
    "                c=0\n",
    "                aa=i.split()\n",
    "                ff=0\n",
    "                #print(aa)\n",
    "                for it in aa:\n",
    "                    #print(it)\n",
    "                    if (\"(ll\" in it and \"for\" not in it and \"while\" not in it) or ( \"(long\" in it and \"for\" not in it and \"while\" not in it)  or (\"(int\" in it and \"for\" not in it and \"while\" not in it)  :\n",
    "                        #print(\"First\",it)\n",
    "                        ff=1\n",
    "                        #print(\"While found at\",it)\n",
    "                    if ff==1:\n",
    "                        for xx in it:\n",
    "                            \n",
    "                            if c<=200:\n",
    "                                tmp=tmp+str(ord(xx))+' '\n",
    "                                #print(ord(xx),end=' ')\n",
    "                                c=c+1\n",
    "                    \n",
    "                while(c<=200):\n",
    "                    tmp=tmp+\"0 \"\n",
    "                    #print(0,end=' ')\n",
    "                    c=c+1\n",
    "                        \n",
    "               \n",
    "            \n",
    "    #print(ff)          \n",
    "    return tmp\n",
    "            \n",
    "    \n",
    "    "
   ]
  },
  {
   "cell_type": "code",
   "execution_count": 131,
   "metadata": {},
   "outputs": [],
   "source": [
    "def makeCNNReady(c):\n",
    "    tmp=[]\n",
    "    tmp=c.split()\n",
    "    aa=np.array(tmp)\n",
    "    aa=aa.astype('float32')\n",
    "    \n",
    "    aa=aa.reshape(tc,1)\n",
    "    aa=aa.reshape(-1,tc,1,1)\n",
    "    aa=aa/155\n",
    "    return aa"
   ]
  },
  {
   "cell_type": "code",
   "execution_count": 132,
   "metadata": {},
   "outputs": [],
   "source": [
    "def getPrediction(c):\n",
    "    pred=binary_model.predict(makeCNNReady(cleanData(c)))\n",
    "    print(pred)\n",
    "    #cc=np.argmax(np.round(pred),axis=1)\n",
    "    if pred[0][1]>=pred[0][0]:\n",
    "        return \"yes\"\n",
    "    else:\n",
    "        return \"no\""
   ]
  },
  {
   "cell_type": "code",
   "execution_count": 133,
   "metadata": {},
   "outputs": [],
   "source": [
    "code=\"\"\"\n",
    "\n",
    "#include<bits/stdc++.h>\n",
    "using namespace std;\n",
    "int main()\n",
    "{\n",
    "cout<<\"hey\";\n",
    "}\n",
    "\n",
    "\"\"\""
   ]
  },
  {
   "cell_type": "code",
   "execution_count": 134,
   "metadata": {},
   "outputs": [
    {
     "name": "stdout",
     "output_type": "stream",
     "text": [
      "[[ 0.84967834  0.15032166]]\n"
     ]
    },
    {
     "data": {
      "text/plain": [
       "'no'"
      ]
     },
     "execution_count": 134,
     "metadata": {},
     "output_type": "execute_result"
    }
   ],
   "source": [
    "#print(cleanData(code))\n",
    "getPrediction(code)\n",
    "#print(\"(long\" in \"#include<bits/stdc++.h>\")"
   ]
  },
  {
   "cell_type": "code",
   "execution_count": 135,
   "metadata": {},
   "outputs": [],
   "source": [
    "code=\"\"\"\n",
    "\n",
    "#include <iostream>\n",
    "#include <cstdio>\n",
    "#include <algorithm>\n",
    "#include <cstring>\n",
    "using namespace std;\n",
    "const int maxn = 2e5+8;\n",
    "int n,a[maxn],dp1[maxn],len1[maxn],dp2[maxn],h1[maxn],h2[maxn],len2[maxn];\n",
    "int main(){\n",
    "    scanf(\"%d\",&n);\n",
    "    for(int i = 1;i <= n;++i)\n",
    "        scanf(\"%d\",&a[i]),a[i] -= i;\n",
    "    int mx = 1;\n",
    "    memset(dp1,0x3f,sizeof(dp1));\n",
    "    for(int i = 1;i <= n;++i){\n",
    "        int idx = upper_bound(dp1+1,dp1+1+n,a[i]) - dp1;\n",
    "        dp1[idx] = a[i];\n",
    "        mx = max(mx,idx);\n",
    "        len1[i] = mx;\n",
    "        h1[i] = dp1[mx];\n",
    "    }\n",
    "    memset(dp2,0x3f,sizeof(dp2));\n",
    "    mx = 1;\n",
    "    for(int i = n;i >= 1;--i){\n",
    "        int idx = upper_bound(dp2+1,dp2+1+n,-a[i]-1) - dp2;\n",
    "        dp2[idx] = -a[i]-1;\n",
    "        mx = max(mx,idx);\n",
    "        len2[i] = mx;\n",
    "        h2[i] = dp2[mx];\n",
    "    }\n",
    "    dp1[0] = 0;dp2[0] = -2;\n",
    "    int ans = max(len1[n],len2[1]);\n",
    "    for(int i = 1;i <= n;++i){\n",
    "        //printf(\"i:%d len1:%d len2:%d dp1:%d dp2:%d\\n\",i,len1[i-1],len2[i+1],h1[i-1],h2[i+1]);\n",
    "        if(h1[i-1] <= -h2[i+1]){\n",
    "            ans = max(ans,len1[i-1]+len2[i+1]);\n",
    "        }\n",
    "    }\n",
    "    cout<<max(0,n-1-ans)<<endl;\n",
    "    return 0;\n",
    "}\n",
    "\n",
    "\n",
    "\n",
    "\n",
    "\n",
    "\n",
    "\n",
    "\n",
    "\"\"\""
   ]
  },
  {
   "cell_type": "code",
   "execution_count": 136,
   "metadata": {},
   "outputs": [
    {
     "name": "stdout",
     "output_type": "stream",
     "text": [
      "[[ 0.84967834  0.15032166]]\n"
     ]
    },
    {
     "data": {
      "text/plain": [
       "'no'"
      ]
     },
     "execution_count": 136,
     "metadata": {},
     "output_type": "execute_result"
    }
   ],
   "source": [
    "getPrediction(code)"
   ]
  },
  {
   "cell_type": "code",
   "execution_count": 137,
   "metadata": {},
   "outputs": [],
   "source": [
    "code=\"\"\"\n",
    "#include<bits/stdc++.h>\n",
    "using namespace std;\n",
    "int main()\n",
    "{\n",
    "\n",
    "while(t--)\n",
    "{\n",
    "cin>>n;\n",
    "if(n%2==0)\n",
    "cout<<\"Even\"<<endl;\n",
    "else\n",
    "cout<<\"Odd\"<<endl;\n",
    "\n",
    "}\n",
    "}\n",
    "\n",
    "\"\"\"\n",
    "\n"
   ]
  },
  {
   "cell_type": "code",
   "execution_count": 138,
   "metadata": {},
   "outputs": [
    {
     "name": "stdout",
     "output_type": "stream",
     "text": [
      "[[ 0.84967834  0.15032166]]\n"
     ]
    },
    {
     "data": {
      "text/plain": [
       "'no'"
      ]
     },
     "execution_count": 138,
     "metadata": {},
     "output_type": "execute_result"
    }
   ],
   "source": [
    "getPrediction(code)"
   ]
  },
  {
   "cell_type": "code",
   "execution_count": 139,
   "metadata": {},
   "outputs": [],
   "source": [
    "code=\"\"\"\n",
    "\n",
    "#include<iostream>\n",
    "#include<stdio.h>\n",
    "using namespace std;\n",
    "long long p(long long x,long long y)\n",
    "{\n",
    "    unsigned long long an=1;\n",
    "    const unsigned int M = 1000000007;\n",
    "    while(y>0)\n",
    "    {\n",
    "        if(y & 1)\n",
    "        {\n",
    "            an=(an*x)%M;\n",
    "        }\n",
    "    y=y/2;\n",
    "    x=(x*x)%M;\n",
    " \n",
    "    }\n",
    "    return an;\n",
    "}\n",
    "unsigned long long power(int n)\n",
    "{\n",
    "    unsigned long long fact = 1;\n",
    "    const unsigned int M = 1000000007;\n",
    "    for (int counter = 1; counter <= n; counter++)\n",
    "    {\n",
    "         fact=(fact*2)%M;\n",
    "    }\n",
    "  return fact;\n",
    "}\n",
    "int main()\n",
    "{\n",
    "int t;\n",
    "unsigned long long ans,n,q;\n",
    "cin>>t;\n",
    "while(t--)\n",
    "{\n",
    "cin>>n;\n",
    "ans=p(2,n-1);\n",
    " \n",
    "if(n<3)\n",
    "    ans=2;\n",
    "cout<<ans-2<<endl;\n",
    "}\n",
    "return 0;\n",
    "}\n",
    " \n",
    "\n",
    "\n",
    "\n",
    "\"\"\""
   ]
  },
  {
   "cell_type": "code",
   "execution_count": 140,
   "metadata": {},
   "outputs": [
    {
     "name": "stdout",
     "output_type": "stream",
     "text": [
      "[[ 0.25955552  0.74044448]]\n",
      "yes\n",
      "True\n"
     ]
    }
   ],
   "source": [
    "#print(cleanData(code))\n",
    "print(getPrediction(code))\n",
    "print(\"(long\" in \"p(long\")\n"
   ]
  },
  {
   "cell_type": "code",
   "execution_count": 141,
   "metadata": {},
   "outputs": [
    {
     "data": {
      "text/plain": [
       "'112 40 108 111 110 103 108 111 110 103 120 108 111 110 103 108 111 110 103 121 41 123 117 110 115 105 103 110 101 100 108 111 110 103 108 111 110 103 97 110 61 49 59 99 111 110 115 116 117 110 115 105 103 110 101 100 105 110 116 77 61 49 48 48 48 48 48 48 48 48 55 59 119 104 105 108 101 40 121 62 48 41 123 105 102 40 121 38 49 41 123 97 110 61 40 97 110 42 120 41 37 77 59 125 121 61 121 47 50 59 120 61 40 120 42 120 41 37 77 59 125 114 101 116 117 114 110 97 110 59 125 117 110 115 105 103 110 101 100 108 111 110 103 108 111 110 103 112 111 119 101 114 40 105 110 116 110 41 123 117 110 115 105 103 110 101 100 108 111 110 103 108 111 110 103 102 97 99 116 61 49 59 99 111 110 115 116 117 110 115 105 103 110 101 100 105 110 116 77 61 49 '"
      ]
     },
     "execution_count": 141,
     "metadata": {},
     "output_type": "execute_result"
    }
   ],
   "source": [
    "cleanData(code)\n",
    "        \n",
    "        "
   ]
  },
  {
   "cell_type": "code",
   "execution_count": 142,
   "metadata": {},
   "outputs": [],
   "source": [
    "tt=makeCNNReady(cleanData(code))\n"
   ]
  },
  {
   "cell_type": "code",
   "execution_count": 143,
   "metadata": {},
   "outputs": [
    {
     "data": {
      "text/plain": [
       "(1, 201, 1, 1)"
      ]
     },
     "execution_count": 143,
     "metadata": {},
     "output_type": "execute_result"
    }
   ],
   "source": [
    "tt.shape"
   ]
  },
  {
   "cell_type": "code",
   "execution_count": 144,
   "metadata": {},
   "outputs": [],
   "source": [
    "tt=tt/155"
   ]
  },
  {
   "cell_type": "code",
   "execution_count": null,
   "metadata": {},
   "outputs": [],
   "source": [
    "\n",
    "    "
   ]
  },
  {
   "cell_type": "code",
   "execution_count": 145,
   "metadata": {},
   "outputs": [
    {
     "name": "stdout",
     "output_type": "stream",
     "text": [
      "[[ 0.25955552  0.74044448]]\n"
     ]
    },
    {
     "data": {
      "text/plain": [
       "'yes'"
      ]
     },
     "execution_count": 145,
     "metadata": {},
     "output_type": "execute_result"
    }
   ],
   "source": [
    "getPrediction(code)"
   ]
  },
  {
   "cell_type": "code",
   "execution_count": 146,
   "metadata": {},
   "outputs": [
    {
     "name": "stdout",
     "output_type": "stream",
     "text": [
      "\n",
      "\n",
      "#include<iostream>\n",
      "#include<stdio.h>\n",
      "using namespace std;\n",
      "long long p(long long x,long long y)\n",
      "{\n",
      "    unsigned long long an=1;\n",
      "    const unsigned int M = 1000000007;\n",
      "    while(y>0)\n",
      "    {\n",
      "        if(y & 1)\n",
      "        {\n",
      "            an=(an*x)%M;\n",
      "        }\n",
      "    y=y/2;\n",
      "    x=(x*x)%M;\n",
      " \n",
      "    }\n",
      "    return an;\n",
      "}\n",
      "unsigned long long power(int n)\n",
      "{\n",
      "    unsigned long long fact = 1;\n",
      "    const unsigned int M = 1000000007;\n",
      "    for (int counter = 1; counter <= n; counter++)\n",
      "    {\n",
      "         fact=(fact*2)%M;\n",
      "    }\n",
      "  return fact;\n",
      "}\n",
      "int main()\n",
      "{\n",
      "int t;\n",
      "unsigned long long ans,n,q;\n",
      "cin>>t;\n",
      "while(t--)\n",
      "{\n",
      "cin>>n;\n",
      "ans=p(2,n-1);\n",
      " \n",
      "if(n<3)\n",
      "    ans=2;\n",
      "cout<<ans-2<<endl;\n",
      "}\n",
      "return 0;\n",
      "}\n",
      " \n",
      "\n",
      "\n",
      "\n",
      "\n"
     ]
    }
   ],
   "source": [
    "print(code)"
   ]
  },
  {
   "cell_type": "code",
   "execution_count": 147,
   "metadata": {},
   "outputs": [
    {
     "name": "stdout",
     "output_type": "stream",
     "text": [
      "[[ 0.25955552  0.74044448]]\n"
     ]
    },
    {
     "data": {
      "text/plain": [
       "'yes'"
      ]
     },
     "execution_count": 147,
     "metadata": {},
     "output_type": "execute_result"
    }
   ],
   "source": [
    "#x=makeCNNReady(cleanData(code))\n",
    "#print(x)\n",
    "getPrediction(code)"
   ]
  },
  {
   "cell_type": "code",
   "execution_count": 148,
   "metadata": {},
   "outputs": [],
   "source": [
    "code=\"\"\"\n",
    "\n",
    "\n",
    "        \n",
    "    #include<bits/stdc++.h>\n",
    "using namespace std;\n",
    "#define N 1000000007\n",
    " \n",
    "long long mod(long long base,long long exp,long long mod)\n",
    "{\n",
    "long long res;\n",
    "res = 1LL;\n",
    "while (exp > 0) {\n",
    "if (exp % 2 == 1) {\n",
    "res = (res * base) % mod;\n",
    "}\n",
    "base = (base * base) % mod;\n",
    "exp = exp / 2;\n",
    "}\n",
    "return res;\n",
    "}\n",
    " \n",
    "int main()\n",
    "{\n",
    "    int t;\n",
    "    cin >> t;\n",
    "    while(t--) {\n",
    "        long long int n;\n",
    "        cin >> n;\n",
    "        long long int ans = mod(2, n - 1, 1000000007);\n",
    "        if(n == 1)\n",
    "            cout << \"0\"<< endl;\n",
    "        else\n",
    "            cout << ans - 2 <<endl;\n",
    "    }\n",
    "    return 0;\n",
    "}\n",
    " \n",
    "\n",
    "\n",
    "\n",
    "\n",
    "\n",
    "\n",
    "\"\"\"\n"
   ]
  },
  {
   "cell_type": "code",
   "execution_count": 149,
   "metadata": {},
   "outputs": [
    {
     "data": {
      "text/plain": [
       "'109 111 100 40 108 111 110 103 108 111 110 103 98 97 115 101 108 111 110 103 108 111 110 103 101 120 112 108 111 110 103 108 111 110 103 109 111 100 41 123 108 111 110 103 108 111 110 103 114 101 115 59 114 101 115 61 49 76 76 59 119 104 105 108 101 40 101 120 112 62 48 41 123 105 102 40 101 120 112 37 50 61 61 49 41 123 114 101 115 61 40 114 101 115 42 98 97 115 101 41 37 109 111 100 59 125 98 97 115 101 61 40 98 97 115 101 42 98 97 115 101 41 37 109 111 100 59 101 120 112 61 101 120 112 47 50 59 125 114 101 116 117 114 110 114 101 115 59 125 105 110 116 109 97 105 110 40 41 123 105 110 116 116 59 99 105 110 62 62 116 59 119 104 105 108 101 40 116 45 45 41 123 108 111 110 103 108 111 110 103 105 110 116 110 59 99 105 110 62 62 110 '"
      ]
     },
     "execution_count": 149,
     "metadata": {},
     "output_type": "execute_result"
    }
   ],
   "source": [
    "cleanData(code)"
   ]
  },
  {
   "cell_type": "code",
   "execution_count": 150,
   "metadata": {},
   "outputs": [
    {
     "name": "stdout",
     "output_type": "stream",
     "text": [
      "[[ 0.29888263  0.70111734]]\n"
     ]
    },
    {
     "data": {
      "text/plain": [
       "'yes'"
      ]
     },
     "execution_count": 150,
     "metadata": {},
     "output_type": "execute_result"
    }
   ],
   "source": [
    "getPrediction(code)"
   ]
  },
  {
   "cell_type": "code",
   "execution_count": 151,
   "metadata": {},
   "outputs": [],
   "source": [
    "code=\"\"\"\n",
    "int main()\n",
    "{\n",
    "for(i=0;i<n;i++)\n",
    "cin>>a[i];\n",
    "\n",
    "build();\n",
    "}\n",
    "void updateRange(int node, int start, int end, int l, int r, int val)\n",
    "{\n",
    "    if(lazy[node] != 0)\n",
    "    { \n",
    "        // This node needs to be updated\n",
    "        tree[node] += (end - start + 1) * lazy[node];    // Update it\n",
    "        if(start != end)\n",
    "        {\n",
    "            lazy[node*2] += lazy[node];                  // Mark child as lazy\n",
    "            lazy[node*2+1] += lazy[node];                // Mark child as lazy\n",
    "        }\n",
    "        lazy[node] = 0;                                  // Reset it\n",
    "    }\n",
    "    if(start > end or start > r or end < l)              // Current segment is not within range [l, r]\n",
    "        return;\n",
    "    if(start >= l and end <= r)\n",
    "    {\n",
    "        // Segment is fully within range\n",
    "        tree[node] += (end - start + 1) * val;\n",
    "        if(start != end)\n",
    "        {\n",
    "            // Not leaf node\n",
    "            lazy[node*2] += val;\n",
    "            lazy[node*2+1] += val;\n",
    "        }\n",
    "        return;\n",
    "    }\n",
    "    int mid = (start + end) / 2;\n",
    "    updateRange(node*2, start, mid, l, r, val);        // Updating left child\n",
    "    updateRange(node*2 + 1, mid + 1, end, l, r, val);   // Updating right child\n",
    "    tree[node] = tree[node*2] + tree[node*2+1];        // Updating root with max value \n",
    "}\n",
    "\n",
    "int queryRange(int node, int start, int end, int l, int r)\n",
    "{\n",
    "    if(start > end or start > r or end < l)\n",
    "        return 0;         // Out of range\n",
    "    if(lazy[node] != 0)\n",
    "    {\n",
    "        // This node needs to be updated\n",
    "        tree[node] += (end - start + 1) * lazy[node];            // Update it\n",
    "        if(start != end)\n",
    "        {\n",
    "            lazy[node*2] += lazy[node];         // Mark child as lazy\n",
    "            lazy[node*2+1] += lazy[node];    // Mark child as lazy\n",
    "        }\n",
    "        lazy[node] = 0;                 // Reset it\n",
    "    }\n",
    "    if(start >= l and end <= r)             // Current segment is totally within range [l, r]\n",
    "        return tree[node];\n",
    "    int mid = (start + end) / 2;\n",
    "    int p1 = queryRange(node*2, start, mid, l, r);         // Query left child\n",
    "    int p2 = queryRange(node*2 + 1, mid + 1, end, l, r); // Query right child\n",
    "    return (p1 + p2);\n",
    "}\n",
    "\n",
    "\"\"\""
   ]
  },
  {
   "cell_type": "code",
   "execution_count": 152,
   "metadata": {},
   "outputs": [
    {
     "name": "stdout",
     "output_type": "stream",
     "text": [
      "Model saved\n"
     ]
    }
   ],
   "source": [
    "binary_model.save('FASTEXPO_model.h5')\n",
    "print(\"Model saved\");"
   ]
  },
  {
   "cell_type": "code",
   "execution_count": 153,
   "metadata": {},
   "outputs": [
    {
     "data": {
      "text/plain": [
       "'117 112 100 97 116 101 82 97 110 103 101 40 105 110 116 110 111 100 101 105 110 116 115 116 97 114 116 105 110 116 101 110 100 105 110 116 108 105 110 116 114 105 110 116 118 97 108 41 123 105 102 40 108 97 122 121 91 110 111 100 101 93 33 61 48 41 123 47 47 84 104 105 115 110 111 100 101 110 101 101 100 115 116 111 98 101 117 112 100 97 116 101 100 116 114 101 101 91 110 111 100 101 93 43 61 40 101 110 100 45 115 116 97 114 116 43 49 41 42 108 97 122 121 91 110 111 100 101 93 59 47 47 85 112 100 97 116 101 105 116 105 102 40 115 116 97 114 116 33 61 101 110 100 41 123 108 97 122 121 91 110 111 100 101 42 50 93 43 61 108 97 122 121 91 110 111 100 101 93 59 47 47 77 97 114 107 99 104 105 108 100 97 115 108 97 122 121 108 97 122 121 '"
      ]
     },
     "execution_count": 153,
     "metadata": {},
     "output_type": "execute_result"
    }
   ],
   "source": [
    "cleanData(code)"
   ]
  },
  {
   "cell_type": "code",
   "execution_count": 154,
   "metadata": {},
   "outputs": [
    {
     "name": "stdout",
     "output_type": "stream",
     "text": [
      "[[ 0.56071842  0.43928155]]\n"
     ]
    },
    {
     "data": {
      "text/plain": [
       "'no'"
      ]
     },
     "execution_count": 154,
     "metadata": {},
     "output_type": "execute_result"
    }
   ],
   "source": [
    "getPrediction(code)"
   ]
  },
  {
   "cell_type": "code",
   "execution_count": null,
   "metadata": {},
   "outputs": [],
   "source": []
  }
 ],
 "metadata": {
  "kernelspec": {
   "display_name": "Python 3",
   "language": "python",
   "name": "python3"
  },
  "language_info": {
   "codemirror_mode": {
    "name": "ipython",
    "version": 3
   },
   "file_extension": ".py",
   "mimetype": "text/x-python",
   "name": "python",
   "nbconvert_exporter": "python",
   "pygments_lexer": "ipython3",
   "version": "3.6.2"
  }
 },
 "nbformat": 4,
 "nbformat_minor": 2
}
