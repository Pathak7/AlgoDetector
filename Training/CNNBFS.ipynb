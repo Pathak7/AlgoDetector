{
 "cells": [
  {
   "cell_type": "code",
   "execution_count": 48,
   "metadata": {},
   "outputs": [],
   "source": [
    "import pandas as pd \n",
    "df=pd.read_csv(\"CNNBFS.csv\");\n",
    "import numpy as np\n",
    "import matplotlib.pyplot as plt\n",
    "%matplotlib inline"
   ]
  },
  {
   "cell_type": "code",
   "execution_count": 49,
   "metadata": {},
   "outputs": [
    {
     "name": "stdout",
     "output_type": "stream",
     "text": [
      "                                                code  tag\n",
      "0  35 105 110 99 108 117 100 101 60 98 105 116 11...    1\n",
      "1  35 105 110 99 108 117 100 101 60 98 105 116 11...    1\n",
      "2  35 105 110 99 108 117 100 101 60 98 105 116 11...    1\n",
      "3  35 105 110 99 108 117 100 101 60 98 105 116 11...    1\n",
      "4  35 105 110 99 108 117 100 101 60 98 105 116 11...    1\n"
     ]
    }
   ],
   "source": [
    "df.head(5)\n",
    "tc=550;\n",
    "tc=tc+1\n",
    "\n",
    "print(df.head())"
   ]
  },
  {
   "cell_type": "code",
   "execution_count": 50,
   "metadata": {},
   "outputs": [],
   "source": [
    "trainX,train_Y=df['code'],df['tag']"
   ]
  },
  {
   "cell_type": "code",
   "execution_count": 51,
   "metadata": {},
   "outputs": [
    {
     "data": {
      "text/plain": [
       "numpy.float32"
      ]
     },
     "execution_count": 51,
     "metadata": {},
     "output_type": "execute_result"
    }
   ],
   "source": [
    "tmp=[]\n",
    "for i in trainX:\n",
    "    k=i.split()\n",
    "    if(len(k)==550):\n",
    "        k.append(0)\n",
    "    \n",
    "        \n",
    "    a=np.array(k)\n",
    "    a=a.astype('float32')\n",
    "    \n",
    "    \n",
    "    a=a.reshape(tc,1)\n",
    "    tmp.append(a)\n",
    "train_X=np.array(tmp)\n",
    "train_X.shape\n",
    "type(train_X[1][1][0])\n",
    "\n"
   ]
  },
  {
   "cell_type": "code",
   "execution_count": 52,
   "metadata": {},
   "outputs": [
    {
     "data": {
      "text/plain": [
       "(169, 551, 1)"
      ]
     },
     "execution_count": 52,
     "metadata": {},
     "output_type": "execute_result"
    }
   ],
   "source": [
    "\n",
    "\n",
    "train_X.shape"
   ]
  },
  {
   "cell_type": "code",
   "execution_count": 53,
   "metadata": {},
   "outputs": [
    {
     "data": {
      "text/plain": [
       "array([[[ 0.22580644],\n",
       "        [ 0.67741936],\n",
       "        [ 0.7096774 ],\n",
       "        ..., \n",
       "        [ 0.        ],\n",
       "        [ 0.        ],\n",
       "        [ 0.        ]],\n",
       "\n",
       "       [[ 0.22580644],\n",
       "        [ 0.67741936],\n",
       "        [ 0.7096774 ],\n",
       "        ..., \n",
       "        [ 0.        ],\n",
       "        [ 0.        ],\n",
       "        [ 0.        ]],\n",
       "\n",
       "       [[ 0.22580644],\n",
       "        [ 0.67741936],\n",
       "        [ 0.7096774 ],\n",
       "        ..., \n",
       "        [ 0.        ],\n",
       "        [ 0.        ],\n",
       "        [ 0.        ]],\n",
       "\n",
       "       ..., \n",
       "       [[ 0.22580644],\n",
       "        [ 0.67741936],\n",
       "        [ 0.7096774 ],\n",
       "        ..., \n",
       "        [ 0.        ],\n",
       "        [ 0.        ],\n",
       "        [ 0.        ]],\n",
       "\n",
       "       [[ 0.22580644],\n",
       "        [ 0.67741936],\n",
       "        [ 0.7096774 ],\n",
       "        ..., \n",
       "        [ 0.        ],\n",
       "        [ 0.        ],\n",
       "        [ 0.        ]],\n",
       "\n",
       "       [[ 0.22580644],\n",
       "        [ 0.67741936],\n",
       "        [ 0.7096774 ],\n",
       "        ..., \n",
       "        [ 0.        ],\n",
       "        [ 0.        ],\n",
       "        [ 0.        ]]], dtype=float32)"
      ]
     },
     "execution_count": 53,
     "metadata": {},
     "output_type": "execute_result"
    }
   ],
   "source": [
    "train_X=train_X/155 \n",
    "train_X"
   ]
  },
  {
   "cell_type": "code",
   "execution_count": 54,
   "metadata": {},
   "outputs": [
    {
     "data": {
      "text/plain": [
       "(169, 551, 1, 1)"
      ]
     },
     "execution_count": 54,
     "metadata": {},
     "output_type": "execute_result"
    }
   ],
   "source": [
    "train_X = train_X.reshape(-1, tc,1, 1)\n",
    "train_X.shape"
   ]
  },
  {
   "cell_type": "code",
   "execution_count": 55,
   "metadata": {},
   "outputs": [],
   "source": [
    "from keras.utils import to_categorical"
   ]
  },
  {
   "cell_type": "code",
   "execution_count": 56,
   "metadata": {},
   "outputs": [
    {
     "name": "stdout",
     "output_type": "stream",
     "text": [
      "Original label: 1\n",
      "After conversion to one-hot: [ 0.  1.]\n"
     ]
    }
   ],
   "source": [
    "train_Y_one_hot = to_categorical(train_Y)\n",
    "#test_Y_one_hot = to_categorical(test_Y)\n",
    "\n",
    "# Display the change for category label using one-hot encoding\n",
    "print('Original label:', train_Y[2])\n",
    "print('After conversion to one-hot:', train_Y_one_hot[2])\n"
   ]
  },
  {
   "cell_type": "code",
   "execution_count": 57,
   "metadata": {},
   "outputs": [],
   "source": [
    "from sklearn.model_selection import train_test_split\n",
    "train_X,valid_X,train_label,valid_label = train_test_split(train_X, train_Y_one_hot, test_size=0.15, random_state=13)"
   ]
  },
  {
   "cell_type": "code",
   "execution_count": 58,
   "metadata": {},
   "outputs": [
    {
     "data": {
      "text/plain": [
       "((143, 551, 1, 1), (26, 551, 1, 1), (143, 2), (26, 2))"
      ]
     },
     "execution_count": 58,
     "metadata": {},
     "output_type": "execute_result"
    }
   ],
   "source": [
    "train_X.shape,valid_X.shape,train_label.shape,valid_label.shape\n"
   ]
  },
  {
   "cell_type": "code",
   "execution_count": 59,
   "metadata": {},
   "outputs": [],
   "source": [
    "import keras\n",
    "from keras.models import Sequential,Input,Model\n",
    "from keras.layers import Dense, Dropout, Flatten\n",
    "from keras.layers import Conv2D, MaxPooling2D\n",
    "from keras.layers.normalization import BatchNormalization\n",
    "from keras.layers.advanced_activations import LeakyReLU"
   ]
  },
  {
   "cell_type": "code",
   "execution_count": 60,
   "metadata": {},
   "outputs": [],
   "source": [
    "batch_size = 64\n",
    "epochs = 25\n",
    "num_classes = 2"
   ]
  },
  {
   "cell_type": "code",
   "execution_count": 61,
   "metadata": {},
   "outputs": [],
   "source": [
    "binary_model = Sequential()\n",
    "binary_model.add(Conv2D(16, kernel_size=(4, 1),activation='linear',input_shape=(tc,1,1),padding='same'))\n",
    "binary_model.add(LeakyReLU(alpha=0.1))\n",
    "binary_model.add(MaxPooling2D((2, 1),padding='same'))\n",
    "binary_model.add(Dropout(0.2))\n",
    "binary_model.add(Conv2D(32, (2, 1), activation='linear',padding='same'))\n",
    "binary_model.add(LeakyReLU(alpha=0.1))\n",
    "binary_model.add(MaxPooling2D(pool_size=(2, 1),padding='same'))\n",
    "binary_model.add(Dropout(0.2))\n",
    "binary_model.add(Flatten())\n",
    "binary_model.add(Dense(128, activation='linear'))\n",
    "binary_model.add(LeakyReLU(alpha=0.1))                  \n",
    "binary_model.add(Dense(num_classes, activation='softmax'))"
   ]
  },
  {
   "cell_type": "code",
   "execution_count": 62,
   "metadata": {},
   "outputs": [],
   "source": [
    "binary_model.compile(loss=keras.losses.categorical_crossentropy, optimizer=keras.optimizers.Adam(),metrics=['accuracy'])"
   ]
  },
  {
   "cell_type": "code",
   "execution_count": 63,
   "metadata": {},
   "outputs": [
    {
     "name": "stdout",
     "output_type": "stream",
     "text": [
      "_________________________________________________________________\n",
      "Layer (type)                 Output Shape              Param #   \n",
      "=================================================================\n",
      "conv2d_3 (Conv2D)            (None, 551, 1, 16)        80        \n",
      "_________________________________________________________________\n",
      "leaky_re_lu_4 (LeakyReLU)    (None, 551, 1, 16)        0         \n",
      "_________________________________________________________________\n",
      "max_pooling2d_3 (MaxPooling2 (None, 276, 1, 16)        0         \n",
      "_________________________________________________________________\n",
      "dropout_3 (Dropout)          (None, 276, 1, 16)        0         \n",
      "_________________________________________________________________\n",
      "conv2d_4 (Conv2D)            (None, 276, 1, 32)        1056      \n",
      "_________________________________________________________________\n",
      "leaky_re_lu_5 (LeakyReLU)    (None, 276, 1, 32)        0         \n",
      "_________________________________________________________________\n",
      "max_pooling2d_4 (MaxPooling2 (None, 138, 1, 32)        0         \n",
      "_________________________________________________________________\n",
      "dropout_4 (Dropout)          (None, 138, 1, 32)        0         \n",
      "_________________________________________________________________\n",
      "flatten_2 (Flatten)          (None, 4416)              0         \n",
      "_________________________________________________________________\n",
      "dense_3 (Dense)              (None, 128)               565376    \n",
      "_________________________________________________________________\n",
      "leaky_re_lu_6 (LeakyReLU)    (None, 128)               0         \n",
      "_________________________________________________________________\n",
      "dense_4 (Dense)              (None, 2)                 258       \n",
      "=================================================================\n",
      "Total params: 566,770\n",
      "Trainable params: 566,770\n",
      "Non-trainable params: 0\n",
      "_________________________________________________________________\n"
     ]
    }
   ],
   "source": [
    "binary_model.summary()"
   ]
  },
  {
   "cell_type": "code",
   "execution_count": 64,
   "metadata": {},
   "outputs": [
    {
     "name": "stdout",
     "output_type": "stream",
     "text": [
      "Train on 143 samples, validate on 26 samples\n",
      "Epoch 1/25\n",
      "143/143 [==============================] - 1s 5ms/step - loss: 0.7920 - acc: 0.4965 - val_loss: 0.6588 - val_acc: 0.6538\n",
      "Epoch 2/25\n",
      "143/143 [==============================] - 0s 2ms/step - loss: 0.6385 - acc: 0.6364 - val_loss: 0.6085 - val_acc: 0.6923\n",
      "Epoch 3/25\n",
      "143/143 [==============================] - 0s 2ms/step - loss: 0.6058 - acc: 0.6923 - val_loss: 0.6013 - val_acc: 0.6538\n",
      "Epoch 4/25\n",
      "143/143 [==============================] - 0s 2ms/step - loss: 0.5995 - acc: 0.6853 - val_loss: 0.5877 - val_acc: 0.6538\n",
      "Epoch 5/25\n",
      "143/143 [==============================] - 0s 2ms/step - loss: 0.5782 - acc: 0.6853 - val_loss: 0.5480 - val_acc: 0.6538\n",
      "Epoch 6/25\n",
      "143/143 [==============================] - 0s 2ms/step - loss: 0.5650 - acc: 0.6993 - val_loss: 0.5310 - val_acc: 0.6923\n",
      "Epoch 7/25\n",
      "143/143 [==============================] - 0s 2ms/step - loss: 0.5331 - acc: 0.6993 - val_loss: 0.5244 - val_acc: 0.6538\n",
      "Epoch 8/25\n",
      "143/143 [==============================] - 0s 2ms/step - loss: 0.5211 - acc: 0.6923 - val_loss: 0.5082 - val_acc: 0.6538\n",
      "Epoch 9/25\n",
      "143/143 [==============================] - 0s 2ms/step - loss: 0.5216 - acc: 0.7133 - val_loss: 0.4972 - val_acc: 0.6538\n",
      "Epoch 10/25\n",
      "143/143 [==============================] - 0s 2ms/step - loss: 0.5390 - acc: 0.7133 - val_loss: 0.5115 - val_acc: 0.7308\n",
      "Epoch 11/25\n",
      "143/143 [==============================] - 0s 2ms/step - loss: 0.4976 - acc: 0.7343 - val_loss: 0.4577 - val_acc: 0.7308\n",
      "Epoch 12/25\n",
      "143/143 [==============================] - 0s 2ms/step - loss: 0.5020 - acc: 0.8112 - val_loss: 0.4491 - val_acc: 0.7692\n",
      "Epoch 13/25\n",
      "143/143 [==============================] - 0s 2ms/step - loss: 0.4647 - acc: 0.7832 - val_loss: 0.4604 - val_acc: 0.7308\n",
      "Epoch 14/25\n",
      "143/143 [==============================] - 0s 2ms/step - loss: 0.4475 - acc: 0.7762 - val_loss: 0.4459 - val_acc: 0.7308\n",
      "Epoch 15/25\n",
      "143/143 [==============================] - 0s 2ms/step - loss: 0.4313 - acc: 0.7483 - val_loss: 0.4549 - val_acc: 0.7308\n",
      "Epoch 16/25\n",
      "143/143 [==============================] - 0s 2ms/step - loss: 0.4133 - acc: 0.8042 - val_loss: 0.4064 - val_acc: 0.7692\n",
      "Epoch 17/25\n",
      "143/143 [==============================] - 0s 2ms/step - loss: 0.3995 - acc: 0.8881 - val_loss: 0.4148 - val_acc: 0.7308\n",
      "Epoch 18/25\n",
      "143/143 [==============================] - 0s 2ms/step - loss: 0.3508 - acc: 0.8462 - val_loss: 0.4238 - val_acc: 0.7308\n",
      "Epoch 19/25\n",
      "143/143 [==============================] - 0s 2ms/step - loss: 0.3553 - acc: 0.8322 - val_loss: 0.3884 - val_acc: 0.8077\n",
      "Epoch 20/25\n",
      "143/143 [==============================] - 0s 2ms/step - loss: 0.3233 - acc: 0.8741 - val_loss: 0.3717 - val_acc: 0.8077\n",
      "Epoch 21/25\n",
      "143/143 [==============================] - 0s 2ms/step - loss: 0.3560 - acc: 0.8601 - val_loss: 0.4051 - val_acc: 0.7308\n",
      "Epoch 22/25\n",
      "143/143 [==============================] - 0s 2ms/step - loss: 0.3042 - acc: 0.8601 - val_loss: 0.4068 - val_acc: 0.7308\n",
      "Epoch 23/25\n",
      "143/143 [==============================] - 0s 2ms/step - loss: 0.3015 - acc: 0.9091 - val_loss: 0.3780 - val_acc: 0.8077\n",
      "Epoch 24/25\n",
      "143/143 [==============================] - 0s 2ms/step - loss: 0.2828 - acc: 0.8811 - val_loss: 0.4357 - val_acc: 0.7308\n",
      "Epoch 25/25\n",
      "143/143 [==============================] - 0s 2ms/step - loss: 0.2626 - acc: 0.9161 - val_loss: 0.3559 - val_acc: 0.8462\n"
     ]
    }
   ],
   "source": [
    "binary_train = binary_model.fit(train_X, train_label, batch_size=batch_size,epochs=epochs,verbose=1,validation_data=(valid_X, valid_label))"
   ]
  },
  {
   "cell_type": "code",
   "execution_count": 65,
   "metadata": {},
   "outputs": [],
   "source": [
    "test_eval =binary_model.evaluate(train_X, train_label, verbose=0)"
   ]
  },
  {
   "cell_type": "code",
   "execution_count": 66,
   "metadata": {},
   "outputs": [
    {
     "name": "stdout",
     "output_type": "stream",
     "text": [
      "Test loss: 0.305587570255\n",
      "Test accuracy: 0.902097902515\n"
     ]
    }
   ],
   "source": [
    "print('Test loss:', test_eval[0])\n",
    "print('Test accuracy:', test_eval[1])"
   ]
  },
  {
   "cell_type": "code",
   "execution_count": 67,
   "metadata": {},
   "outputs": [
    {
     "data": {
      "image/png": "[encoded data removed]",
      "text/plain": [
       "<Figure size 432x288 with 1 Axes>"
      ]
     },
     "metadata": {},
     "output_type": "display_data"
    },
    {
     "data": {
      "image/png": "[encoded data removed]",
      "text/plain": [
       "<Figure size 432x288 with 1 Axes>"
      ]
     },
     "metadata": {},
     "output_type": "display_data"
    }
   ],
   "source": [
    "accuracy = binary_train.history['acc']\n",
    "val_accuracy = binary_train.history['val_acc']\n",
    "loss = binary_train.history['loss']\n",
    "val_loss = binary_train.history['val_loss']\n",
    "epochs = range(len(accuracy))\n",
    "plt.plot(epochs, accuracy, 'bo', label='Training accuracy')\n",
    "plt.plot(epochs, val_accuracy, 'b', label='Validation accuracy')\n",
    "plt.title('Training and validation accuracy')\n",
    "plt.legend()\n",
    "plt.figure()\n",
    "plt.plot(epochs, loss, 'bo', label='Training loss')\n",
    "plt.plot(epochs, val_loss, 'b', label='Validation loss')\n",
    "plt.title('Training and validation loss')\n",
    "plt.legend()\n",
    "plt.show()"
   ]
  },
  {
   "cell_type": "code",
   "execution_count": 68,
   "metadata": {},
   "outputs": [],
   "source": [
    "from sklearn.metrics import classification_report\n",
    "predicted_classes=binary_model.predict(valid_X)\n",
    "#print(predicted_classes)"
   ]
  },
  {
   "cell_type": "code",
   "execution_count": 69,
   "metadata": {},
   "outputs": [],
   "source": [
    "predicted_classes = np.argmax(np.round(predicted_classes),axis=1)\n"
   ]
  },
  {
   "cell_type": "code",
   "execution_count": 70,
   "metadata": {},
   "outputs": [
    {
     "data": {
      "text/plain": [
       "array([1, 0, 1, 0, 0, 0, 1, 0, 1, 0, 1, 0, 0, 0, 0, 0, 0, 1, 0, 0, 1, 1, 1,\n",
       "       0, 0, 0], dtype=int64)"
      ]
     },
     "execution_count": 70,
     "metadata": {},
     "output_type": "execute_result"
    }
   ],
   "source": [
    "predicted_classes\n"
   ]
  },
  {
   "cell_type": "code",
   "execution_count": 71,
   "metadata": {},
   "outputs": [],
   "source": [
    "actual= np.argmax(np.round(valid_label),axis=1)"
   ]
  },
  {
   "cell_type": "code",
   "execution_count": 72,
   "metadata": {},
   "outputs": [
    {
     "data": {
      "text/plain": [
       "array([1, 0, 1, 0, 1, 1, 1, 0, 1, 0, 1, 1, 0, 0, 0, 0, 0, 0, 0, 0, 1, 1, 1,\n",
       "       0, 0, 0], dtype=int64)"
      ]
     },
     "execution_count": 72,
     "metadata": {},
     "output_type": "execute_result"
    }
   ],
   "source": [
    "actual"
   ]
  },
  {
   "cell_type": "code",
   "execution_count": 73,
   "metadata": {},
   "outputs": [
    {
     "name": "stdout",
     "output_type": "stream",
     "text": [
      "             precision    recall  f1-score   support\n",
      "\n",
      "          0       0.93      0.82      0.87        17\n",
      "          1       0.73      0.89      0.80         9\n",
      "\n",
      "avg / total       0.86      0.85      0.85        26\n",
      "\n"
     ]
    }
   ],
   "source": [
    "from sklearn.metrics import classification_report, confusion_matrix\n",
    "\n",
    "print(classification_report(predicted_classes,actual))"
   ]
  },
  {
   "cell_type": "code",
   "execution_count": 74,
   "metadata": {},
   "outputs": [],
   "source": [
    "\n",
    "def cleanData(c):\n",
    "    code=c\n",
    "    df1 = pd.DataFrame({'A':[code]})\n",
    "            \n",
    "    df1 = df1.replace('\\n',' ', regex=True)\n",
    "    df1 = df1.replace('\\t',' ', regex=True)\n",
    "    df1 = df1.replace('\\r',' ', regex=True)\n",
    "    df1 = df1.replace(',',' ', regex=True)\n",
    "    c=0\n",
    "    tmp=\"\"\n",
    "    for i in df1['A']:\n",
    "                c=0\n",
    "                aa=i.split()\n",
    "                ff=0\n",
    "                #print(aa)\n",
    "                for it in aa:\n",
    "                    if \"int\" or \"void\" in it:\n",
    "                        ff=1\n",
    "                        #print(\"While found at\",it)\n",
    "                    if ff==1:\n",
    "                        for xx in it:\n",
    "                            \n",
    "                            if c<=550:\n",
    "                                tmp=tmp+str(ord(xx))+' '\n",
    "                                #print(ord(xx),end=' ')\n",
    "                                c=c+1\n",
    "                    \n",
    "                while(c<=550):\n",
    "                    tmp=tmp+\"0 \"\n",
    "                    #print(0,end=' ')\n",
    "                    c=c+1\n",
    "                        \n",
    "               \n",
    "            \n",
    "    #print(ff)          \n",
    "    return tmp\n",
    "            \n",
    "    \n",
    "    "
   ]
  },
  {
   "cell_type": "code",
   "execution_count": 75,
   "metadata": {},
   "outputs": [],
   "source": [
    "def makeCNNReady(c):\n",
    "    tmp=[]\n",
    "    tmp=c.split()\n",
    "    aa=np.array(tmp)\n",
    "    aa=aa.astype('float32')\n",
    "    \n",
    "    aa=aa.reshape(tc,1)\n",
    "    aa=aa.reshape(-1,tc,1,1)\n",
    "    aa=aa/155\n",
    "    return aa"
   ]
  },
  {
   "cell_type": "code",
   "execution_count": 76,
   "metadata": {},
   "outputs": [],
   "source": [
    "def getPrediction(c):\n",
    "    pred=binary_model.predict(makeCNNReady(cleanData(c)))\n",
    "    print(pred)\n",
    "    #cc=np.argmax(np.round(pred),axis=1)\n",
    "    if pred[0][1]>=pred[0][0]:\n",
    "        return \"yes\"\n",
    "    else:\n",
    "        return \"no\""
   ]
  },
  {
   "cell_type": "code",
   "execution_count": 77,
   "metadata": {},
   "outputs": [],
   "source": [
    "code=\"\"\"\n",
    "#include<bits/stdc++.h>\n",
    "#define N 1005\n",
    "using namespace std;\n",
    "int n,m,S,T,to[N<<1],hd[N<<1],lk[N],cnt,d1[N],d2[N],q[N],h,t,qwq,ans;\n",
    "bool mp[N][N];\n",
    "inline void add(int u,int v)\n",
    "{mp[u][v]=1,to[++cnt]=v,hd[cnt]=lk[u],lk[u]=cnt;}\n",
    "inline void bfs(int x,int *a)\n",
    "{\n",
    "    q[h=0]=x,t=1,a[x]=0;\n",
    "    while(h<t)\n",
    "    {\n",
    "        x=q[h++];\n",
    "        for(int s,i=lk[x];i;i=hd[i])\n",
    "        if(a[s=to[i]]>a[x]+1)\n",
    "        q[t++]=s,a[s]=a[x]+1;\n",
    "    }\n",
    "}\n",
    "int u,v;\n",
    "int main()\n",
    "{\n",
    "\tscanf(\"%d%d%d%d\",&n,&m,&S,&T);\n",
    "\twhile(m--)\n",
    "    {\n",
    "        scanf(\"%d%d\",&u,&v),\n",
    "        add(u,v),add(v,u);\n",
    "    }\n",
    "    memset(d1,0x3f,sizeof d1);\n",
    "    memset(d2,0x3f,sizeof d2);\n",
    "    bfs(S,d1),bfs(T,d2);\n",
    "    qwq=d1[T];\n",
    "    for(int i=1;i<=n;i++)\n",
    "    for(int j=i+1;j<=n;j++)\n",
    "    if(!mp[i][j])\n",
    "        if(d1[i]+d2[j]+1>=qwq&&d2[i]+d1[j]+1>=qwq)\n",
    "        ans++;\n",
    "    cout<<ans;\n",
    "}\n",
    "\n",
    "\"\"\""
   ]
  },
  {
   "cell_type": "code",
   "execution_count": 78,
   "metadata": {},
   "outputs": [
    {
     "name": "stdout",
     "output_type": "stream",
     "text": [
      "[[ 0.41713935  0.58286059]]\n"
     ]
    },
    {
     "data": {
      "text/plain": [
       "'yes'"
      ]
     },
     "execution_count": 78,
     "metadata": {},
     "output_type": "execute_result"
    }
   ],
   "source": [
    "#cleanData(code)\n",
    "getPrediction(code)\n"
   ]
  },
  {
   "cell_type": "code",
   "execution_count": 79,
   "metadata": {},
   "outputs": [],
   "source": [
    "code=\"\"\"\n",
    "\n",
    "#include <iostream>\n",
    "#include <cstdio>\n",
    "#include <algorithm>\n",
    "#include <cstring>\n",
    "using namespace std;\n",
    "const int maxn = 2e5+8;\n",
    "int n,a[maxn],dp1[maxn],len1[maxn],dp2[maxn],h1[maxn],h2[maxn],len2[maxn];\n",
    "int main(){\n",
    "    scanf(\"%d\",&n);\n",
    "    for(int i = 1;i <= n;++i)\n",
    "        scanf(\"%d\",&a[i]),a[i] -= i;\n",
    "    int mx = 1;\n",
    "    memset(dp1,0x3f,sizeof(dp1));\n",
    "    for(int i = 1;i <= n;++i){\n",
    "        int idx = upper_bound(dp1+1,dp1+1+n,a[i]) - dp1;\n",
    "        dp1[idx] = a[i];\n",
    "        mx = max(mx,idx);\n",
    "        len1[i] = mx;\n",
    "        h1[i] = dp1[mx];\n",
    "    }\n",
    "    memset(dp2,0x3f,sizeof(dp2));\n",
    "    mx = 1;\n",
    "    for(int i = n;i >= 1;--i){\n",
    "        int idx = upper_bound(dp2+1,dp2+1+n,-a[i]-1) - dp2;\n",
    "        dp2[idx] = -a[i]-1;\n",
    "        mx = max(mx,idx);\n",
    "        len2[i] = mx;\n",
    "        h2[i] = dp2[mx];\n",
    "    }\n",
    "    dp1[0] = 0;dp2[0] = -2;\n",
    "    int ans = max(len1[n],len2[1]);\n",
    "    for(int i = 1;i <= n;++i){\n",
    "        //printf(\"i:%d len1:%d len2:%d dp1:%d dp2:%d\\n\",i,len1[i-1],len2[i+1],h1[i-1],h2[i+1]);\n",
    "        if(h1[i-1] <= -h2[i+1]){\n",
    "            ans = max(ans,len1[i-1]+len2[i+1]);\n",
    "        }\n",
    "    }\n",
    "    cout<<max(0,n-1-ans)<<endl;\n",
    "    return 0;\n",
    "}\n",
    "\n",
    "\n",
    "\n",
    "\n",
    "\n",
    "\n",
    "\n",
    "\n",
    "\"\"\""
   ]
  },
  {
   "cell_type": "code",
   "execution_count": 80,
   "metadata": {},
   "outputs": [
    {
     "name": "stdout",
     "output_type": "stream",
     "text": [
      "[[ 0.51729637  0.4827036 ]]\n"
     ]
    },
    {
     "data": {
      "text/plain": [
       "'no'"
      ]
     },
     "execution_count": 80,
     "metadata": {},
     "output_type": "execute_result"
    }
   ],
   "source": [
    "getPrediction(code)"
   ]
  },
  {
   "cell_type": "code",
   "execution_count": 81,
   "metadata": {},
   "outputs": [],
   "source": [
    "code=\"\"\"\n",
    "#include<bits/stdc++.h>\n",
    "using namespace std;\n",
    "int main()\n",
    "{\n",
    "\n",
    "while(t--)\n",
    "{\n",
    "cin>>n;\n",
    "if(n%2==0)\n",
    "cout<<\"Even\"<<endl;\n",
    "else\n",
    "cout<<\"Odd\"<<endl;\n",
    "\n",
    "}\n",
    "}\n",
    "\n",
    "\"\"\"\n",
    "\n"
   ]
  },
  {
   "cell_type": "code",
   "execution_count": 82,
   "metadata": {},
   "outputs": [
    {
     "name": "stdout",
     "output_type": "stream",
     "text": [
      "[[ 0.68932903  0.310671  ]]\n"
     ]
    },
    {
     "data": {
      "text/plain": [
       "'no'"
      ]
     },
     "execution_count": 82,
     "metadata": {},
     "output_type": "execute_result"
    }
   ],
   "source": [
    "getPrediction(code)"
   ]
  },
  {
   "cell_type": "code",
   "execution_count": 94,
   "metadata": {},
   "outputs": [],
   "source": [
    "code=\"\"\"\n",
    "\n",
    "\n",
    "\n",
    "\n",
    "\n",
    "\"\"\""
   ]
  },
  {
   "cell_type": "code",
   "execution_count": 95,
   "metadata": {},
   "outputs": [
    {
     "name": "stdout",
     "output_type": "stream",
     "text": [
      "[[ 0.9059701   0.09402997]]\n",
      "no\n"
     ]
    }
   ],
   "source": [
    "#print(cleanData(code))\n",
    "print(getPrediction(code))\n"
   ]
  },
  {
   "cell_type": "code",
   "execution_count": null,
   "metadata": {},
   "outputs": [],
   "source": [
    "\n",
    "        \n",
    "        "
   ]
  },
  {
   "cell_type": "code",
   "execution_count": 85,
   "metadata": {},
   "outputs": [],
   "source": [
    "tt=makeCNNReady(cleanData(code))\n"
   ]
  },
  {
   "cell_type": "code",
   "execution_count": 86,
   "metadata": {},
   "outputs": [
    {
     "data": {
      "text/plain": [
       "(1, 551, 1, 1)"
      ]
     },
     "execution_count": 86,
     "metadata": {},
     "output_type": "execute_result"
    }
   ],
   "source": [
    "tt.shape"
   ]
  },
  {
   "cell_type": "code",
   "execution_count": 87,
   "metadata": {},
   "outputs": [],
   "source": [
    "tt=tt/155"
   ]
  },
  {
   "cell_type": "code",
   "execution_count": null,
   "metadata": {},
   "outputs": [],
   "source": [
    "\n",
    "    "
   ]
  },
  {
   "cell_type": "code",
   "execution_count": 88,
   "metadata": {},
   "outputs": [
    {
     "name": "stdout",
     "output_type": "stream",
     "text": [
      "[[ 0.9059701   0.09402997]]\n"
     ]
    },
    {
     "data": {
      "text/plain": [
       "'no'"
      ]
     },
     "execution_count": 88,
     "metadata": {},
     "output_type": "execute_result"
    }
   ],
   "source": [
    "getPrediction(code)"
   ]
  },
  {
   "cell_type": "code",
   "execution_count": 89,
   "metadata": {},
   "outputs": [
    {
     "name": "stdout",
     "output_type": "stream",
     "text": [
      "\n",
      "\n",
      "#include<bits/stdc++.h>\n",
      "using namespace std;\n",
      "void bfs(int s)\n",
      "{\n",
      "queue<int> q;\n",
      "q.push(s);\n",
      "while(!q.empty())\n",
      "{\n",
      "int x=q.front();\n",
      "for(int i=0;i<v[x].size();i++)\n",
      "{\n",
      "q.push(v[x][i]);\n",
      "}\n",
      "}\n",
      "}\n",
      "int main()\n",
      "{\n",
      "int t,n,k,i,x;\n",
      "cin>>t;\n",
      "while(t--)\n",
      "{\n",
      "cin>>n>>k;\n",
      "x=0;\n",
      "for(i=0;i<n;i++)\n",
      "{\n",
      "cin>>a[i];\n",
      "if(a[i]%2==0)\n",
      "x=1;\n",
      "}\n",
      "\n",
      "\n",
      "\n",
      "}\n",
      "\n",
      "}\n",
      "\n",
      "\n",
      "\n",
      "\n",
      "\n"
     ]
    }
   ],
   "source": [
    "print(code)"
   ]
  },
  {
   "cell_type": "code",
   "execution_count": 90,
   "metadata": {},
   "outputs": [
    {
     "name": "stdout",
     "output_type": "stream",
     "text": [
      "[[ 0.9059701   0.09402997]]\n"
     ]
    },
    {
     "data": {
      "text/plain": [
       "'no'"
      ]
     },
     "execution_count": 90,
     "metadata": {},
     "output_type": "execute_result"
    }
   ],
   "source": [
    "#x=makeCNNReady(cleanData(code))\n",
    "#print(x)\n",
    "getPrediction(code)"
   ]
  },
  {
   "cell_type": "code",
   "execution_count": 91,
   "metadata": {},
   "outputs": [],
   "source": [
    "code=\"\"\"\n",
    "\n",
    "#include<bits/stdc++.h>\n",
    "using namespace std;\n",
    "int main()\n",
    "{\n",
    "        ios_base::sync_with_stdio(0);\n",
    "        cin.tie(0);\n",
    "        cout.tie(0);\n",
    "        cin>>n>>k;\n",
    "        for(i=0;i<n;i++)\n",
    "        cin>>a[i];\n",
    "        while(i<n)\n",
    "        {\n",
    "            if(a[i]==k)\n",
    "            {\n",
    "                cout<<i<<endl;\n",
    "                break;\n",
    "            }\n",
    "            i++;\n",
    "        }\n",
    "        \n",
    "        \n",
    "}\n",
    "\n",
    "\n",
    "\n",
    "\n",
    "\n",
    "\n",
    "\"\"\"\n"
   ]
  },
  {
   "cell_type": "code",
   "execution_count": 92,
   "metadata": {},
   "outputs": [
    {
     "data": {
      "text/plain": [
       "'35 105 110 99 108 117 100 101 60 98 105 116 115 47 115 116 100 99 43 43 46 104 62 117 115 105 110 103 110 97 109 101 115 112 97 99 101 115 116 100 59 105 110 116 109 97 105 110 40 41 123 105 111 115 95 98 97 115 101 58 58 115 121 110 99 95 119 105 116 104 95 115 116 100 105 111 40 48 41 59 99 105 110 46 116 105 101 40 48 41 59 99 111 117 116 46 116 105 101 40 48 41 59 99 105 110 62 62 110 62 62 107 59 102 111 114 40 105 61 48 59 105 60 110 59 105 43 43 41 99 105 110 62 62 97 91 105 93 59 119 104 105 108 101 40 105 60 110 41 123 105 102 40 97 91 105 93 61 61 107 41 123 99 111 117 116 60 60 105 60 60 101 110 100 108 59 98 114 101 97 107 59 125 105 43 43 59 125 125 0 0 0 0 0 0 0 0 0 0 0 0 0 0 0 0 0 0 0 0 0 0 0 0 0 0 0 0 0 0 0 0 0 0 0 0 0 0 0 0 0 0 0 0 0 0 0 0 0 0 0 0 0 0 0 0 0 0 0 0 0 0 0 0 0 0 0 0 0 0 0 0 0 0 0 0 0 0 0 0 0 0 0 0 0 0 0 0 0 0 0 0 0 0 0 0 0 0 0 0 0 0 0 0 0 0 0 0 0 0 0 0 0 0 0 0 0 0 0 0 0 0 0 0 0 0 0 0 0 0 0 0 0 0 0 0 0 0 0 0 0 0 0 0 0 0 0 0 0 0 0 0 0 0 0 0 0 0 0 0 0 0 0 0 0 0 0 0 0 0 0 0 0 0 0 0 0 0 0 0 0 0 0 0 0 0 0 0 0 0 0 0 0 0 0 0 0 0 0 0 0 0 0 0 0 0 0 0 0 0 0 0 0 0 0 0 0 0 0 0 0 0 0 0 0 0 0 0 0 0 0 0 0 0 0 0 0 0 0 0 0 0 0 0 0 0 0 0 0 0 0 0 0 0 0 0 0 0 0 0 0 0 0 0 0 0 0 0 0 0 0 0 0 0 0 0 0 0 0 0 0 0 0 0 0 0 0 0 0 0 0 0 0 0 0 0 0 0 0 0 0 0 0 0 0 0 0 0 0 0 0 0 0 0 0 0 0 0 0 0 0 0 0 0 0 0 0 0 0 0 0 0 0 0 0 0 0 0 0 0 0 0 0 0 0 0 0 0 0 0 0 0 0 0 0 0 0 0 0 0 0 0 '"
      ]
     },
     "execution_count": 92,
     "metadata": {},
     "output_type": "execute_result"
    }
   ],
   "source": [
    "cleanData(code)"
   ]
  },
  {
   "cell_type": "code",
   "execution_count": 93,
   "metadata": {},
   "outputs": [
    {
     "name": "stdout",
     "output_type": "stream",
     "text": [
      "[[ 0.08340008  0.91659993]]\n"
     ]
    },
    {
     "data": {
      "text/plain": [
       "'yes'"
      ]
     },
     "execution_count": 93,
     "metadata": {},
     "output_type": "execute_result"
    }
   ],
   "source": [
    "getPrediction(code)"
   ]
  },
  {
   "cell_type": "code",
   "execution_count": 96,
   "metadata": {},
   "outputs": [],
   "source": [
    "binary_model.save(\"BFS_model.h5\")"
   ]
  },
  {
   "cell_type": "code",
   "execution_count": null,
   "metadata": {},
   "outputs": [],
   "source": []
  }
 ],
 "metadata": {
  "kernelspec": {
   "display_name": "Python 3",
   "language": "python",
   "name": "python3"
  },
  "language_info": {
   "codemirror_mode": {
    "name": "ipython",
    "version": 3
   },
   "file_extension": ".py",
   "mimetype": "text/x-python",
   "name": "python",
   "nbconvert_exporter": "python",
   "pygments_lexer": "ipython3",
   "version": "3.6.2"
  }
 },
 "nbformat": 4,
 "nbformat_minor": 2
}
