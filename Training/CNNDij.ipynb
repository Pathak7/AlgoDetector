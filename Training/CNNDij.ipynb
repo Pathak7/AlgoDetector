{
 "cells": [
  {
   "cell_type": "code",
   "execution_count": 337,
   "metadata": {},
   "outputs": [],
   "source": [
    "import pandas as pd \n",
    "df=pd.read_csv(\"CNNDIJ.csv\");\n",
    "import numpy as np\n",
    "import matplotlib.pyplot as plt\n",
    "%matplotlib inline\n",
    "import pickle\n",
    "from keras.models import model_from_json\n",
    "import h5py\n",
    "from keras.models import load_model\n",
    "\n"
   ]
  },
  {
   "cell_type": "code",
   "execution_count": 338,
   "metadata": {
    "scrolled": true
   },
   "outputs": [
    {
     "name": "stdout",
     "output_type": "stream",
     "text": [
      "                                                code  tag\n",
      "0  35 105 110 99 108 117 100 101 60 98 105 116 11...    1\n",
      "1  35 105 110 99 108 117 100 101 60 98 105 116 11...    1\n",
      "2  35 105 110 99 108 117 100 101 60 98 105 116 11...    1\n",
      "3  35 105 110 99 108 117 100 101 60 98 105 116 11...    1\n",
      "4  35 105 110 99 108 117 100 101 60 98 105 116 11...    1\n"
     ]
    }
   ],
   "source": [
    "df.head(5)\n",
    "tc=600;\n",
    "tc=tc+1\n",
    "\n",
    "print(df.head())"
   ]
  },
  {
   "cell_type": "code",
   "execution_count": 339,
   "metadata": {},
   "outputs": [],
   "source": [
    "trainX,train_Y=df['code'],df['tag']"
   ]
  },
  {
   "cell_type": "code",
   "execution_count": 340,
   "metadata": {},
   "outputs": [
    {
     "data": {
      "text/plain": [
       "numpy.float32"
      ]
     },
     "execution_count": 340,
     "metadata": {},
     "output_type": "execute_result"
    }
   ],
   "source": [
    "tmp=[]\n",
    "for i in trainX:\n",
    "    k=i.split()\n",
    "    if(len(k)==600):\n",
    "        k.append(0)\n",
    "    \n",
    "        \n",
    "    a=np.array(k)\n",
    "    a=a.astype('float32')\n",
    "    \n",
    "    \n",
    "    a=a.reshape(tc,1)\n",
    "    tmp.append(a)\n",
    "train_X=np.array(tmp)\n",
    "train_X.shape\n",
    "type(train_X[1][1][0])\n",
    "\n"
   ]
  },
  {
   "cell_type": "code",
   "execution_count": 341,
   "metadata": {},
   "outputs": [
    {
     "data": {
      "text/plain": [
       "(132, 601, 1)"
      ]
     },
     "execution_count": 341,
     "metadata": {},
     "output_type": "execute_result"
    }
   ],
   "source": [
    "\n",
    "\n",
    "train_X.shape"
   ]
  },
  {
   "cell_type": "code",
   "execution_count": 342,
   "metadata": {},
   "outputs": [
    {
     "data": {
      "text/plain": [
       "array([[[ 0.22580644],\n",
       "        [ 0.67741936],\n",
       "        [ 0.7096774 ],\n",
       "        ..., \n",
       "        [ 0.38064516],\n",
       "        [ 0.72258067],\n",
       "        [ 0.73548388]],\n",
       "\n",
       "       [[ 0.22580644],\n",
       "        [ 0.67741936],\n",
       "        [ 0.7096774 ],\n",
       "        ..., \n",
       "        [ 0.38064516],\n",
       "        [ 0.72258067],\n",
       "        [ 0.73548388]],\n",
       "\n",
       "       [[ 0.22580644],\n",
       "        [ 0.67741936],\n",
       "        [ 0.7096774 ],\n",
       "        ..., \n",
       "        [ 0.        ],\n",
       "        [ 0.        ],\n",
       "        [ 0.        ]],\n",
       "\n",
       "       ..., \n",
       "       [[ 0.49032259],\n",
       "        [ 0.49032259],\n",
       "        [ 0.64516127],\n",
       "        ..., \n",
       "        [ 0.64516127],\n",
       "        [ 0.58709675],\n",
       "        [ 0.76129031]],\n",
       "\n",
       "       [[ 0.49032259],\n",
       "        [ 0.49032259],\n",
       "        [ 0.64516127],\n",
       "        ..., \n",
       "        [ 0.64516127],\n",
       "        [ 0.58709675],\n",
       "        [ 0.76129031]],\n",
       "\n",
       "       [[ 0.49032259],\n",
       "        [ 0.49032259],\n",
       "        [ 0.64516127],\n",
       "        ..., \n",
       "        [ 0.64516127],\n",
       "        [ 0.58709675],\n",
       "        [ 0.76129031]]], dtype=float32)"
      ]
     },
     "execution_count": 342,
     "metadata": {},
     "output_type": "execute_result"
    }
   ],
   "source": [
    "train_X=train_X/155 \n",
    "train_X"
   ]
  },
  {
   "cell_type": "code",
   "execution_count": 343,
   "metadata": {},
   "outputs": [
    {
     "data": {
      "text/plain": [
       "(132, 601, 1, 1)"
      ]
     },
     "execution_count": 343,
     "metadata": {},
     "output_type": "execute_result"
    }
   ],
   "source": [
    "train_X = train_X.reshape(-1, tc,1, 1)\n",
    "train_X.shape"
   ]
  },
  {
   "cell_type": "code",
   "execution_count": 344,
   "metadata": {},
   "outputs": [],
   "source": [
    "from keras.utils import to_categorical"
   ]
  },
  {
   "cell_type": "code",
   "execution_count": 345,
   "metadata": {},
   "outputs": [
    {
     "name": "stdout",
     "output_type": "stream",
     "text": [
      "Original label: 1\n",
      "After conversion to one-hot: [ 0.  1.]\n"
     ]
    }
   ],
   "source": [
    "train_Y_one_hot = to_categorical(train_Y)\n",
    "#test_Y_one_hot = to_categorical(test_Y)\n",
    "\n",
    "# Display the change for category label using one-hot encoding\n",
    "print('Original label:', train_Y[2])\n",
    "print('After conversion to one-hot:', train_Y_one_hot[2])\n"
   ]
  },
  {
   "cell_type": "code",
   "execution_count": 346,
   "metadata": {},
   "outputs": [],
   "source": [
    "from sklearn.model_selection import train_test_split\n",
    "train_X,valid_X,train_label,valid_label = train_test_split(train_X, train_Y_one_hot, test_size=0.15, random_state=13)"
   ]
  },
  {
   "cell_type": "code",
   "execution_count": 347,
   "metadata": {},
   "outputs": [
    {
     "data": {
      "text/plain": [
       "((112, 601, 1, 1), (20, 601, 1, 1), (112, 2), (20, 2))"
      ]
     },
     "execution_count": 347,
     "metadata": {},
     "output_type": "execute_result"
    }
   ],
   "source": [
    "train_X.shape,valid_X.shape,train_label.shape,valid_label.shape\n"
   ]
  },
  {
   "cell_type": "code",
   "execution_count": 348,
   "metadata": {},
   "outputs": [],
   "source": [
    "import keras\n",
    "from keras.models import Sequential,Input,Model\n",
    "from keras.layers import Dense, Dropout, Flatten\n",
    "from keras.layers import Conv2D, MaxPooling2D\n",
    "from keras.layers.normalization import BatchNormalization\n",
    "from keras.layers.advanced_activations import LeakyReLU"
   ]
  },
  {
   "cell_type": "code",
   "execution_count": 349,
   "metadata": {},
   "outputs": [],
   "source": [
    "batch_size = 64\n",
    "epochs = 25\n",
    "num_classes = 2"
   ]
  },
  {
   "cell_type": "code",
   "execution_count": 350,
   "metadata": {},
   "outputs": [],
   "source": [
    "binary_model = Sequential()\n",
    "binary_model.add(Conv2D(16, kernel_size=(4, 1),activation='linear',input_shape=(tc,1,1),padding='same'))\n",
    "binary_model.add(LeakyReLU(alpha=0.1))\n",
    "binary_model.add(MaxPooling2D((2, 1),padding='same'))\n",
    "binary_model.add(Dropout(0.2))\n",
    "binary_model.add(Conv2D(32, (2, 1), activation='linear',padding='same'))\n",
    "binary_model.add(LeakyReLU(alpha=0.1))\n",
    "binary_model.add(MaxPooling2D(pool_size=(2, 1),padding='same'))\n",
    "binary_model.add(Dropout(0.2))\n",
    "binary_model.add(Flatten())\n",
    "binary_model.add(Dense(128, activation='linear'))\n",
    "binary_model.add(LeakyReLU(alpha=0.1))                  \n",
    "binary_model.add(Dense(num_classes, activation='softmax'))"
   ]
  },
  {
   "cell_type": "code",
   "execution_count": 351,
   "metadata": {},
   "outputs": [],
   "source": [
    "binary_model.compile(loss=keras.losses.categorical_crossentropy, optimizer=keras.optimizers.Adam(),metrics=['accuracy'])"
   ]
  },
  {
   "cell_type": "code",
   "execution_count": 352,
   "metadata": {},
   "outputs": [
    {
     "name": "stdout",
     "output_type": "stream",
     "text": [
      "_________________________________________________________________\n",
      "Layer (type)                 Output Shape              Param #   \n",
      "=================================================================\n",
      "conv2d_13 (Conv2D)           (None, 601, 1, 16)        80        \n",
      "_________________________________________________________________\n",
      "leaky_re_lu_19 (LeakyReLU)   (None, 601, 1, 16)        0         \n",
      "_________________________________________________________________\n",
      "max_pooling2d_13 (MaxPooling (None, 301, 1, 16)        0         \n",
      "_________________________________________________________________\n",
      "dropout_13 (Dropout)         (None, 301, 1, 16)        0         \n",
      "_________________________________________________________________\n",
      "conv2d_14 (Conv2D)           (None, 301, 1, 32)        1056      \n",
      "_________________________________________________________________\n",
      "leaky_re_lu_20 (LeakyReLU)   (None, 301, 1, 32)        0         \n",
      "_________________________________________________________________\n",
      "max_pooling2d_14 (MaxPooling (None, 151, 1, 32)        0         \n",
      "_________________________________________________________________\n",
      "dropout_14 (Dropout)         (None, 151, 1, 32)        0         \n",
      "_________________________________________________________________\n",
      "flatten_7 (Flatten)          (None, 4832)              0         \n",
      "_________________________________________________________________\n",
      "dense_13 (Dense)             (None, 128)               618624    \n",
      "_________________________________________________________________\n",
      "leaky_re_lu_21 (LeakyReLU)   (None, 128)               0         \n",
      "_________________________________________________________________\n",
      "dense_14 (Dense)             (None, 2)                 258       \n",
      "=================================================================\n",
      "Total params: 620,018\n",
      "Trainable params: 620,018\n",
      "Non-trainable params: 0\n",
      "_________________________________________________________________\n"
     ]
    }
   ],
   "source": [
    "binary_model.summary()"
   ]
  },
  {
   "cell_type": "code",
   "execution_count": 353,
   "metadata": {},
   "outputs": [],
   "source": [
    "binary_train = binary_model.fit(train_X, train_label, batch_size=batch_size,epochs=epochs,verbose=0,validation_data=(valid_X, valid_label))"
   ]
  },
  {
   "cell_type": "code",
   "execution_count": 354,
   "metadata": {},
   "outputs": [],
   "source": [
    "test_eval =binary_model.evaluate(train_X, train_label, verbose=0)"
   ]
  },
  {
   "cell_type": "code",
   "execution_count": 355,
   "metadata": {},
   "outputs": [
    {
     "name": "stdout",
     "output_type": "stream",
     "text": [
      "Test loss: 0.305718455996\n",
      "Test accuracy: 0.955357142857\n"
     ]
    }
   ],
   "source": [
    "print('Test loss:', test_eval[0])\n",
    "print('Test accuracy:', test_eval[1])"
   ]
  },
  {
   "cell_type": "code",
   "execution_count": 356,
   "metadata": {},
   "outputs": [
    {
     "data": {
      "image/png": "[encoded data removed]",
      "text/plain": [
       "<Figure size 432x288 with 1 Axes>"
      ]
     },
     "metadata": {},
     "output_type": "display_data"
    },
    {
     "data": {
      "image/png": "[encoded data removed]",
      "text/plain": [
       "<Figure size 432x288 with 1 Axes>"
      ]
     },
     "metadata": {},
     "output_type": "display_data"
    }
   ],
   "source": [
    "accuracy = binary_train.history['acc']\n",
    "val_accuracy = binary_train.history['val_acc']\n",
    "loss = binary_train.history['loss']\n",
    "val_loss = binary_train.history['val_loss']\n",
    "epochs = range(len(accuracy))\n",
    "plt.plot(epochs, accuracy, 'bo', label='Training accuracy')\n",
    "plt.plot(epochs, val_accuracy, 'b', label='Validation accuracy')\n",
    "plt.title('Training and validation accuracy')\n",
    "plt.legend()\n",
    "plt.figure()\n",
    "plt.plot(epochs, loss, 'bo', label='Training loss')\n",
    "plt.plot(epochs, val_loss, 'b', label='Validation loss')\n",
    "plt.title('Training and validation loss')\n",
    "plt.legend()\n",
    "plt.show()"
   ]
  },
  {
   "cell_type": "code",
   "execution_count": 357,
   "metadata": {},
   "outputs": [],
   "source": [
    "from sklearn.metrics import classification_report\n",
    "predicted_classes=binary_model.predict(valid_X)\n",
    "#print(predicted_classes)"
   ]
  },
  {
   "cell_type": "code",
   "execution_count": 358,
   "metadata": {},
   "outputs": [],
   "source": [
    "predicted_classes = np.argmax(np.round(predicted_classes),axis=1)\n"
   ]
  },
  {
   "cell_type": "code",
   "execution_count": 359,
   "metadata": {},
   "outputs": [
    {
     "data": {
      "text/plain": [
       "array([1, 1, 0, 1, 0, 1, 1, 0, 1, 1, 0, 1, 1, 0, 1, 1, 0, 1, 0, 1], dtype=int64)"
      ]
     },
     "execution_count": 359,
     "metadata": {},
     "output_type": "execute_result"
    }
   ],
   "source": [
    "predicted_classes\n"
   ]
  },
  {
   "cell_type": "code",
   "execution_count": 360,
   "metadata": {},
   "outputs": [],
   "source": [
    "actual= np.argmax(np.round(valid_label),axis=1)"
   ]
  },
  {
   "cell_type": "code",
   "execution_count": 361,
   "metadata": {},
   "outputs": [
    {
     "data": {
      "text/plain": [
       "array([0, 0, 0, 0, 0, 1, 1, 1, 1, 1, 1, 0, 1, 0, 1, 0, 1, 1, 1, 1], dtype=int64)"
      ]
     },
     "execution_count": 361,
     "metadata": {},
     "output_type": "execute_result"
    }
   ],
   "source": [
    "actual"
   ]
  },
  {
   "cell_type": "code",
   "execution_count": 362,
   "metadata": {},
   "outputs": [
    {
     "name": "stdout",
     "output_type": "stream",
     "text": [
      "             precision    recall  f1-score   support\n",
      "\n",
      "          0       0.38      0.43      0.40         7\n",
      "          1       0.67      0.62      0.64        13\n",
      "\n",
      "avg / total       0.56      0.55      0.56        20\n",
      "\n"
     ]
    }
   ],
   "source": [
    "from sklearn.metrics import classification_report, confusion_matrix\n",
    "\n",
    "print(classification_report(predicted_classes,actual))"
   ]
  },
  {
   "cell_type": "code",
   "execution_count": 363,
   "metadata": {},
   "outputs": [],
   "source": [
    "from keras.models import load_model\n",
    "import h5py"
   ]
  },
  {
   "cell_type": "code",
   "execution_count": 364,
   "metadata": {},
   "outputs": [],
   "source": [
    "\n",
    "def cleanData(c):\n",
    "    code=c\n",
    "    df1 = pd.DataFrame({'A':[code]})\n",
    "            \n",
    "    df1 = df1.replace('\\n',' ', regex=True)\n",
    "    df1 = df1.replace('\\t',' ', regex=True)\n",
    "    df1 = df1.replace('\\r',' ', regex=True)\n",
    "    df1 = df1.replace(',',' ', regex=True)\n",
    "    c=0\n",
    "    tmp=\"\"\n",
    "    for i in df1['A']:\n",
    "                c=0\n",
    "                aa=i.split()\n",
    "                ff=0\n",
    "                #print(aa)\n",
    "                for it in aa:\n",
    "                    if \"const\" or \"int\" or \"void\" or \"ll\" or \"long\" or \"priority\" or \"vector\" or \"set\" or \"graph\" or \"dijkstra\" or \"dij\" in it:\n",
    "                        ff=1\n",
    "                        #print(\"While found at\",it)\n",
    "                    if ff==1:\n",
    "                        for xx in it:\n",
    "                            \n",
    "                            if c<=600:\n",
    "                                tmp=tmp+str(ord(xx))+' '\n",
    "                                c=c+1\n",
    "                    if \"set\" in it :\n",
    "                        for xx in it:\n",
    "                            \n",
    "                            if c<=600:\n",
    "                                tmp=tmp+str(ord(xx))+' '\n",
    "                                c=c+1\n",
    "\n",
    "                    if \"priority\" in it :\n",
    "                        for xx in it:\n",
    "                            \n",
    "                            if c<=600:\n",
    "                                tmp=tmp+str(ord(xx))+' '\n",
    "                                c=c+1\n",
    "                while(c<=600):\n",
    "                    tmp=tmp+\"0 \"\n",
    "                    #print(0,end=' ')\n",
    "                    c=c+1\n",
    "                        \n",
    "               \n",
    "            \n",
    "    #print(ff)          \n",
    "    return tmp\n",
    "            \n",
    "    \n",
    "    "
   ]
  },
  {
   "cell_type": "code",
   "execution_count": 365,
   "metadata": {},
   "outputs": [],
   "source": [
    "def makeCNNReady(c):\n",
    "    tmp=[]\n",
    "    tmp=c.split()\n",
    "    aa=np.array(tmp)\n",
    "    aa=aa.astype('float32')\n",
    "    \n",
    "    aa=aa.reshape(tc,1)\n",
    "    aa=aa.reshape(-1,tc,1,1)\n",
    "    aa=aa/155\n",
    "    return aa"
   ]
  },
  {
   "cell_type": "code",
   "execution_count": 366,
   "metadata": {},
   "outputs": [],
   "source": [
    "def getPrediction(c):\n",
    "    pred=binary_model.predict(makeCNNReady(cleanData(c)))\n",
    "    print(pred)\n",
    "    #cc=np.argmax(np.round(pred),axis=1)\n",
    "    if pred[0][1]>=pred[0][0]:\n",
    "        return \"yes\"\n",
    "    else:\n",
    "        return \"no\""
   ]
  },
  {
   "cell_type": "code",
   "execution_count": 367,
   "metadata": {},
   "outputs": [],
   "source": [
    "code=\"\"\"\n",
    "\n",
    "#include<bits/stdc++.h>\n",
    "using namespace std;\n",
    "int main()\n",
    "{\n",
    "cout<<\"hey\";\n",
    "}\n",
    "\n",
    "\"\"\""
   ]
  },
  {
   "cell_type": "code",
   "execution_count": 368,
   "metadata": {},
   "outputs": [
    {
     "name": "stdout",
     "output_type": "stream",
     "text": [
      "[[ 0.85128218  0.14871785]]\n"
     ]
    },
    {
     "data": {
      "text/plain": [
       "'no'"
      ]
     },
     "execution_count": 368,
     "metadata": {},
     "output_type": "execute_result"
    }
   ],
   "source": [
    "\n",
    "getPrediction(code)\n",
    "#print(\"(long\" in \"#include<bits/stdc++.h>\")"
   ]
  },
  {
   "cell_type": "code",
   "execution_count": 369,
   "metadata": {},
   "outputs": [],
   "source": [
    "code=\"\"\"\n",
    "\n",
    "#include <iostream>\n",
    "#include <cstdio>\n",
    "#include <algorithm>\n",
    "#include <cstring>\n",
    "using namespace std;\n",
    "const int maxn = 2e5+8;\n",
    "int n,a[maxn],dp1[maxn],len1[maxn],dp2[maxn],h1[maxn],h2[maxn],len2[maxn];\n",
    "int main(){\n",
    "    scanf(\"%d\",&n);\n",
    "    for(int i = 1;i <= n;++i)\n",
    "        scanf(\"%d\",&a[i]),a[i] -= i;\n",
    "    int mx = 1;\n",
    "    memset(dp1,0x3f,sizeof(dp1));\n",
    "    for(int i = 1;i <= n;++i){\n",
    "        int idx = upper_bound(dp1+1,dp1+1+n,a[i]) - dp1;\n",
    "        dp1[idx] = a[i];\n",
    "        mx = max(mx,idx);\n",
    "        len1[i] = mx;\n",
    "        h1[i] = dp1[mx];\n",
    "    }\n",
    "    memset(dp2,0x3f,sizeof(dp2));\n",
    "    mx = 1;\n",
    "    for(int i = n;i >= 1;--i){\n",
    "        int idx = upper_bound(dp2+1,dp2+1+n,-a[i]-1) - dp2;\n",
    "        dp2[idx] = -a[i]-1;\n",
    "        mx = max(mx,idx);\n",
    "        len2[i] = mx;\n",
    "        h2[i] = dp2[mx];\n",
    "    }\n",
    "    dp1[0] = 0;dp2[0] = -2;\n",
    "    int ans = max(len1[n],len2[1]);\n",
    "    for(int i = 1;i <= n;++i){\n",
    "        //printf(\"i:%d len1:%d len2:%d dp1:%d dp2:%d\\n\",i,len1[i-1],len2[i+1],h1[i-1],h2[i+1]);\n",
    "        if(h1[i-1] <= -h2[i+1]){\n",
    "            ans = max(ans,len1[i-1]+len2[i+1]);\n",
    "        }\n",
    "    }\n",
    "    cout<<max(0,n-1-ans)<<endl;\n",
    "    return 0;\n",
    "}\n",
    "\n",
    "\n",
    "\n",
    "\n",
    "\n",
    "\n",
    "\n",
    "\n",
    "\"\"\""
   ]
  },
  {
   "cell_type": "code",
   "execution_count": 370,
   "metadata": {},
   "outputs": [
    {
     "name": "stdout",
     "output_type": "stream",
     "text": [
      "[[ 0.97904873  0.02095123]]\n"
     ]
    },
    {
     "data": {
      "text/plain": [
       "'no'"
      ]
     },
     "execution_count": 370,
     "metadata": {},
     "output_type": "execute_result"
    }
   ],
   "source": [
    "getPrediction(code)"
   ]
  },
  {
   "cell_type": "code",
   "execution_count": 371,
   "metadata": {},
   "outputs": [],
   "source": [
    "code=\"\"\"\n",
    "#include<bits/stdc++.h>\n",
    "using namespace std;\n",
    "int main()\n",
    "{\n",
    "\n",
    "while(t--)\n",
    "{\n",
    "cin>>n;\n",
    "if(n%2==0)\n",
    "cout<<\"Even\"<<endl;\n",
    "else\n",
    "cout<<\"Odd\"<<endl;\n",
    "\n",
    "}\n",
    "}\n",
    "\n",
    "\"\"\"\n",
    "\n"
   ]
  },
  {
   "cell_type": "code",
   "execution_count": 372,
   "metadata": {},
   "outputs": [
    {
     "name": "stdout",
     "output_type": "stream",
     "text": [
      "[[ 0.86094695  0.13905303]]\n"
     ]
    },
    {
     "data": {
      "text/plain": [
       "'no'"
      ]
     },
     "execution_count": 372,
     "metadata": {},
     "output_type": "execute_result"
    }
   ],
   "source": [
    "getPrediction(code)"
   ]
  },
  {
   "cell_type": "code",
   "execution_count": 373,
   "metadata": {},
   "outputs": [],
   "source": [
    "code=\"\"\"\n",
    "\n",
    "#include<iostream>\n",
    "#include<stdio.h>\n",
    "using namespace std;\n",
    "long long p(long long x,long long y)\n",
    "{\n",
    "    unsigned long long an=1;\n",
    "    const unsigned int M = 1000000007;\n",
    "    while(y>0)\n",
    "    {\n",
    "        if(y & 1)\n",
    "        {\n",
    "            an=(an*x)%M;\n",
    "        }\n",
    "    y=y/2;\n",
    "    x=(x*x)%M;\n",
    " \n",
    "    }\n",
    "    return an;\n",
    "}\n",
    "unsigned long long power(int n)\n",
    "{\n",
    "    unsigned long long fact = 1;\n",
    "    const unsigned int M = 1000000007;\n",
    "    for (int counter = 1; counter <= n; counter++)\n",
    "    {\n",
    "         fact=(fact*2)%M;\n",
    "    }\n",
    "  return fact;\n",
    "}\n",
    "int main()\n",
    "{\n",
    "int t;\n",
    "unsigned long long ans,n,q;\n",
    "cin>>t;\n",
    "while(t--)\n",
    "{\n",
    "cin>>n;\n",
    "ans=p(2,n-1);\n",
    " \n",
    "if(n<3)\n",
    "    ans=2;\n",
    "cout<<ans-2<<endl;\n",
    "}\n",
    "return 0;\n",
    "}\n",
    " \n",
    "\n",
    "\n",
    "\n",
    "\"\"\""
   ]
  },
  {
   "cell_type": "code",
   "execution_count": 374,
   "metadata": {},
   "outputs": [
    {
     "name": "stdout",
     "output_type": "stream",
     "text": [
      "[[ 0.86572397  0.13427603]]\n",
      "no\n",
      "True\n"
     ]
    }
   ],
   "source": [
    "#print(cleanData(code))\n",
    "print(getPrediction(code))\n",
    "print(\"(long\" in \"p(long\")\n"
   ]
  },
  {
   "cell_type": "code",
   "execution_count": 375,
   "metadata": {},
   "outputs": [
    {
     "data": {
      "text/plain": [
       "'35 105 110 99 108 117 100 101 60 105 111 115 116 114 101 97 109 62 35 105 110 99 108 117 100 101 60 115 116 100 105 111 46 104 62 117 115 105 110 103 110 97 109 101 115 112 97 99 101 115 116 100 59 108 111 110 103 108 111 110 103 112 40 108 111 110 103 108 111 110 103 120 108 111 110 103 108 111 110 103 121 41 123 117 110 115 105 103 110 101 100 108 111 110 103 108 111 110 103 97 110 61 49 59 99 111 110 115 116 117 110 115 105 103 110 101 100 105 110 116 77 61 49 48 48 48 48 48 48 48 48 55 59 119 104 105 108 101 40 121 62 48 41 123 105 102 40 121 38 49 41 123 97 110 61 40 97 110 42 120 41 37 77 59 125 121 61 121 47 50 59 120 61 40 120 42 120 41 37 77 59 125 114 101 116 117 114 110 97 110 59 125 117 110 115 105 103 110 101 100 108 111 110 103 108 111 110 103 112 111 119 101 114 40 105 110 116 110 41 123 117 110 115 105 103 110 101 100 108 111 110 103 108 111 110 103 102 97 99 116 61 49 59 99 111 110 115 116 117 110 115 105 103 110 101 100 105 110 116 77 61 49 48 48 48 48 48 48 48 48 55 59 102 111 114 40 105 110 116 99 111 117 110 116 101 114 61 49 59 99 111 117 110 116 101 114 60 61 110 59 99 111 117 110 116 101 114 43 43 41 123 102 97 99 116 61 40 102 97 99 116 42 50 41 37 77 59 125 114 101 116 117 114 110 102 97 99 116 59 125 105 110 116 109 97 105 110 40 41 123 105 110 116 116 59 117 110 115 105 103 110 101 100 108 111 110 103 108 111 110 103 97 110 115 110 113 59 99 105 110 62 62 116 59 119 104 105 108 101 40 116 45 45 41 123 99 105 110 62 62 110 59 97 110 115 61 112 40 50 110 45 49 41 59 105 102 40 110 60 51 41 97 110 115 61 50 59 99 111 117 116 60 60 97 110 115 45 50 60 60 101 110 100 108 59 125 114 101 116 117 114 110 48 59 125 0 0 0 0 0 0 0 0 0 0 0 0 0 0 0 0 0 0 0 0 0 0 0 0 0 0 0 0 0 0 0 0 0 0 0 0 0 0 0 0 0 0 0 0 0 0 0 0 0 0 0 0 0 0 0 0 0 0 0 0 0 0 0 0 0 0 0 0 0 0 0 0 0 0 0 0 0 0 0 0 0 0 0 0 0 0 0 0 0 0 0 0 0 0 0 0 0 0 0 0 0 0 0 0 0 0 0 0 0 0 0 0 0 0 0 0 0 0 0 0 0 0 0 0 0 0 0 0 0 0 0 0 0 0 0 0 0 0 0 0 0 0 0 0 0 0 '"
      ]
     },
     "execution_count": 375,
     "metadata": {},
     "output_type": "execute_result"
    }
   ],
   "source": [
    "cleanData(code)\n",
    "        \n",
    "        "
   ]
  },
  {
   "cell_type": "code",
   "execution_count": 376,
   "metadata": {},
   "outputs": [],
   "source": [
    "tt=makeCNNReady(cleanData(code))\n"
   ]
  },
  {
   "cell_type": "code",
   "execution_count": 377,
   "metadata": {},
   "outputs": [
    {
     "data": {
      "text/plain": [
       "(1, 601, 1, 1)"
      ]
     },
     "execution_count": 377,
     "metadata": {},
     "output_type": "execute_result"
    }
   ],
   "source": [
    "tt.shape"
   ]
  },
  {
   "cell_type": "code",
   "execution_count": 378,
   "metadata": {},
   "outputs": [],
   "source": [
    "tt=tt/155"
   ]
  },
  {
   "cell_type": "code",
   "execution_count": null,
   "metadata": {},
   "outputs": [],
   "source": [
    "\n",
    "    "
   ]
  },
  {
   "cell_type": "code",
   "execution_count": 379,
   "metadata": {},
   "outputs": [
    {
     "name": "stdout",
     "output_type": "stream",
     "text": [
      "[[ 0.86572397  0.13427603]]\n"
     ]
    },
    {
     "data": {
      "text/plain": [
       "'no'"
      ]
     },
     "execution_count": 379,
     "metadata": {},
     "output_type": "execute_result"
    }
   ],
   "source": [
    "getPrediction(code)"
   ]
  },
  {
   "cell_type": "code",
   "execution_count": 380,
   "metadata": {},
   "outputs": [
    {
     "name": "stdout",
     "output_type": "stream",
     "text": [
      "\n",
      "\n",
      "#include<iostream>\n",
      "#include<stdio.h>\n",
      "using namespace std;\n",
      "long long p(long long x,long long y)\n",
      "{\n",
      "    unsigned long long an=1;\n",
      "    const unsigned int M = 1000000007;\n",
      "    while(y>0)\n",
      "    {\n",
      "        if(y & 1)\n",
      "        {\n",
      "            an=(an*x)%M;\n",
      "        }\n",
      "    y=y/2;\n",
      "    x=(x*x)%M;\n",
      " \n",
      "    }\n",
      "    return an;\n",
      "}\n",
      "unsigned long long power(int n)\n",
      "{\n",
      "    unsigned long long fact = 1;\n",
      "    const unsigned int M = 1000000007;\n",
      "    for (int counter = 1; counter <= n; counter++)\n",
      "    {\n",
      "         fact=(fact*2)%M;\n",
      "    }\n",
      "  return fact;\n",
      "}\n",
      "int main()\n",
      "{\n",
      "int t;\n",
      "unsigned long long ans,n,q;\n",
      "cin>>t;\n",
      "while(t--)\n",
      "{\n",
      "cin>>n;\n",
      "ans=p(2,n-1);\n",
      " \n",
      "if(n<3)\n",
      "    ans=2;\n",
      "cout<<ans-2<<endl;\n",
      "}\n",
      "return 0;\n",
      "}\n",
      " \n",
      "\n",
      "\n",
      "\n",
      "\n"
     ]
    }
   ],
   "source": [
    "print(code)"
   ]
  },
  {
   "cell_type": "code",
   "execution_count": 381,
   "metadata": {},
   "outputs": [
    {
     "name": "stdout",
     "output_type": "stream",
     "text": [
      "[[ 0.86572397  0.13427603]]\n"
     ]
    },
    {
     "data": {
      "text/plain": [
       "'no'"
      ]
     },
     "execution_count": 381,
     "metadata": {},
     "output_type": "execute_result"
    }
   ],
   "source": [
    "#x=makeCNNReady(cleanData(code))\n",
    "#print(x)\n",
    "getPrediction(code)"
   ]
  },
  {
   "cell_type": "code",
   "execution_count": 382,
   "metadata": {},
   "outputs": [],
   "source": [
    "code=\"\"\"\n",
    "\n",
    "\n",
    "LL d[1000000];//Distance function\n",
    "\n",
    "list<pair<int,int> > *graph;\n",
    "\n",
    "void dijkstra(int root) {\n",
    "\n",
    "set<pair<int,int> > pq;\n",
    "/* A set helps insertion and extraction operations in logarithmic time. This set maintains (distance,vertex number) pair sorted on basis of distance*/\n",
    "\n",
    "set<pair<int,int> > ::iterator it;\n",
    "\n",
    "int u,v,wt;\n",
    "\n",
    "list<pair<int,int> > :: iterator i;\n",
    "\n",
    "\n",
    "\n",
    "\n",
    "d[root]=0;\n",
    "\n",
    "pq.insert(pair<int,int>(0,root));\n",
    "\n",
    "while(pq.size()!=0)\n",
    "{\n",
    "    it=pq.begin();\n",
    "\n",
    "    u=it->second;\n",
    "\n",
    "    pq.erase(it);\n",
    "\n",
    "    for(i=graph[u].begin(); i!=graph[u].end(); i++)\n",
    "    {\n",
    "        v=i->first;\n",
    "        wt=i->second;\n",
    "        //Relax u-v edge with weight wt below:\n",
    "        if(d[v]>d[u]+wt)\n",
    "        {\n",
    "            if(d[v]!=1e8)\n",
    "            {\n",
    "                pq.erase(pq.find(pair<int,int>(d[v],v)));\n",
    "            }\n",
    "            d[v]=d[u]+wt;\n",
    "            pq.insert(pair<int,int>(d[v],v));\n",
    "        }\n",
    "//Relax ends\n",
    "\n",
    "}\n",
    "\n",
    "}\n",
    "}\n",
    "\n",
    "void addedge(int src,int des,int wt) { pair<int,int> x;\n",
    "\n",
    "x.first=des;\n",
    "x.second=wt;\n",
    "\n",
    "graph[src].push_front(x);\n",
    "//here we are consering directed graph so. /* include in case of undirected graph\n",
    "\n",
    "x.first=src;\n",
    "\n",
    "x.second=wt;\n",
    "\n",
    "graph[des].push_front(x);\n",
    "*/ //This algorithm works in same way for undirected graph }\n",
    "\n",
    "int main() {\n",
    "\n",
    "int i;\n",
    "\n",
    "int t;\n",
    "\n",
    "cin>>t;\n",
    "\n",
    "while(t--){\n",
    "\n",
    "int v,e,src,des,wt;\n",
    "\n",
    "cin>>v>>e;\n",
    "\n",
    "//Initialise all d[v] to a large number\n",
    "for(i=0; i<=v; i++)\n",
    "{\n",
    "    d[i]=1e8;\n",
    "/*Do not use INF because mathematical operations performed on it will cause overflow\n",
    "in some cases you may need higher values like 1e18 etc. as per constraints\n",
    "*/\n",
    "\n",
    "}\n",
    "\n",
    "graph=new list<pair<int,int> >[v+1];\n",
    "\n",
    "for(i=0; i<e; i++)\n",
    "{\n",
    "    cin>>src>>des>>wt;\n",
    "    addedge(src,des,wt);\n",
    "}\n",
    "int x,y;\n",
    "\n",
    "cin>>x>>y;\n",
    "\n",
    "dijkstra(x);\n",
    "\n",
    "if(d[y]!=1e8)\n",
    "cout<<d[y]<<endl;\n",
    "else\n",
    "    cout<<\"NO\"<<endl;\n",
    "}\n",
    "return 0;\n",
    "}\n",
    "\n",
    "\n",
    "\n",
    "\n",
    "\n",
    "\"\"\"\n"
   ]
  },
  {
   "cell_type": "code",
   "execution_count": 383,
   "metadata": {},
   "outputs": [
    {
     "data": {
      "text/plain": [
       "'76 76 100 91 49 48 48 48 48 48 48 93 59 47 47 68 105 115 116 97 110 99 101 102 117 110 99 116 105 111 110 108 105 115 116 60 112 97 105 114 60 105 110 116 105 110 116 62 62 42 103 114 97 112 104 59 118 111 105 100 100 105 106 107 115 116 114 97 40 105 110 116 114 111 111 116 41 123 115 101 116 60 112 97 105 114 60 105 110 116 115 101 116 60 112 97 105 114 60 105 110 116 105 110 116 62 62 112 113 59 47 42 65 115 101 116 115 101 116 104 101 108 112 115 105 110 115 101 114 116 105 111 110 97 110 100 101 120 116 114 97 99 116 105 111 110 111 112 101 114 97 116 105 111 110 115 105 110 108 111 103 97 114 105 116 104 109 105 99 116 105 109 101 46 84 104 105 115 115 101 116 115 101 116 109 97 105 110 116 97 105 110 115 40 100 105 115 116 97 110 99 101 118 101 114 116 101 120 110 117 109 98 101 114 41 112 97 105 114 115 111 114 116 101 100 111 110 98 97 115 105 115 111 102 100 105 115 116 97 110 99 101 42 47 115 101 116 60 112 97 105 114 60 105 110 116 115 101 116 60 112 97 105 114 60 105 110 116 105 110 116 62 62 58 58 105 116 101 114 97 116 111 114 105 116 59 105 110 116 117 118 119 116 59 108 105 115 116 60 112 97 105 114 60 105 110 116 105 110 116 62 62 58 58 105 116 101 114 97 116 111 114 105 59 100 91 114 111 111 116 93 61 48 59 112 113 46 105 110 115 101 114 116 40 112 97 105 114 60 105 110 116 105 110 116 62 40 48 114 111 111 116 41 41 59 119 104 105 108 101 40 112 113 46 115 105 122 101 40 41 33 61 48 41 123 105 116 61 112 113 46 98 101 103 105 110 40 41 59 117 61 105 116 45 62 115 101 99 111 110 100 59 112 113 46 101 114 97 115 101 40 105 116 41 59 102 111 114 40 105 61 103 114 97 112 104 91 117 93 46 98 101 103 105 110 40 41 59 105 33 61 103 114 97 112 104 91 117 93 46 101 110 100 40 41 59 105 43 43 41 123 118 61 105 45 62 102 105 114 115 116 59 119 116 61 105 45 62 115 101 99 111 110 100 59 47 47 82 101 108 97 120 117 45 118 101 100 103 101 119 105 116 104 119 101 105 103 104 116 119 116 98 101 108 111 119 58 105 102 40 100 91 118 93 62 100 91 117 93 43 119 116 41 123 105 102 40 100 91 118 93 33 61 49 101 56 41 123 112 113 46 101 114 97 115 101 40 112 113 46 102 105 110 100 40 112 97 105 114 60 105 110 116 105 110 116 62 40 100 91 118 93 118 41 41 41 59 125 100 91 118 '"
      ]
     },
     "execution_count": 383,
     "metadata": {},
     "output_type": "execute_result"
    }
   ],
   "source": [
    "cleanData(code)"
   ]
  },
  {
   "cell_type": "code",
   "execution_count": 384,
   "metadata": {},
   "outputs": [
    {
     "name": "stdout",
     "output_type": "stream",
     "text": [
      "[[ 0.04518121  0.95481879]]\n"
     ]
    },
    {
     "data": {
      "text/plain": [
       "'yes'"
      ]
     },
     "execution_count": 384,
     "metadata": {},
     "output_type": "execute_result"
    }
   ],
   "source": [
    "getPrediction(code)"
   ]
  },
  {
   "cell_type": "code",
   "execution_count": 385,
   "metadata": {},
   "outputs": [],
   "source": [
    "binary_model.save('dijkstra_model.h5')\n"
   ]
  },
  {
   "cell_type": "code",
   "execution_count": 386,
   "metadata": {},
   "outputs": [],
   "source": [
    "new_model=load_model(\"dijkstra_model.h5\")"
   ]
  },
  {
   "cell_type": "code",
   "execution_count": 387,
   "metadata": {},
   "outputs": [
    {
     "data": {
      "text/plain": [
       "array([[ 0.04518121,  0.95481879]], dtype=float32)"
      ]
     },
     "execution_count": 387,
     "metadata": {},
     "output_type": "execute_result"
    }
   ],
   "source": [
    "new_model.predict(makeCNNReady(cleanData(code)))"
   ]
  },
  {
   "cell_type": "code",
   "execution_count": 388,
   "metadata": {},
   "outputs": [
    {
     "data": {
      "text/plain": [
       "array([[ 0.04518121,  0.95481879]], dtype=float32)"
      ]
     },
     "execution_count": 388,
     "metadata": {},
     "output_type": "execute_result"
    }
   ],
   "source": [
    "binary_model.predict(makeCNNReady(cleanData(code)))"
   ]
  },
  {
   "cell_type": "code",
   "execution_count": 389,
   "metadata": {},
   "outputs": [],
   "source": [
    "new_model=load_model(\"dijkstra_model.h5\")"
   ]
  },
  {
   "cell_type": "code",
   "execution_count": 390,
   "metadata": {},
   "outputs": [
    {
     "data": {
      "text/plain": [
       "array([[ 0.04518121,  0.95481879]], dtype=float32)"
      ]
     },
     "execution_count": 390,
     "metadata": {},
     "output_type": "execute_result"
    }
   ],
   "source": [
    "new_model.predict(makeCNNReady(cleanData(code)))"
   ]
  },
  {
   "cell_type": "code",
   "execution_count": 391,
   "metadata": {},
   "outputs": [],
   "source": [
    "new_model=load_model(\"dijkstra_model.h5\")"
   ]
  },
  {
   "cell_type": "code",
   "execution_count": 394,
   "metadata": {},
   "outputs": [
    {
     "name": "stdout",
     "output_type": "stream",
     "text": [
      "[[ 0.63590598  0.36409399]]\n"
     ]
    },
    {
     "data": {
      "text/plain": [
       "'no'"
      ]
     },
     "execution_count": 394,
     "metadata": {},
     "output_type": "execute_result"
    }
   ],
   "source": [
    "getPrediction(code)"
   ]
  },
  {
   "cell_type": "code",
   "execution_count": null,
   "metadata": {},
   "outputs": [],
   "source": []
  }
 ],
 "metadata": {
  "kernelspec": {
   "display_name": "Python 3",
   "language": "python",
   "name": "python3"
  },
  "language_info": {
   "codemirror_mode": {
    "name": "ipython",
    "version": 3
   },
   "file_extension": ".py",
   "mimetype": "text/x-python",
   "name": "python",
   "nbconvert_exporter": "python",
   "pygments_lexer": "ipython3",
   "version": "3.6.2"
  }
 },
 "nbformat": 4,
 "nbformat_minor": 2
}
