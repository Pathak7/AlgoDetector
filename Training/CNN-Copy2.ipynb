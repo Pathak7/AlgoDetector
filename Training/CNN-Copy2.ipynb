{
 "cells": [
  {
   "cell_type": "code",
   "execution_count": null,
   "metadata": {},
   "outputs": [],
   "source": [
    "import pandas as pd \n",
    "df=pd.read_csv(\"CNNBSWhileeee.csv\");\n",
    "import numpy as np\n",
    "import matplotlib.pyplot as plt\n",
    "%matplotlib inline"
   ]
  },
  {
   "cell_type": "code",
   "execution_count": null,
   "metadata": {},
   "outputs": [],
   "source": [
    "df.head(5)\n",
    "tc=100;\n",
    "tc=tc+1\n",
    "\n",
    "print(df.head())"
   ]
  },
  {
   "cell_type": "code",
   "execution_count": 344,
   "metadata": {},
   "outputs": [],
   "source": [
    "trainX,train_Y=df['code'],df['tag']"
   ]
  },
  {
   "cell_type": "code",
   "execution_count": 345,
   "metadata": {},
   "outputs": [
    {
     "data": {
      "text/plain": [
       "numpy.float32"
      ]
     },
     "execution_count": 345,
     "metadata": {},
     "output_type": "execute_result"
    }
   ],
   "source": [
    "tmp=[]\n",
    "for i in trainX:\n",
    "    k=i.split()\n",
    "    if(len(k)==100):\n",
    "        k.append(0)\n",
    "    \n",
    "        \n",
    "    a=np.array(k)\n",
    "    a=a.astype('float32')\n",
    "    \n",
    "    \n",
    "    a=a.reshape(tc,1)\n",
    "    tmp.append(a)\n",
    "train_X=np.array(tmp)\n",
    "train_X.shape\n",
    "type(train_X[1][1][0])\n",
    "\n"
   ]
  },
  {
   "cell_type": "code",
   "execution_count": 346,
   "metadata": {},
   "outputs": [
    {
     "data": {
      "text/plain": [
       "(260, 101, 1)"
      ]
     },
     "execution_count": 346,
     "metadata": {},
     "output_type": "execute_result"
    }
   ],
   "source": [
    "\n",
    "\n",
    "train_X.shape"
   ]
  },
  {
   "cell_type": "code",
   "execution_count": 347,
   "metadata": {},
   "outputs": [
    {
     "data": {
      "text/plain": [
       "array([[[ 0.        ],\n",
       "        [ 0.        ],\n",
       "        [ 0.        ],\n",
       "        ..., \n",
       "        [ 0.        ],\n",
       "        [ 0.        ],\n",
       "        [ 0.        ]],\n",
       "\n",
       "       [[ 0.        ],\n",
       "        [ 0.        ],\n",
       "        [ 0.        ],\n",
       "        ..., \n",
       "        [ 0.        ],\n",
       "        [ 0.        ],\n",
       "        [ 0.        ]],\n",
       "\n",
       "       [[ 0.        ],\n",
       "        [ 0.        ],\n",
       "        [ 0.        ],\n",
       "        ..., \n",
       "        [ 0.        ],\n",
       "        [ 0.        ],\n",
       "        [ 0.        ]],\n",
       "\n",
       "       ..., \n",
       "       [[ 0.76774192],\n",
       "        [ 0.67096776],\n",
       "        [ 0.67741936],\n",
       "        ..., \n",
       "        [ 0.        ],\n",
       "        [ 0.        ],\n",
       "        [ 0.        ]],\n",
       "\n",
       "       [[ 0.76774192],\n",
       "        [ 0.67096776],\n",
       "        [ 0.67741936],\n",
       "        ..., \n",
       "        [ 0.        ],\n",
       "        [ 0.        ],\n",
       "        [ 0.        ]],\n",
       "\n",
       "       [[ 0.76774192],\n",
       "        [ 0.67096776],\n",
       "        [ 0.67741936],\n",
       "        ..., \n",
       "        [ 0.        ],\n",
       "        [ 0.        ],\n",
       "        [ 0.        ]]], dtype=float32)"
      ]
     },
     "execution_count": 347,
     "metadata": {},
     "output_type": "execute_result"
    }
   ],
   "source": [
    "train_X=train_X/155 \n",
    "train_X"
   ]
  },
  {
   "cell_type": "code",
   "execution_count": 348,
   "metadata": {},
   "outputs": [
    {
     "data": {
      "text/plain": [
       "(260, 101, 1, 1)"
      ]
     },
     "execution_count": 348,
     "metadata": {},
     "output_type": "execute_result"
    }
   ],
   "source": [
    "train_X = train_X.reshape(-1, tc,1, 1)\n",
    "train_X.shape"
   ]
  },
  {
   "cell_type": "code",
   "execution_count": 349,
   "metadata": {},
   "outputs": [],
   "source": [
    "from keras.utils import to_categorical"
   ]
  },
  {
   "cell_type": "code",
   "execution_count": 350,
   "metadata": {},
   "outputs": [
    {
     "name": "stdout",
     "output_type": "stream",
     "text": [
      "Original label: 0\n",
      "After conversion to one-hot: [ 1.  0.]\n"
     ]
    }
   ],
   "source": [
    "train_Y_one_hot = to_categorical(train_Y)\n",
    "#test_Y_one_hot = to_categorical(test_Y)\n",
    "\n",
    "# Display the change for category label using one-hot encoding\n",
    "print('Original label:', train_Y[2])\n",
    "print('After conversion to one-hot:', train_Y_one_hot[2])\n"
   ]
  },
  {
   "cell_type": "code",
   "execution_count": 351,
   "metadata": {},
   "outputs": [],
   "source": [
    "from sklearn.model_selection import train_test_split\n",
    "train_X,valid_X,train_label,valid_label = train_test_split(train_X, train_Y_one_hot, test_size=0.20, random_state=13)"
   ]
  },
  {
   "cell_type": "code",
   "execution_count": 352,
   "metadata": {},
   "outputs": [
    {
     "data": {
      "text/plain": [
       "((208, 101, 1, 1), (52, 101, 1, 1), (208, 2), (52, 2))"
      ]
     },
     "execution_count": 352,
     "metadata": {},
     "output_type": "execute_result"
    }
   ],
   "source": [
    "train_X.shape,valid_X.shape,train_label.shape,valid_label.shape\n"
   ]
  },
  {
   "cell_type": "code",
   "execution_count": 353,
   "metadata": {},
   "outputs": [],
   "source": [
    "import keras\n",
    "from keras.models import Sequential,Input,Model\n",
    "from keras.layers import Dense, Dropout, Flatten\n",
    "from keras.layers import Conv2D, MaxPooling2D\n",
    "from keras.layers.normalization import BatchNormalization\n",
    "from keras.layers.advanced_activations import LeakyReLU"
   ]
  },
  {
   "cell_type": "code",
   "execution_count": 354,
   "metadata": {},
   "outputs": [],
   "source": [
    "batch_size = 64\n",
    "epochs = 25\n",
    "num_classes = 2"
   ]
  },
  {
   "cell_type": "code",
   "execution_count": 355,
   "metadata": {},
   "outputs": [],
   "source": [
    "binary_model = Sequential()\n",
    "binary_model.add(Conv2D(16, kernel_size=(4, 1),activation='linear',input_shape=(tc,1,1),padding='same'))\n",
    "binary_model.add(LeakyReLU(alpha=0.1))\n",
    "binary_model.add(MaxPooling2D((2, 1),padding='same'))\n",
    "binary_model.add(Dropout(0.2))\n",
    "binary_model.add(Conv2D(32, (2, 1), activation='linear',padding='same'))\n",
    "binary_model.add(LeakyReLU(alpha=0.1))\n",
    "binary_model.add(MaxPooling2D(pool_size=(2, 1),padding='same'))\n",
    "binary_model.add(Dropout(0.2))\n",
    "binary_model.add(Flatten())\n",
    "binary_model.add(Dense(128, activation='linear'))\n",
    "binary_model.add(LeakyReLU(alpha=0.1))                  \n",
    "binary_model.add(Dense(num_classes, activation='softmax'))"
   ]
  },
  {
   "cell_type": "code",
   "execution_count": 356,
   "metadata": {},
   "outputs": [],
   "source": [
    "binary_model.compile(loss=keras.losses.categorical_crossentropy, optimizer=keras.optimizers.Adam(),metrics=['accuracy'])"
   ]
  },
  {
   "cell_type": "code",
   "execution_count": 357,
   "metadata": {},
   "outputs": [
    {
     "name": "stdout",
     "output_type": "stream",
     "text": [
      "_________________________________________________________________\n",
      "Layer (type)                 Output Shape              Param #   \n",
      "=================================================================\n",
      "conv2d_15 (Conv2D)           (None, 101, 1, 16)        80        \n",
      "_________________________________________________________________\n",
      "leaky_re_lu_22 (LeakyReLU)   (None, 101, 1, 16)        0         \n",
      "_________________________________________________________________\n",
      "max_pooling2d_15 (MaxPooling (None, 51, 1, 16)         0         \n",
      "_________________________________________________________________\n",
      "dropout_15 (Dropout)         (None, 51, 1, 16)         0         \n",
      "_________________________________________________________________\n",
      "conv2d_16 (Conv2D)           (None, 51, 1, 32)         1056      \n",
      "_________________________________________________________________\n",
      "leaky_re_lu_23 (LeakyReLU)   (None, 51, 1, 32)         0         \n",
      "_________________________________________________________________\n",
      "max_pooling2d_16 (MaxPooling (None, 26, 1, 32)         0         \n",
      "_________________________________________________________________\n",
      "dropout_16 (Dropout)         (None, 26, 1, 32)         0         \n",
      "_________________________________________________________________\n",
      "flatten_8 (Flatten)          (None, 832)               0         \n",
      "_________________________________________________________________\n",
      "dense_15 (Dense)             (None, 128)               106624    \n",
      "_________________________________________________________________\n",
      "leaky_re_lu_24 (LeakyReLU)   (None, 128)               0         \n",
      "_________________________________________________________________\n",
      "dense_16 (Dense)             (None, 2)                 258       \n",
      "=================================================================\n",
      "Total params: 108,018\n",
      "Trainable params: 108,018\n",
      "Non-trainable params: 0\n",
      "_________________________________________________________________\n"
     ]
    }
   ],
   "source": [
    "binary_model.summary()"
   ]
  },
  {
   "cell_type": "code",
   "execution_count": 358,
   "metadata": {},
   "outputs": [
    {
     "name": "stdout",
     "output_type": "stream",
     "text": [
      "Train on 208 samples, validate on 52 samples\n",
      "Epoch 1/25\n",
      "208/208 [==============================] - 1s 5ms/step - loss: 0.6922 - acc: 0.5817 - val_loss: 0.6787 - val_acc: 0.7885\n",
      "Epoch 2/25\n",
      "208/208 [==============================] - 0s 316us/step - loss: 0.6721 - acc: 0.6779 - val_loss: 0.6569 - val_acc: 0.7885\n",
      "Epoch 3/25\n",
      "208/208 [==============================] - 0s 337us/step - loss: 0.6519 - acc: 0.7115 - val_loss: 0.6296 - val_acc: 0.8269\n",
      "Epoch 4/25\n",
      "208/208 [==============================] - 0s 313us/step - loss: 0.6307 - acc: 0.7163 - val_loss: 0.6038 - val_acc: 0.7308\n",
      "Epoch 5/25\n",
      "208/208 [==============================] - 0s 313us/step - loss: 0.6272 - acc: 0.6827 - val_loss: 0.5828 - val_acc: 0.8462\n",
      "Epoch 6/25\n",
      "208/208 [==============================] - 0s 327us/step - loss: 0.5881 - acc: 0.7356 - val_loss: 0.5811 - val_acc: 0.7885\n",
      "Epoch 7/25\n",
      "208/208 [==============================] - 0s 303us/step - loss: 0.5551 - acc: 0.7500 - val_loss: 0.5384 - val_acc: 0.8654\n",
      "Epoch 8/25\n",
      "208/208 [==============================] - 0s 308us/step - loss: 0.5273 - acc: 0.7596 - val_loss: 0.5053 - val_acc: 0.8077\n",
      "Epoch 9/25\n",
      "208/208 [==============================] - 0s 303us/step - loss: 0.4923 - acc: 0.7837 - val_loss: 0.5182 - val_acc: 0.7115\n",
      "Epoch 10/25\n",
      "208/208 [==============================] - 0s 337us/step - loss: 0.4615 - acc: 0.8173 - val_loss: 0.4767 - val_acc: 0.8462\n",
      "Epoch 11/25\n",
      "208/208 [==============================] - 0s 337us/step - loss: 0.4327 - acc: 0.8173 - val_loss: 0.5004 - val_acc: 0.7115\n",
      "Epoch 12/25\n",
      "208/208 [==============================] - 0s 342us/step - loss: 0.4235 - acc: 0.8077 - val_loss: 0.4653 - val_acc: 0.7885\n",
      "Epoch 13/25\n",
      "208/208 [==============================] - 0s 303us/step - loss: 0.3777 - acc: 0.8894 - val_loss: 0.4580 - val_acc: 0.8077\n",
      "Epoch 14/25\n",
      "208/208 [==============================] - 0s 303us/step - loss: 0.4300 - acc: 0.8077 - val_loss: 0.4139 - val_acc: 0.8846\n",
      "Epoch 15/25\n",
      "208/208 [==============================] - 0s 303us/step - loss: 0.3954 - acc: 0.8173 - val_loss: 0.4061 - val_acc: 0.8462\n",
      "Epoch 16/25\n",
      "208/208 [==============================] - 0s 322us/step - loss: 0.3804 - acc: 0.8173 - val_loss: 0.3921 - val_acc: 0.8846\n",
      "Epoch 17/25\n",
      "208/208 [==============================] - 0s 298us/step - loss: 0.3662 - acc: 0.8606 - val_loss: 0.3713 - val_acc: 0.9038\n",
      "Epoch 18/25\n",
      "208/208 [==============================] - 0s 322us/step - loss: 0.3887 - acc: 0.8173 - val_loss: 0.3786 - val_acc: 0.8846\n",
      "Epoch 19/25\n",
      "208/208 [==============================] - 0s 308us/step - loss: 0.3630 - acc: 0.8654 - val_loss: 0.3566 - val_acc: 0.8462\n",
      "Epoch 20/25\n",
      "208/208 [==============================] - 0s 293us/step - loss: 0.3767 - acc: 0.8462 - val_loss: 0.4091 - val_acc: 0.8269\n",
      "Epoch 21/25\n",
      "208/208 [==============================] - 0s 293us/step - loss: 0.3715 - acc: 0.8413 - val_loss: 0.3644 - val_acc: 0.8462\n",
      "Epoch 22/25\n",
      "208/208 [==============================] - 0s 284us/step - loss: 0.3674 - acc: 0.8413 - val_loss: 0.3825 - val_acc: 0.8846\n",
      "Epoch 23/25\n",
      "208/208 [==============================] - 0s 260us/step - loss: 0.3302 - acc: 0.8750 - val_loss: 0.3470 - val_acc: 0.8654\n",
      "Epoch 24/25\n",
      "208/208 [==============================] - 0s 279us/step - loss: 0.3487 - acc: 0.8654 - val_loss: 0.3616 - val_acc: 0.8846\n",
      "Epoch 25/25\n",
      "208/208 [==============================] - 0s 289us/step - loss: 0.3213 - acc: 0.8654 - val_loss: 0.3210 - val_acc: 0.8846\n"
     ]
    }
   ],
   "source": [
    "binary_train = binary_model.fit(train_X, train_label, batch_size=batch_size,epochs=epochs,verbose=1,validation_data=(valid_X, valid_label))"
   ]
  },
  {
   "cell_type": "code",
   "execution_count": 359,
   "metadata": {},
   "outputs": [],
   "source": [
    "test_eval =binary_model.evaluate(train_X, train_label, verbose=0)"
   ]
  },
  {
   "cell_type": "code",
   "execution_count": 360,
   "metadata": {},
   "outputs": [
    {
     "name": "stdout",
     "output_type": "stream",
     "text": [
      "Test loss: 0.272669544587\n",
      "Test accuracy: 0.899038461538\n"
     ]
    }
   ],
   "source": [
    "print('Test loss:', test_eval[0])\n",
    "print('Test accuracy:', test_eval[1])"
   ]
  },
  {
   "cell_type": "code",
   "execution_count": 361,
   "metadata": {},
   "outputs": [
    {
     "data": {
      "image/png": "[encoded data removed]",
      "text/plain": [
       "<Figure size 432x288 with 1 Axes>"
      ]
     },
     "metadata": {},
     "output_type": "display_data"
    },
    {
     "data": {
      "image/png": "[encoded data removed]",
      "text/plain": [
       "<Figure size 432x288 with 1 Axes>"
      ]
     },
     "metadata": {},
     "output_type": "display_data"
    }
   ],
   "source": [
    "accuracy = binary_train.history['acc']\n",
    "val_accuracy = binary_train.history['val_acc']\n",
    "loss = binary_train.history['loss']\n",
    "val_loss = binary_train.history['val_loss']\n",
    "epochs = range(len(accuracy))\n",
    "plt.plot(epochs, accuracy, 'bo', label='Training accuracy')\n",
    "plt.plot(epochs, val_accuracy, 'b', label='Validation accuracy')\n",
    "plt.title('Training and validation accuracy')\n",
    "plt.legend()\n",
    "plt.figure()\n",
    "plt.plot(epochs, loss, 'bo', label='Training loss')\n",
    "plt.plot(epochs, val_loss, 'b', label='Validation loss')\n",
    "plt.title('Training and validation loss')\n",
    "plt.legend()\n",
    "plt.show()"
   ]
  },
  {
   "cell_type": "code",
   "execution_count": 362,
   "metadata": {},
   "outputs": [],
   "source": [
    "from sklearn.metrics import classification_report\n",
    "predicted_classes=binary_model.predict(valid_X)\n",
    "#print(predicted_classes)"
   ]
  },
  {
   "cell_type": "code",
   "execution_count": 363,
   "metadata": {},
   "outputs": [],
   "source": [
    "predicted_classes = np.argmax(np.round(predicted_classes),axis=1)\n"
   ]
  },
  {
   "cell_type": "code",
   "execution_count": 364,
   "metadata": {},
   "outputs": [
    {
     "data": {
      "text/plain": [
       "array([0, 1, 0, 1, 0, 0, 1, 1, 1, 1, 0, 0, 0, 0, 0, 1, 1, 0, 0, 0, 0, 0, 0,\n",
       "       0, 0, 1, 0, 1, 0, 1, 1, 1, 0, 0, 1, 0, 0, 1, 0, 0, 0, 0, 1, 1, 0, 0,\n",
       "       0, 0, 0, 0, 0, 0], dtype=int64)"
      ]
     },
     "execution_count": 364,
     "metadata": {},
     "output_type": "execute_result"
    }
   ],
   "source": [
    "predicted_classes\n"
   ]
  },
  {
   "cell_type": "code",
   "execution_count": 365,
   "metadata": {},
   "outputs": [],
   "source": [
    "actual= np.argmax(np.round(valid_label),axis=1)"
   ]
  },
  {
   "cell_type": "code",
   "execution_count": 366,
   "metadata": {},
   "outputs": [
    {
     "data": {
      "text/plain": [
       "array([1, 1, 0, 1, 0, 0, 0, 1, 1, 1, 0, 0, 0, 0, 0, 0, 1, 0, 0, 0, 1, 0, 0,\n",
       "       0, 0, 1, 0, 1, 0, 1, 1, 1, 1, 0, 1, 0, 0, 1, 0, 1, 0, 0, 1, 1, 0, 0,\n",
       "       0, 0, 0, 0, 0, 0], dtype=int64)"
      ]
     },
     "execution_count": 366,
     "metadata": {},
     "output_type": "execute_result"
    }
   ],
   "source": [
    "actual"
   ]
  },
  {
   "cell_type": "code",
   "execution_count": 367,
   "metadata": {},
   "outputs": [
    {
     "name": "stdout",
     "output_type": "stream",
     "text": [
      "             precision    recall  f1-score   support\n",
      "\n",
      "          0       0.94      0.89      0.91        35\n",
      "          1       0.79      0.88      0.83        17\n",
      "\n",
      "avg / total       0.89      0.88      0.89        52\n",
      "\n"
     ]
    }
   ],
   "source": [
    "from sklearn.metrics import classification_report, confusion_matrix\n",
    "\n",
    "print(classification_report(predicted_classes,actual))"
   ]
  },
  {
   "cell_type": "code",
   "execution_count": 368,
   "metadata": {},
   "outputs": [],
   "source": [
    "\n",
    "def cleanData(c):\n",
    "    code=c\n",
    "    df1 = pd.DataFrame({'A':[code]})\n",
    "            \n",
    "    df1 = df1.replace('\\n',' ', regex=True)\n",
    "    df1 = df1.replace('\\t',' ', regex=True)\n",
    "    df1 = df1.replace('\\r',' ', regex=True)\n",
    "    df1 = df1.replace(',',' ', regex=True)\n",
    "    c=0\n",
    "    tmp=\"\"\n",
    "    for i in df1['A']:\n",
    "                c=0\n",
    "                aa=i.split()\n",
    "                ff=0\n",
    "                #print(aa)\n",
    "                for it in aa:\n",
    "                    if \"while\" in it:\n",
    "                        ff=1\n",
    "                        #print(\"While found at\",it)\n",
    "                    if ff==1:\n",
    "                        for xx in it:\n",
    "                            \n",
    "                            if c<=100:\n",
    "                                tmp=tmp+str(ord(xx))+' '\n",
    "                                #print(ord(xx),end=' ')\n",
    "                                c=c+1\n",
    "                    if \"lower_bound\" in it :\n",
    "                        for xx in it:\n",
    "                            \n",
    "                            if c<=100:\n",
    "                                tmp=tmp+str(ord(xx))+' '\n",
    "                                #print(ord(xx),end=' ')\n",
    "                                c=c+1\n",
    "                    if \"upper_bound\" in it :\n",
    "                        for xx in it:\n",
    "                            \n",
    "                            if c<=100:\n",
    "                                tmp=tmp+str(ord(xx))+' '\n",
    "                                #print(ord(xx),end=' ')\n",
    "                                c=c+1\n",
    "                while(c<=100):\n",
    "                    tmp=tmp+\"0 \"\n",
    "                    #print(0,end=' ')\n",
    "                    c=c+1\n",
    "                        \n",
    "               \n",
    "            \n",
    "    #print(ff)          \n",
    "    return tmp\n",
    "            \n",
    "    \n",
    "    "
   ]
  },
  {
   "cell_type": "code",
   "execution_count": 369,
   "metadata": {},
   "outputs": [],
   "source": [
    "def makeCNNReady(c):\n",
    "    tmp=[]\n",
    "    tmp=c.split()\n",
    "    aa=np.array(tmp)\n",
    "    aa=aa.astype('float32')\n",
    "    \n",
    "    aa=aa.reshape(tc,1)\n",
    "    aa=aa.reshape(-1,tc,1,1)\n",
    "    aa=aa/155\n",
    "    return aa"
   ]
  },
  {
   "cell_type": "code",
   "execution_count": 370,
   "metadata": {},
   "outputs": [],
   "source": [
    "def getPrediction(c):\n",
    "    pred=binary_model.predict(makeCNNReady(cleanData(c)))\n",
    "    print(pred)\n",
    "    #cc=np.argmax(np.round(pred),axis=1)\n",
    "    if pred[0][1]>=pred[0][0]:\n",
    "        return \"yes\"\n",
    "    else:\n",
    "        return \"no\""
   ]
  },
  {
   "cell_type": "code",
   "execution_count": 371,
   "metadata": {},
   "outputs": [],
   "source": [
    "code=\"\"\"\n",
    "#include<bits/stdc++.h>\n",
    "using namespace std;\n",
    "int main()\n",
    "{\n",
    "\n",
    "while(l<=r)\n",
    "{\n",
    "int mid=(l+r)/2;\n",
    "if(a[mid]==k)\n",
    "else if(a[mid]<k)\n",
    "r=mid-1;\n",
    "else if(a[mid]>k)\n",
    "l=mid+1;\n",
    "}\n",
    "}\n",
    "\n",
    "}\n",
    "\n",
    "\n",
    "\"\"\""
   ]
  },
  {
   "cell_type": "code",
   "execution_count": 372,
   "metadata": {},
   "outputs": [
    {
     "name": "stdout",
     "output_type": "stream",
     "text": [
      "[[ 0.05819317  0.94180691]]\n"
     ]
    },
    {
     "data": {
      "text/plain": [
       "'yes'"
      ]
     },
     "execution_count": 372,
     "metadata": {},
     "output_type": "execute_result"
    }
   ],
   "source": [
    "#cleanData(code)\n",
    "getPrediction(code)\n"
   ]
  },
  {
   "cell_type": "code",
   "execution_count": 373,
   "metadata": {},
   "outputs": [],
   "source": [
    "code=\"\"\"\n",
    "\n",
    "#include <iostream>\n",
    "#include <cstdio>\n",
    "#include <algorithm>\n",
    "#include <cstring>\n",
    "using namespace std;\n",
    "const int maxn = 2e5+8;\n",
    "int n,a[maxn],dp1[maxn],len1[maxn],dp2[maxn],h1[maxn],h2[maxn],len2[maxn];\n",
    "int main(){\n",
    "    scanf(\"%d\",&n);\n",
    "    for(int i = 1;i <= n;++i)\n",
    "        scanf(\"%d\",&a[i]),a[i] -= i;\n",
    "    int mx = 1;\n",
    "    memset(dp1,0x3f,sizeof(dp1));\n",
    "    for(int i = 1;i <= n;++i){\n",
    "        int idx = upper_bound(dp1+1,dp1+1+n,a[i]) - dp1;\n",
    "        dp1[idx] = a[i];\n",
    "        mx = max(mx,idx);\n",
    "        len1[i] = mx;\n",
    "        h1[i] = dp1[mx];\n",
    "    }\n",
    "    memset(dp2,0x3f,sizeof(dp2));\n",
    "    mx = 1;\n",
    "    for(int i = n;i >= 1;--i){\n",
    "        int idx = upper_bound(dp2+1,dp2+1+n,-a[i]-1) - dp2;\n",
    "        dp2[idx] = -a[i]-1;\n",
    "        mx = max(mx,idx);\n",
    "        len2[i] = mx;\n",
    "        h2[i] = dp2[mx];\n",
    "    }\n",
    "    dp1[0] = 0;dp2[0] = -2;\n",
    "    int ans = max(len1[n],len2[1]);\n",
    "    for(int i = 1;i <= n;++i){\n",
    "        //printf(\"i:%d len1:%d len2:%d dp1:%d dp2:%d\\n\",i,len1[i-1],len2[i+1],h1[i-1],h2[i+1]);\n",
    "        if(h1[i-1] <= -h2[i+1]){\n",
    "            ans = max(ans,len1[i-1]+len2[i+1]);\n",
    "        }\n",
    "    }\n",
    "    cout<<max(0,n-1-ans)<<endl;\n",
    "    return 0;\n",
    "}\n",
    "\n",
    "\n",
    "\n",
    "\n",
    "\n",
    "\n",
    "\n",
    "\n",
    "\"\"\""
   ]
  },
  {
   "cell_type": "code",
   "execution_count": 374,
   "metadata": {},
   "outputs": [
    {
     "name": "stdout",
     "output_type": "stream",
     "text": [
      "[[ 0.15316056  0.84683949]]\n"
     ]
    },
    {
     "data": {
      "text/plain": [
       "'yes'"
      ]
     },
     "execution_count": 374,
     "metadata": {},
     "output_type": "execute_result"
    }
   ],
   "source": [
    "getPrediction(code)"
   ]
  },
  {
   "cell_type": "code",
   "execution_count": 375,
   "metadata": {},
   "outputs": [],
   "source": [
    "code=\"\"\"\n",
    "#include<bits/stdc++.h>\n",
    "using namespace std;\n",
    "int main()\n",
    "{\n",
    "\n",
    "while(t--)\n",
    "{\n",
    "cin>>n;\n",
    "if(n%2==0)\n",
    "cout<<\"Even\"<<endl;\n",
    "else\n",
    "cout<<\"Odd\"<<endl;\n",
    "\n",
    "}\n",
    "}\n",
    "\n",
    "\"\"\"\n",
    "\n"
   ]
  },
  {
   "cell_type": "code",
   "execution_count": 376,
   "metadata": {},
   "outputs": [
    {
     "name": "stdout",
     "output_type": "stream",
     "text": [
      "[[ 0.75119144  0.24880858]]\n"
     ]
    },
    {
     "data": {
      "text/plain": [
       "'no'"
      ]
     },
     "execution_count": 376,
     "metadata": {},
     "output_type": "execute_result"
    }
   ],
   "source": [
    "getPrediction(code)"
   ]
  },
  {
   "cell_type": "code",
   "execution_count": 377,
   "metadata": {},
   "outputs": [],
   "source": [
    "code=\"\"\"\n",
    "\n",
    "#include<bits/stdc++.h>\n",
    "using namespace std;\n",
    "int main()\n",
    "{\n",
    "int t,n,k,i,x;\n",
    "cin>>t;\n",
    "while(t--)\n",
    "{\n",
    "cin>>n>>k;\n",
    "x=0;\n",
    "for(i=0;i<n;i++)\n",
    "{\n",
    "cin>>a[i];\n",
    "if(a[i]%2==0)\n",
    "x=1;\n",
    "}\n",
    "\n",
    "\n",
    "\n",
    "}\n",
    "\n",
    "}\n",
    "\n",
    "\n",
    "\n",
    "\n",
    "\"\"\""
   ]
  },
  {
   "cell_type": "code",
   "execution_count": 378,
   "metadata": {},
   "outputs": [
    {
     "name": "stdout",
     "output_type": "stream",
     "text": [
      "[[ 0.87431043  0.12568964]]\n",
      "no\n"
     ]
    }
   ],
   "source": [
    "#print(cleanData(code))\n",
    "print(getPrediction(code))\n"
   ]
  },
  {
   "cell_type": "code",
   "execution_count": null,
   "metadata": {},
   "outputs": [],
   "source": [
    "\n",
    "        \n",
    "        "
   ]
  },
  {
   "cell_type": "code",
   "execution_count": 379,
   "metadata": {},
   "outputs": [],
   "source": [
    "tt=makeCNNReady(cleanData(code))\n"
   ]
  },
  {
   "cell_type": "code",
   "execution_count": 380,
   "metadata": {},
   "outputs": [
    {
     "data": {
      "text/plain": [
       "(1, 101, 1, 1)"
      ]
     },
     "execution_count": 380,
     "metadata": {},
     "output_type": "execute_result"
    }
   ],
   "source": [
    "tt.shape"
   ]
  },
  {
   "cell_type": "code",
   "execution_count": 381,
   "metadata": {},
   "outputs": [],
   "source": [
    "tt=tt/155"
   ]
  },
  {
   "cell_type": "code",
   "execution_count": null,
   "metadata": {},
   "outputs": [],
   "source": [
    "\n",
    "    "
   ]
  },
  {
   "cell_type": "code",
   "execution_count": 382,
   "metadata": {},
   "outputs": [
    {
     "name": "stdout",
     "output_type": "stream",
     "text": [
      "[[ 0.87431043  0.12568964]]\n"
     ]
    },
    {
     "data": {
      "text/plain": [
       "'no'"
      ]
     },
     "execution_count": 382,
     "metadata": {},
     "output_type": "execute_result"
    }
   ],
   "source": [
    "getPrediction(code)"
   ]
  },
  {
   "cell_type": "code",
   "execution_count": 383,
   "metadata": {},
   "outputs": [
    {
     "name": "stdout",
     "output_type": "stream",
     "text": [
      "\n",
      "\n",
      "#include<bits/stdc++.h>\n",
      "using namespace std;\n",
      "int main()\n",
      "{\n",
      "int t,n,k,i,x;\n",
      "cin>>t;\n",
      "while(t--)\n",
      "{\n",
      "cin>>n>>k;\n",
      "x=0;\n",
      "for(i=0;i<n;i++)\n",
      "{\n",
      "cin>>a[i];\n",
      "if(a[i]%2==0)\n",
      "x=1;\n",
      "}\n",
      "\n",
      "\n",
      "\n",
      "}\n",
      "\n",
      "}\n",
      "\n",
      "\n",
      "\n",
      "\n",
      "\n"
     ]
    }
   ],
   "source": [
    "print(code)"
   ]
  },
  {
   "cell_type": "code",
   "execution_count": 384,
   "metadata": {},
   "outputs": [
    {
     "name": "stdout",
     "output_type": "stream",
     "text": [
      "[[ 0.87431043  0.12568964]]\n"
     ]
    },
    {
     "data": {
      "text/plain": [
       "'no'"
      ]
     },
     "execution_count": 384,
     "metadata": {},
     "output_type": "execute_result"
    }
   ],
   "source": [
    "#x=makeCNNReady(cleanData(code))\n",
    "#print(x)\n",
    "getPrediction(code)"
   ]
  },
  {
   "cell_type": "code",
   "execution_count": 385,
   "metadata": {},
   "outputs": [],
   "source": [
    "code=\"\"\"\n",
    "\n",
    "#include<bits/stdc++.h>\n",
    "using namespace std;\n",
    "int main()\n",
    "{\n",
    "        ios_base::sync_with_stdio(0);\n",
    "        cin.tie(0);\n",
    "        cout.tie(0);\n",
    "        cin>>n>>k;\n",
    "        for(i=0;i<n;i++)\n",
    "        cin>>a[i];\n",
    "        while(i<n)\n",
    "        {\n",
    "            if(a[i]==k)\n",
    "            {\n",
    "                cout<<i<<endl;\n",
    "                break;\n",
    "            }\n",
    "            i++;\n",
    "        }\n",
    "        \n",
    "        \n",
    "}\n",
    "\n",
    "\n",
    "\n",
    "\n",
    "\n",
    "\n",
    "\"\"\"\n"
   ]
  },
  {
   "cell_type": "code",
   "execution_count": 386,
   "metadata": {},
   "outputs": [
    {
     "data": {
      "text/plain": [
       "'119 104 105 108 101 40 105 60 110 41 123 105 102 40 97 91 105 93 61 61 107 41 123 99 111 117 116 60 60 105 60 60 101 110 100 108 59 98 114 101 97 107 59 125 105 43 43 59 125 125 0 0 0 0 0 0 0 0 0 0 0 0 0 0 0 0 0 0 0 0 0 0 0 0 0 0 0 0 0 0 0 0 0 0 0 0 0 0 0 0 0 0 0 0 0 0 0 0 0 0 0 '"
      ]
     },
     "execution_count": 386,
     "metadata": {},
     "output_type": "execute_result"
    }
   ],
   "source": [
    "cleanData(code)"
   ]
  },
  {
   "cell_type": "code",
   "execution_count": 387,
   "metadata": {},
   "outputs": [
    {
     "name": "stdout",
     "output_type": "stream",
     "text": [
      "[[ 0.80430442  0.19569558]]\n"
     ]
    },
    {
     "data": {
      "text/plain": [
       "'no'"
      ]
     },
     "execution_count": 387,
     "metadata": {},
     "output_type": "execute_result"
    }
   ],
   "source": [
    "getPrediction(code)"
   ]
  },
  {
   "cell_type": "code",
   "execution_count": 388,
   "metadata": {},
   "outputs": [
    {
     "name": "stdout",
     "output_type": "stream",
     "text": [
      "Model saved\n"
     ]
    }
   ],
   "source": [
    "binary_model.save('binary_model.h5')\n",
    "print(\"Model saved\");"
   ]
  }
 ],
 "metadata": {
  "kernelspec": {
   "display_name": "Python 3",
   "language": "python",
   "name": "python3"
  },
  "language_info": {
   "codemirror_mode": {
    "name": "ipython",
    "version": 3
   },
   "file_extension": ".py",
   "mimetype": "text/x-python",
   "name": "python",
   "nbconvert_exporter": "python",
   "pygments_lexer": "ipython3",
   "version": "3.6.2"
  }
 },
 "nbformat": 4,
 "nbformat_minor": 2
}
