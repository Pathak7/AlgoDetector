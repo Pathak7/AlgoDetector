{
 "cells": [
  {
   "cell_type": "code",
   "execution_count": 693,
   "metadata": {},
   "outputs": [],
   "source": [
    "import pandas as pd \n",
    "df=pd.read_csv(\"CNNBSWhileeee.csv\");\n",
    "import numpy as np"
   ]
  },
  {
   "cell_type": "code",
   "execution_count": 694,
   "metadata": {},
   "outputs": [
    {
     "name": "stdout",
     "output_type": "stream",
     "text": [
      "                                                code  tag\n",
      "0  0 0 0 0 0 0 0 0 0 0 0 0 0 0 0 0 0 0 0 0 0 0 0 ...    0\n",
      "1  0 0 0 0 0 0 0 0 0 0 0 0 0 0 0 0 0 0 0 0 0 0 0 ...    0\n",
      "2  0 0 0 0 0 0 0 0 0 0 0 0 0 0 0 0 0 0 0 0 0 0 0 ...    0\n",
      "3  0 0 0 0 0 0 0 0 0 0 0 0 0 0 0 0 0 0 0 0 0 0 0 ...    0\n",
      "4  0 0 0 0 0 0 0 0 0 0 0 0 0 0 0 0 0 0 0 0 0 0 0 ...    0\n"
     ]
    }
   ],
   "source": [
    "df.head(5)\n",
    "tc=100;\n",
    "tc=tc+1\n",
    "\n",
    "print(df.head())"
   ]
  },
  {
   "cell_type": "code",
   "execution_count": 695,
   "metadata": {},
   "outputs": [],
   "source": [
    "trainX,train_Y=df['code'],df['tag']"
   ]
  },
  {
   "cell_type": "code",
   "execution_count": 696,
   "metadata": {},
   "outputs": [
    {
     "data": {
      "text/plain": [
       "numpy.float32"
      ]
     },
     "execution_count": 696,
     "metadata": {},
     "output_type": "execute_result"
    }
   ],
   "source": [
    "tmp=[]\n",
    "for i in trainX:\n",
    "    k=i.split()\n",
    "    if(len(k)==100):\n",
    "        k.append(0)\n",
    "    \n",
    "        \n",
    "    a=np.array(k)\n",
    "    a=a.astype('float32')\n",
    "    \n",
    "    \n",
    "    a=a.reshape(tc,1)\n",
    "    tmp.append(a)\n",
    "train_X=np.array(tmp)\n",
    "train_X.shape\n",
    "type(train_X[1][1][0])\n",
    "\n"
   ]
  },
  {
   "cell_type": "code",
   "execution_count": 697,
   "metadata": {},
   "outputs": [
    {
     "data": {
      "text/plain": [
       "(260, 101, 1)"
      ]
     },
     "execution_count": 697,
     "metadata": {},
     "output_type": "execute_result"
    }
   ],
   "source": [
    "\n",
    "\n",
    "train_X.shape"
   ]
  },
  {
   "cell_type": "code",
   "execution_count": 698,
   "metadata": {},
   "outputs": [
    {
     "data": {
      "text/plain": [
       "array([[[0.        ],\n",
       "        [0.        ],\n",
       "        [0.        ],\n",
       "        ...,\n",
       "        [0.        ],\n",
       "        [0.        ],\n",
       "        [0.        ]],\n",
       "\n",
       "       [[0.        ],\n",
       "        [0.        ],\n",
       "        [0.        ],\n",
       "        ...,\n",
       "        [0.        ],\n",
       "        [0.        ],\n",
       "        [0.        ]],\n",
       "\n",
       "       [[0.        ],\n",
       "        [0.        ],\n",
       "        [0.        ],\n",
       "        ...,\n",
       "        [0.        ],\n",
       "        [0.        ],\n",
       "        [0.        ]],\n",
       "\n",
       "       ...,\n",
       "\n",
       "       [[0.7677419 ],\n",
       "        [0.67096776],\n",
       "        [0.67741936],\n",
       "        ...,\n",
       "        [0.        ],\n",
       "        [0.        ],\n",
       "        [0.        ]],\n",
       "\n",
       "       [[0.7677419 ],\n",
       "        [0.67096776],\n",
       "        [0.67741936],\n",
       "        ...,\n",
       "        [0.        ],\n",
       "        [0.        ],\n",
       "        [0.        ]],\n",
       "\n",
       "       [[0.7677419 ],\n",
       "        [0.67096776],\n",
       "        [0.67741936],\n",
       "        ...,\n",
       "        [0.        ],\n",
       "        [0.        ],\n",
       "        [0.        ]]], dtype=float32)"
      ]
     },
     "execution_count": 698,
     "metadata": {},
     "output_type": "execute_result"
    }
   ],
   "source": [
    "train_X=train_X/155 \n",
    "train_X"
   ]
  },
  {
   "cell_type": "code",
   "execution_count": 699,
   "metadata": {},
   "outputs": [
    {
     "data": {
      "text/plain": [
       "(260, 101, 1, 1)"
      ]
     },
     "execution_count": 699,
     "metadata": {},
     "output_type": "execute_result"
    }
   ],
   "source": [
    "train_X = train_X.reshape(-1, tc,1, 1)\n",
    "train_X.shape"
   ]
  },
  {
   "cell_type": "code",
   "execution_count": 700,
   "metadata": {},
   "outputs": [],
   "source": [
    "from keras.utils import to_categorical"
   ]
  },
  {
   "cell_type": "code",
   "execution_count": 701,
   "metadata": {},
   "outputs": [
    {
     "name": "stdout",
     "output_type": "stream",
     "text": [
      "Original label: 0\n",
      "After conversion to one-hot: [1. 0.]\n"
     ]
    }
   ],
   "source": [
    "train_Y_one_hot = to_categorical(train_Y)\n",
    "#test_Y_one_hot = to_categorical(test_Y)\n",
    "\n",
    "# Display the change for category label using one-hot encoding\n",
    "print('Original label:', train_Y[2])\n",
    "print('After conversion to one-hot:', train_Y_one_hot[2])\n"
   ]
  },
  {
   "cell_type": "code",
   "execution_count": 702,
   "metadata": {},
   "outputs": [],
   "source": [
    "from sklearn.model_selection import train_test_split\n",
    "train_X,valid_X,train_label,valid_label = train_test_split(train_X, train_Y_one_hot, test_size=0.15, random_state=13)"
   ]
  },
  {
   "cell_type": "code",
   "execution_count": 703,
   "metadata": {},
   "outputs": [
    {
     "data": {
      "text/plain": [
       "((221, 101, 1, 1), (39, 101, 1, 1), (221, 2), (39, 2))"
      ]
     },
     "execution_count": 703,
     "metadata": {},
     "output_type": "execute_result"
    }
   ],
   "source": [
    "train_X.shape,valid_X.shape,train_label.shape,valid_label.shape\n"
   ]
  },
  {
   "cell_type": "code",
   "execution_count": 704,
   "metadata": {},
   "outputs": [],
   "source": [
    "import keras\n",
    "from keras.models import Sequential,Input,Model\n",
    "from keras.layers import Dense, Dropout, Flatten\n",
    "from keras.layers import Conv2D, MaxPooling2D\n",
    "from keras.layers.normalization import BatchNormalization\n",
    "from keras.layers.advanced_activations import LeakyReLU"
   ]
  },
  {
   "cell_type": "code",
   "execution_count": 705,
   "metadata": {},
   "outputs": [],
   "source": [
    "batch_size = 64\n",
    "epochs = 25\n",
    "num_classes = 2"
   ]
  },
  {
   "cell_type": "code",
   "execution_count": 706,
   "metadata": {},
   "outputs": [],
   "source": [
    "binary_model = Sequential()\n",
    "binary_model.add(Conv2D(16, kernel_size=(4, 1),activation='linear',input_shape=(tc,1,1),padding='same'))\n",
    "binary_model.add(LeakyReLU(alpha=0.1))\n",
    "binary_model.add(MaxPooling2D((2, 1),padding='same'))\n",
    "binary_model.add(Dropout(0.2))\n",
    "binary_model.add(Conv2D(32, (2, 1), activation='linear',padding='same'))\n",
    "binary_model.add(LeakyReLU(alpha=0.1))\n",
    "binary_model.add(MaxPooling2D(pool_size=(2, 1),padding='same'))\n",
    "binary_model.add(Dropout(0.2))\n",
    "binary_model.add(Flatten())\n",
    "binary_model.add(Dense(128, activation='linear'))\n",
    "binary_model.add(LeakyReLU(alpha=0.1))                  \n",
    "binary_model.add(Dense(num_classes, activation='softmax'))"
   ]
  },
  {
   "cell_type": "code",
   "execution_count": 707,
   "metadata": {},
   "outputs": [],
   "source": [
    "binary_model.compile(loss=keras.losses.categorical_crossentropy, optimizer=keras.optimizers.Adam(),metrics=['accuracy'])"
   ]
  },
  {
   "cell_type": "code",
   "execution_count": 708,
   "metadata": {},
   "outputs": [
    {
     "name": "stdout",
     "output_type": "stream",
     "text": [
      "_________________________________________________________________\n",
      "Layer (type)                 Output Shape              Param #   \n",
      "=================================================================\n",
      "conv2d_31 (Conv2D)           (None, 101, 1, 16)        80        \n",
      "_________________________________________________________________\n",
      "leaky_re_lu_46 (LeakyReLU)   (None, 101, 1, 16)        0         \n",
      "_________________________________________________________________\n",
      "max_pooling2d_31 (MaxPooling (None, 51, 1, 16)         0         \n",
      "_________________________________________________________________\n",
      "dropout_31 (Dropout)         (None, 51, 1, 16)         0         \n",
      "_________________________________________________________________\n",
      "conv2d_32 (Conv2D)           (None, 51, 1, 32)         1056      \n",
      "_________________________________________________________________\n",
      "leaky_re_lu_47 (LeakyReLU)   (None, 51, 1, 32)         0         \n",
      "_________________________________________________________________\n",
      "max_pooling2d_32 (MaxPooling (None, 26, 1, 32)         0         \n",
      "_________________________________________________________________\n",
      "dropout_32 (Dropout)         (None, 26, 1, 32)         0         \n",
      "_________________________________________________________________\n",
      "flatten_16 (Flatten)         (None, 832)               0         \n",
      "_________________________________________________________________\n",
      "dense_31 (Dense)             (None, 128)               106624    \n",
      "_________________________________________________________________\n",
      "leaky_re_lu_48 (LeakyReLU)   (None, 128)               0         \n",
      "_________________________________________________________________\n",
      "dense_32 (Dense)             (None, 2)                 258       \n",
      "=================================================================\n",
      "Total params: 108,018\n",
      "Trainable params: 108,018\n",
      "Non-trainable params: 0\n",
      "_________________________________________________________________\n"
     ]
    }
   ],
   "source": [
    "binary_model.summary()"
   ]
  },
  {
   "cell_type": "code",
   "execution_count": 709,
   "metadata": {},
   "outputs": [
    {
     "name": "stdout",
     "output_type": "stream",
     "text": [
      "Train on 221 samples, validate on 39 samples\n",
      "Epoch 1/25\n",
      "221/221 [==============================] - 2s 8ms/step - loss: 0.6869 - acc: 0.6290 - val_loss: 0.6566 - val_acc: 0.7179\n",
      "Epoch 2/25\n",
      "221/221 [==============================] - 0s 326us/step - loss: 0.6562 - acc: 0.7195 - val_loss: 0.6283 - val_acc: 0.7179\n",
      "Epoch 3/25\n",
      "221/221 [==============================] - 0s 326us/step - loss: 0.6273 - acc: 0.7195 - val_loss: 0.5999 - val_acc: 0.7179\n",
      "Epoch 4/25\n",
      "221/221 [==============================] - 0s 308us/step - loss: 0.5981 - acc: 0.7285 - val_loss: 0.5839 - val_acc: 0.8462\n",
      "Epoch 5/25\n",
      "221/221 [==============================] - 0s 317us/step - loss: 0.5932 - acc: 0.6923 - val_loss: 0.5549 - val_acc: 0.7949\n",
      "Epoch 6/25\n",
      "221/221 [==============================] - 0s 321us/step - loss: 0.5566 - acc: 0.7602 - val_loss: 0.5418 - val_acc: 0.7949\n",
      "Epoch 7/25\n",
      "221/221 [==============================] - 0s 326us/step - loss: 0.5249 - acc: 0.7557 - val_loss: 0.5414 - val_acc: 0.7949\n",
      "Epoch 8/25\n",
      "221/221 [==============================] - 0s 317us/step - loss: 0.4771 - acc: 0.8145 - val_loss: 0.5320 - val_acc: 0.7692\n",
      "Epoch 9/25\n",
      "221/221 [==============================] - 0s 321us/step - loss: 0.4590 - acc: 0.8145 - val_loss: 0.5348 - val_acc: 0.7436\n",
      "Epoch 10/25\n",
      "221/221 [==============================] - 0s 299us/step - loss: 0.4282 - acc: 0.8281 - val_loss: 0.5265 - val_acc: 0.6923\n",
      "Epoch 11/25\n",
      "221/221 [==============================] - 0s 290us/step - loss: 0.4299 - acc: 0.8190 - val_loss: 0.4857 - val_acc: 0.7692\n",
      "Epoch 12/25\n",
      "221/221 [==============================] - 0s 303us/step - loss: 0.4832 - acc: 0.7828 - val_loss: 0.5818 - val_acc: 0.6154\n",
      "Epoch 13/25\n",
      "221/221 [==============================] - 0s 335us/step - loss: 0.4477 - acc: 0.7783 - val_loss: 0.4498 - val_acc: 0.7692\n",
      "Epoch 14/25\n",
      "221/221 [==============================] - 0s 308us/step - loss: 0.4191 - acc: 0.8145 - val_loss: 0.4710 - val_acc: 0.8205\n",
      "Epoch 15/25\n",
      "221/221 [==============================] - 0s 312us/step - loss: 0.4229 - acc: 0.7919 - val_loss: 0.4639 - val_acc: 0.7949\n",
      "Epoch 16/25\n",
      "221/221 [==============================] - 0s 331us/step - loss: 0.4040 - acc: 0.8235 - val_loss: 0.4664 - val_acc: 0.8205\n",
      "Epoch 17/25\n",
      "221/221 [==============================] - 0s 281us/step - loss: 0.3876 - acc: 0.8552 - val_loss: 0.5085 - val_acc: 0.7179\n",
      "Epoch 18/25\n",
      "221/221 [==============================] - 0s 312us/step - loss: 0.3772 - acc: 0.8371 - val_loss: 0.4587 - val_acc: 0.8462\n",
      "Epoch 19/25\n",
      "221/221 [==============================] - 0s 299us/step - loss: 0.3857 - acc: 0.8235 - val_loss: 0.4600 - val_acc: 0.7949\n",
      "Epoch 20/25\n",
      "221/221 [==============================] - 0s 290us/step - loss: 0.3605 - acc: 0.8552 - val_loss: 0.4515 - val_acc: 0.7692\n",
      "Epoch 21/25\n",
      "221/221 [==============================] - 0s 317us/step - loss: 0.3436 - acc: 0.8552 - val_loss: 0.4130 - val_acc: 0.8718\n",
      "Epoch 22/25\n",
      "221/221 [==============================] - 0s 312us/step - loss: 0.4371 - acc: 0.8009 - val_loss: 0.4182 - val_acc: 0.7949\n",
      "Epoch 23/25\n",
      "221/221 [==============================] - 0s 281us/step - loss: 0.3788 - acc: 0.8145 - val_loss: 0.4275 - val_acc: 0.7692\n",
      "Epoch 24/25\n",
      "221/221 [==============================] - 0s 285us/step - loss: 0.3303 - acc: 0.8597 - val_loss: 0.4126 - val_acc: 0.7949\n",
      "Epoch 25/25\n",
      "221/221 [==============================] - 0s 299us/step - loss: 0.3861 - acc: 0.8145 - val_loss: 0.4264 - val_acc: 0.7692\n"
     ]
    }
   ],
   "source": [
    "binary_train = binary_model.fit(train_X, train_label, batch_size=batch_size,epochs=epochs,verbose=1,validation_data=(valid_X, valid_label))"
   ]
  },
  {
   "cell_type": "code",
   "execution_count": 710,
   "metadata": {},
   "outputs": [],
   "source": [
    "test_eval =binary_model.evaluate(train_X, train_label, verbose=0)"
   ]
  },
  {
   "cell_type": "code",
   "execution_count": 711,
   "metadata": {},
   "outputs": [
    {
     "name": "stdout",
     "output_type": "stream",
     "text": [
      "Test loss: 0.30450342238219075\n",
      "Test accuracy: 0.8959275999220249\n"
     ]
    }
   ],
   "source": [
    "print('Test loss:', test_eval[0])\n",
    "print('Test accuracy:', test_eval[1])"
   ]
  },
  {
   "cell_type": "code",
   "execution_count": 712,
   "metadata": {},
   "outputs": [],
   "source": [
    "from sklearn.metrics import classification_report\n",
    "predicted_classes=binary_model.predict(valid_X)\n",
    "#print(predicted_classes)"
   ]
  },
  {
   "cell_type": "code",
   "execution_count": 713,
   "metadata": {},
   "outputs": [],
   "source": [
    "predicted_classes = np.argmax(np.round(predicted_classes),axis=1)\n"
   ]
  },
  {
   "cell_type": "code",
   "execution_count": 714,
   "metadata": {},
   "outputs": [
    {
     "data": {
      "text/plain": [
       "array([0, 1, 1, 1, 1, 0, 1, 1, 1, 0, 0, 1, 0, 0, 0, 1, 1, 1, 0, 0, 0, 0,\n",
       "       0, 0, 0, 1, 0, 1, 0, 1, 1, 1, 1, 0, 1, 0, 0, 1, 0], dtype=int64)"
      ]
     },
     "execution_count": 714,
     "metadata": {},
     "output_type": "execute_result"
    }
   ],
   "source": [
    "predicted_classes\n"
   ]
  },
  {
   "cell_type": "code",
   "execution_count": 715,
   "metadata": {},
   "outputs": [],
   "source": [
    "actual= np.argmax(np.round(valid_label),axis=1)"
   ]
  },
  {
   "cell_type": "code",
   "execution_count": 716,
   "metadata": {},
   "outputs": [
    {
     "data": {
      "text/plain": [
       "array([1, 1, 0, 1, 0, 0, 0, 1, 1, 1, 0, 0, 0, 0, 0, 0, 1, 0, 0, 0, 1, 0,\n",
       "       0, 0, 0, 1, 0, 1, 0, 1, 1, 1, 1, 0, 1, 0, 0, 1, 0], dtype=int64)"
      ]
     },
     "execution_count": 716,
     "metadata": {},
     "output_type": "execute_result"
    }
   ],
   "source": [
    "actual"
   ]
  },
  {
   "cell_type": "code",
   "execution_count": 717,
   "metadata": {},
   "outputs": [
    {
     "name": "stdout",
     "output_type": "stream",
     "text": [
      "             precision    recall  f1-score   support\n",
      "\n",
      "          0       0.74      0.85      0.79        20\n",
      "          1       0.81      0.68      0.74        19\n",
      "\n",
      "avg / total       0.77      0.77      0.77        39\n",
      "\n"
     ]
    }
   ],
   "source": [
    "from sklearn.metrics import classification_report, confusion_matrix\n",
    "\n",
    "print(classification_report(predicted_classes,actual))"
   ]
  },
  {
   "cell_type": "code",
   "execution_count": 718,
   "metadata": {},
   "outputs": [],
   "source": [
    "\n",
    "def cleanData(c):\n",
    "    code=c\n",
    "    df1 = pd.DataFrame({'A':[code]})\n",
    "            \n",
    "    df1 = df1.replace('\\n',' ', regex=True)\n",
    "    df1 = df1.replace('\\t',' ', regex=True)\n",
    "    df1 = df1.replace('\\r',' ', regex=True)\n",
    "    df1 = df1.replace(',',' ', regex=True)\n",
    "    c=0\n",
    "    tmp=\"\"\n",
    "    for i in df1['A']:\n",
    "                c=0\n",
    "                aa=i.split()\n",
    "                ff=0\n",
    "                #print(aa)\n",
    "                for it in aa:\n",
    "                    if \"while\" in it:\n",
    "                        ff=1\n",
    "                        #print(\"While found at\",it)\n",
    "                    if ff==1:\n",
    "                        for xx in it:\n",
    "                            \n",
    "                            if c<=100:\n",
    "                                tmp=tmp+str(ord(xx))+' '\n",
    "                                #print(ord(xx),end=' ')\n",
    "                                c=c+1\n",
    "                    if \"lower_bound\" in it :\n",
    "                        for xx in it:\n",
    "                            \n",
    "                            if c<=100:\n",
    "                                tmp=tmp+str(ord(xx))+' '\n",
    "                                #print(ord(xx),end=' ')\n",
    "                                c=c+1\n",
    "                    if \"upper_bound\" in it :\n",
    "                        for xx in it:\n",
    "                            \n",
    "                            if c<=100:\n",
    "                                tmp=tmp+str(ord(xx))+' '\n",
    "                                #print(ord(xx),end=' ')\n",
    "                                c=c+1\n",
    "                while(c<=100):\n",
    "                    tmp=tmp+\"0 \"\n",
    "                    #print(0,end=' ')\n",
    "                    c=c+1\n",
    "                        \n",
    "               \n",
    "            \n",
    "    #print(ff)          \n",
    "    return tmp\n",
    "            \n",
    "    \n",
    "    "
   ]
  },
  {
   "cell_type": "code",
   "execution_count": 719,
   "metadata": {},
   "outputs": [],
   "source": [
    "def makeCNNReady(c):\n",
    "    tmp=[]\n",
    "    tmp=c.split()\n",
    "    aa=np.array(tmp)\n",
    "    aa=aa.astype('float32')\n",
    "    \n",
    "    aa=aa.reshape(tc,1)\n",
    "    aa=aa.reshape(-1,tc,1,1)\n",
    "    aa=aa/155\n",
    "    return aa"
   ]
  },
  {
   "cell_type": "code",
   "execution_count": 720,
   "metadata": {},
   "outputs": [],
   "source": [
    "def getPrediction(c):\n",
    "    pred=binary_model.predict(makeCNNReady(cleanData(c)))\n",
    "    print(pred)\n",
    "    #cc=np.argmax(np.round(pred),axis=1)\n",
    "    if pred[0][1]>=pred[0][0]:\n",
    "        return \"yes\"\n",
    "    else:\n",
    "        return \"no\""
   ]
  },
  {
   "cell_type": "code",
   "execution_count": 721,
   "metadata": {},
   "outputs": [],
   "source": [
    "code=\"\"\"\n",
    "#include<bits/stdc++.h>\n",
    "using namespace std;\n",
    "int main()\n",
    "{\n",
    "\n",
    "while(l<=r)\n",
    "{\n",
    "int mid=(l+r)/2;\n",
    "if(a[mid]==k)\n",
    "else if(a[mid]<k)\n",
    "r=mid-1;\n",
    "else if(a[mid]>k)\n",
    "l=mid+1;\n",
    "}\n",
    "}\n",
    "\n",
    "}\n",
    "\n",
    "\n",
    "\"\"\""
   ]
  },
  {
   "cell_type": "code",
   "execution_count": 722,
   "metadata": {},
   "outputs": [
    {
     "name": "stdout",
     "output_type": "stream",
     "text": [
      "[[0.06224575 0.9377542 ]]\n"
     ]
    },
    {
     "data": {
      "text/plain": [
       "'yes'"
      ]
     },
     "execution_count": 722,
     "metadata": {},
     "output_type": "execute_result"
    }
   ],
   "source": [
    "#cleanData(code)\n",
    "getPrediction(code)\n"
   ]
  },
  {
   "cell_type": "code",
   "execution_count": 723,
   "metadata": {},
   "outputs": [],
   "source": [
    "code=\"\"\"\n",
    "\n",
    "#include <iostream>\n",
    "#include <cstdio>\n",
    "#include <algorithm>\n",
    "#include <cstring>\n",
    "using namespace std;\n",
    "const int maxn = 2e5+8;\n",
    "int n,a[maxn],dp1[maxn],len1[maxn],dp2[maxn],h1[maxn],h2[maxn],len2[maxn];\n",
    "int main(){\n",
    "    scanf(\"%d\",&n);\n",
    "    for(int i = 1;i <= n;++i)\n",
    "        scanf(\"%d\",&a[i]),a[i] -= i;\n",
    "    int mx = 1;\n",
    "    memset(dp1,0x3f,sizeof(dp1));\n",
    "    for(int i = 1;i <= n;++i){\n",
    "        int idx = upper_bound(dp1+1,dp1+1+n,a[i]) - dp1;\n",
    "        dp1[idx] = a[i];\n",
    "        mx = max(mx,idx);\n",
    "        len1[i] = mx;\n",
    "        h1[i] = dp1[mx];\n",
    "    }\n",
    "    memset(dp2,0x3f,sizeof(dp2));\n",
    "    mx = 1;\n",
    "    for(int i = n;i >= 1;--i){\n",
    "        int idx = upper_bound(dp2+1,dp2+1+n,-a[i]-1) - dp2;\n",
    "        dp2[idx] = -a[i]-1;\n",
    "        mx = max(mx,idx);\n",
    "        len2[i] = mx;\n",
    "        h2[i] = dp2[mx];\n",
    "    }\n",
    "    dp1[0] = 0;dp2[0] = -2;\n",
    "    int ans = max(len1[n],len2[1]);\n",
    "    for(int i = 1;i <= n;++i){\n",
    "        //printf(\"i:%d len1:%d len2:%d dp1:%d dp2:%d\\n\",i,len1[i-1],len2[i+1],h1[i-1],h2[i+1]);\n",
    "        if(h1[i-1] <= -h2[i+1]){\n",
    "            ans = max(ans,len1[i-1]+len2[i+1]);\n",
    "        }\n",
    "    }\n",
    "    cout<<max(0,n-1-ans)<<endl;\n",
    "    return 0;\n",
    "}\n",
    "\n",
    "\n",
    "\n",
    "\n",
    "\n",
    "\n",
    "\n",
    "\n",
    "\"\"\""
   ]
  },
  {
   "cell_type": "code",
   "execution_count": 724,
   "metadata": {},
   "outputs": [
    {
     "name": "stdout",
     "output_type": "stream",
     "text": [
      "[[0.16536406 0.834636  ]]\n"
     ]
    },
    {
     "data": {
      "text/plain": [
       "'yes'"
      ]
     },
     "execution_count": 724,
     "metadata": {},
     "output_type": "execute_result"
    }
   ],
   "source": [
    "getPrediction(code)"
   ]
  },
  {
   "cell_type": "code",
   "execution_count": 725,
   "metadata": {},
   "outputs": [],
   "source": [
    "code=\"\"\"\n",
    "#include<bits/stdc++.h>\n",
    "using namespace std;\n",
    "int main()\n",
    "{\n",
    "\n",
    "while(t--)\n",
    "{\n",
    "cin>>n;\n",
    "if(n%2==0)\n",
    "cout<<\"Even\"<<endl;\n",
    "else\n",
    "cout<<\"Odd\"<<endl;\n",
    "\n",
    "}\n",
    "}\n",
    "\n",
    "\"\"\"\n",
    "\n"
   ]
  },
  {
   "cell_type": "code",
   "execution_count": 726,
   "metadata": {},
   "outputs": [
    {
     "name": "stdout",
     "output_type": "stream",
     "text": [
      "[[0.7468583  0.25314164]]\n"
     ]
    },
    {
     "data": {
      "text/plain": [
       "'no'"
      ]
     },
     "execution_count": 726,
     "metadata": {},
     "output_type": "execute_result"
    }
   ],
   "source": [
    "getPrediction(code)"
   ]
  },
  {
   "cell_type": "code",
   "execution_count": 727,
   "metadata": {},
   "outputs": [],
   "source": [
    "code=\"\"\"\n",
    "\n",
    "#include<bits/stdc++.h>\n",
    "using namespace std;\n",
    "int main()\n",
    "{\n",
    "int t,n,k,i,x;\n",
    "cin>>t;\n",
    "while(t--)\n",
    "{\n",
    "cin>>n>>k;\n",
    "x=0;\n",
    "for(i=0;i<n;i++)\n",
    "{\n",
    "cin>>a[i];\n",
    "if(a[i]%2==0)\n",
    "x=1;\n",
    "}\n",
    "\n",
    "\n",
    "\n",
    "}\n",
    "\n",
    "}\n",
    "\n",
    "\n",
    "\n",
    "\n",
    "\"\"\""
   ]
  },
  {
   "cell_type": "code",
   "execution_count": 728,
   "metadata": {},
   "outputs": [
    {
     "name": "stdout",
     "output_type": "stream",
     "text": [
      "[[0.82901704 0.170983  ]]\n",
      "no\n"
     ]
    }
   ],
   "source": [
    "#print(cleanData(code))\n",
    "print(getPrediction(code))\n"
   ]
  },
  {
   "cell_type": "code",
   "execution_count": null,
   "metadata": {},
   "outputs": [],
   "source": [
    "\n",
    "        \n",
    "        "
   ]
  },
  {
   "cell_type": "code",
   "execution_count": 729,
   "metadata": {},
   "outputs": [],
   "source": [
    "tt=makeCNNReady(cleanData(code))\n"
   ]
  },
  {
   "cell_type": "code",
   "execution_count": 730,
   "metadata": {},
   "outputs": [
    {
     "data": {
      "text/plain": [
       "(1, 101, 1, 1)"
      ]
     },
     "execution_count": 730,
     "metadata": {},
     "output_type": "execute_result"
    }
   ],
   "source": [
    "tt.shape"
   ]
  },
  {
   "cell_type": "code",
   "execution_count": 731,
   "metadata": {},
   "outputs": [],
   "source": [
    "tt=tt/155"
   ]
  },
  {
   "cell_type": "code",
   "execution_count": null,
   "metadata": {},
   "outputs": [],
   "source": [
    "\n",
    "    "
   ]
  },
  {
   "cell_type": "code",
   "execution_count": 732,
   "metadata": {},
   "outputs": [
    {
     "name": "stdout",
     "output_type": "stream",
     "text": [
      "[[0.82901704 0.170983  ]]\n"
     ]
    },
    {
     "data": {
      "text/plain": [
       "'no'"
      ]
     },
     "execution_count": 732,
     "metadata": {},
     "output_type": "execute_result"
    }
   ],
   "source": [
    "getPrediction(code)"
   ]
  },
  {
   "cell_type": "code",
   "execution_count": 733,
   "metadata": {},
   "outputs": [
    {
     "name": "stdout",
     "output_type": "stream",
     "text": [
      "\n",
      "\n",
      "#include<bits/stdc++.h>\n",
      "using namespace std;\n",
      "int main()\n",
      "{\n",
      "int t,n,k,i,x;\n",
      "cin>>t;\n",
      "while(t--)\n",
      "{\n",
      "cin>>n>>k;\n",
      "x=0;\n",
      "for(i=0;i<n;i++)\n",
      "{\n",
      "cin>>a[i];\n",
      "if(a[i]%2==0)\n",
      "x=1;\n",
      "}\n",
      "\n",
      "\n",
      "\n",
      "}\n",
      "\n",
      "}\n",
      "\n",
      "\n",
      "\n",
      "\n",
      "\n"
     ]
    }
   ],
   "source": [
    "print(code)"
   ]
  },
  {
   "cell_type": "code",
   "execution_count": 734,
   "metadata": {},
   "outputs": [
    {
     "name": "stdout",
     "output_type": "stream",
     "text": [
      "[[0.82901704 0.170983  ]]\n"
     ]
    },
    {
     "data": {
      "text/plain": [
       "'no'"
      ]
     },
     "execution_count": 734,
     "metadata": {},
     "output_type": "execute_result"
    }
   ],
   "source": [
    "#x=makeCNNReady(cleanData(code))\n",
    "#print(x)\n",
    "getPrediction(code)"
   ]
  },
  {
   "cell_type": "code",
   "execution_count": 735,
   "metadata": {},
   "outputs": [],
   "source": [
    "code=\"\"\"\n",
    "\n",
    "#include<bits/stdc++.h>\n",
    "using namespace std;\n",
    "int main()\n",
    "{\n",
    "        ios_base::sync_with_stdio(0);\n",
    "        cin.tie(0);\n",
    "        cout.tie(0);\n",
    "        cin>>n>>k;\n",
    "        for(i=0;i<n;i++)\n",
    "        cin>>a[i];\n",
    "        while(i<n)\n",
    "        {\n",
    "            if(a[i]==k)\n",
    "            {\n",
    "                cout<<i<<endl;\n",
    "                break;\n",
    "            }\n",
    "            i++;\n",
    "        }\n",
    "        \n",
    "        \n",
    "}\n",
    "\n",
    "\n",
    "\n",
    "\n",
    "\n",
    "\n",
    "\"\"\"\n"
   ]
  },
  {
   "cell_type": "code",
   "execution_count": 736,
   "metadata": {},
   "outputs": [
    {
     "data": {
      "text/plain": [
       "'119 104 105 108 101 40 105 60 110 41 123 105 102 40 97 91 105 93 61 61 107 41 123 99 111 117 116 60 60 105 60 60 101 110 100 108 59 98 114 101 97 107 59 125 105 43 43 59 125 125 0 0 0 0 0 0 0 0 0 0 0 0 0 0 0 0 0 0 0 0 0 0 0 0 0 0 0 0 0 0 0 0 0 0 0 0 0 0 0 0 0 0 0 0 0 0 0 0 0 0 0 '"
      ]
     },
     "execution_count": 736,
     "metadata": {},
     "output_type": "execute_result"
    }
   ],
   "source": [
    "cleanData(code)"
   ]
  },
  {
   "cell_type": "code",
   "execution_count": 737,
   "metadata": {},
   "outputs": [
    {
     "name": "stdout",
     "output_type": "stream",
     "text": [
      "[[0.7084807  0.29151928]]\n"
     ]
    },
    {
     "data": {
      "text/plain": [
       "'no'"
      ]
     },
     "execution_count": 737,
     "metadata": {},
     "output_type": "execute_result"
    }
   ],
   "source": [
    "getPrediction(code)"
   ]
  },
  {
   "cell_type": "code",
   "execution_count": null,
   "metadata": {},
   "outputs": [],
   "source": []
  }
 ],
 "metadata": {
  "kernelspec": {
   "display_name": "Python 3",
   "language": "python",
   "name": "python3"
  },
  "language_info": {
   "codemirror_mode": {
    "name": "ipython",
    "version": 3
   },
   "file_extension": ".py",
   "mimetype": "text/x-python",
   "name": "python",
   "nbconvert_exporter": "python",
   "pygments_lexer": "ipython3",
   "version": "3.6.2"
  }
 },
 "nbformat": 4,
 "nbformat_minor": 2
}
